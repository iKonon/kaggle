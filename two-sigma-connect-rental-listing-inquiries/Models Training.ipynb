{
 "cells": [
  {
   "cell_type": "markdown",
   "metadata": {},
   "source": [
    "# Data Preparation"
   ]
  },
  {
   "cell_type": "code",
   "execution_count": 1,
   "metadata": {
    "collapsed": false
   },
   "outputs": [
    {
     "name": "stderr",
     "output_type": "stream",
     "text": [
      "/Users/ikononenko/tensorflow/lib/python2.7/site-packages/sklearn/cross_validation.py:44: DeprecationWarning: This module was deprecated in version 0.18 in favor of the model_selection module into which all the refactored classes and functions are moved. Also note that the interface of the new CV iterators are different from that of this module. This module will be removed in 0.20.\n",
      "  \"This module will be removed in 0.20.\", DeprecationWarning)\n",
      "/Users/ikononenko/tensorflow/lib/python2.7/site-packages/sklearn/grid_search.py:43: DeprecationWarning: This module was deprecated in version 0.18 in favor of the model_selection module into which all the refactored classes and functions are moved. This module will be removed in 0.20.\n",
      "  DeprecationWarning)\n"
     ]
    }
   ],
   "source": [
    "import pandas as pd\n",
    "import numpy as np\n",
    "import itertools\n",
    "\n",
    "import matplotlib.pyplot as plt\n",
    "import seaborn as sns\n",
    "#color = sns.color_palette()\n",
    "#sns.palplot(sns.color_palette('colorblind'))\n",
    "sns.set_palette('colorblind')\n",
    "\n",
    "%matplotlib inline\n",
    "\n",
    "from nltk.stem import WordNetLemmatizer\n",
    "from nltk.stem.porter import PorterStemmer\n",
    "\n",
    "# feature extraction\n",
    "from sklearn.feature_extraction.text import CountVectorizer, TfidfVectorizer\n",
    "\n",
    "# cross validation \n",
    "from sklearn.model_selection import train_test_split, StratifiedKFold\n",
    "\n",
    "# hyper-parameter tuning\n",
    "from sklearn.grid_search import GridSearchCV\n",
    "\n",
    "# preprocessing\n",
    "from sklearn.preprocessing import StandardScaler, Normalizer, LabelEncoder, OneHotEncoder\n",
    "\n",
    "# models\n",
    "from sklearn.dummy import DummyRegressor\n",
    "from sklearn.ensemble import RandomForestClassifier\n",
    "\n",
    "# pipeline\n",
    "from sklearn.pipeline import Pipeline\n",
    "\n",
    "# metrics\n",
    "from sklearn.metrics import (classification_report, confusion_matrix, accuracy_score, log_loss, \n",
    "                             brier_score_loss, precision_score, recall_score, f1_score, make_scorer)\n",
    "\n",
    "from sklearn.feature_selection import SelectFromModel\n",
    "from sklearn.calibration import CalibratedClassifierCV, calibration_curve\n",
    "from sklearn.decomposition import PCA"
   ]
  },
  {
   "cell_type": "code",
   "execution_count": 2,
   "metadata": {
    "collapsed": true
   },
   "outputs": [],
   "source": [
    "import unicodedata\n",
    "import re\n",
    "\n",
    "def remove_accents(input_str):\n",
    "    nfkd_form = unicodedata.normalize('NFKD', unicode(input_str))\n",
    "    only_ascii = nfkd_form.encode('ASCII', 'ignore')\n",
    "    return only_ascii\n"
   ]
  },
  {
   "cell_type": "code",
   "execution_count": 3,
   "metadata": {
    "collapsed": true
   },
   "outputs": [],
   "source": [
    "# taken from http://scikit-learn.org/stable/auto_examples/model_selection/plot_confusion_matrix.html\n",
    "def plot_confusion_matrix(cm, classes,\n",
    "                          normalize=False,\n",
    "                          title='Confusion matrix',\n",
    "                          cmap=plt.cm.Blues):\n",
    "    \"\"\"\n",
    "    This function prints and plots the confusion matrix.\n",
    "    Normalization can be applied by setting `normalize=True`.\n",
    "    \"\"\"\n",
    "    plt.imshow(cm, interpolation='nearest', cmap=cmap)\n",
    "    plt.title(title)\n",
    "    plt.colorbar()\n",
    "    tick_marks = np.arange(len(classes))\n",
    "    plt.xticks(tick_marks, classes, rotation=45)\n",
    "    plt.yticks(tick_marks, classes)\n",
    "\n",
    "    if normalize:\n",
    "        cm = cm.astype('float') / cm.sum(axis=1)[:, np.newaxis]\n",
    "        print(\"Normalized confusion matrix\")\n",
    "    else:\n",
    "        print('Confusion matrix, without normalization')\n",
    "\n",
    "    print(cm)\n",
    "\n",
    "    thresh = cm.max() / 2.\n",
    "    for i, j in itertools.product(range(cm.shape[0]), range(cm.shape[1])):\n",
    "        plt.text(j, i, cm[i, j],\n",
    "                 horizontalalignment=\"center\",\n",
    "                 color=\"white\" if cm[i, j] > thresh else \"black\")\n",
    "\n",
    "    plt.tight_layout()\n",
    "    plt.ylabel('True label')\n",
    "    plt.xlabel('Predicted label')\n",
    "    "
   ]
  },
  {
   "cell_type": "code",
   "execution_count": 4,
   "metadata": {
    "collapsed": true
   },
   "outputs": [],
   "source": [
    "# taken from http://scikit-learn.org/stable/auto_examples/ensemble/plot_forest_importances.html\n",
    "def plot_forest_importances(clf):\n",
    "    importances = clf.feature_importances_\n",
    "\n",
    "    important_names = my_features[importances > np.mean(importances)]\n",
    "    print important_names\n",
    "\n",
    "    std = np.std([tree.feature_importances_ for tree in clf.estimators_],\n",
    "                 axis=0)\n",
    "    indices = np.argsort(importances)[::-1]\n",
    "\n",
    "    # Print the feature ranking\n",
    "    print(\"Feature ranking:\")\n",
    "\n",
    "    for f in range(X_test.shape[1]):\n",
    "        print(\"%d. feature %d (%f)\" % (f + 1, indices[f], importances[indices[f]]))\n",
    "\n",
    "    # Plot the feature importances of the forest\n",
    "    plt.figure(figsize=(10,10))\n",
    "    plt.title(\"Feature importances\")\n",
    "    plt.bar(range(X_test.shape[1]), importances[indices], yerr=std[indices], align=\"center\")\n",
    "    plt.xticks(range(X.shape[1]), my_features[indices], rotation=90)\n",
    "    plt.xlim([-1, X_test.shape[1]])\n",
    "    plt.show()\n"
   ]
  },
  {
   "cell_type": "code",
   "execution_count": 5,
   "metadata": {
    "collapsed": false
   },
   "outputs": [],
   "source": [
    "train_df = pd.read_json('train.json').reset_index(drop=True)\n",
    "test_df = pd.read_json('test.json').reset_index(drop=True)\n",
    "\n",
    "train_df['test'] = False\n",
    "test_df['test'] = True\n",
    "\n",
    "df = train_df.append(test_df).reset_index(drop=True)"
   ]
  },
  {
   "cell_type": "code",
   "execution_count": 6,
   "metadata": {
    "collapsed": true
   },
   "outputs": [],
   "source": [
    "df.bathrooms = df.bathrooms.map(lambda b: b if b < 10 else 0)\n",
    "df.bedrooms = df.bedrooms.map(lambda b: b if b < 10 else 0)"
   ]
  },
  {
   "cell_type": "code",
   "execution_count": 7,
   "metadata": {
    "collapsed": false
   },
   "outputs": [],
   "source": [
    "df['bathrooms_as_int'] = df.bathrooms.round(0) # df.bathrooms.astype(int) # 1.5 -> 1"
   ]
  },
  {
   "cell_type": "code",
   "execution_count": 8,
   "metadata": {
    "collapsed": true
   },
   "outputs": [],
   "source": [
    "(lat_min, lat_max), lat_mean = np.percentile(df.latitude, [0.1, 99.9]).tolist(), np.mean(df.latitude)\n",
    "(lon_min, lon_max), lon_mean = np.percentile(df.longitude, [0.1, 99.9]).tolist(), np.mean(df.longitude)\n",
    "\n",
    "df.latitude = np.where(df.latitude < lat_min, lat_min, df.latitude)\n",
    "df.latitude = np.where(df.latitude > lat_max, lat_max, df.latitude)\n",
    "\n",
    "df.longitude = np.where(df.longitude < lon_min, lon_min, df.longitude)\n",
    "df.longitude = np.where(df.longitude > lon_max, lon_max, df.longitude)"
   ]
  },
  {
   "cell_type": "code",
   "execution_count": 9,
   "metadata": {
    "collapsed": false
   },
   "outputs": [],
   "source": [
    "df['price_log'] = np.log(df.price)"
   ]
  },
  {
   "cell_type": "code",
   "execution_count": 10,
   "metadata": {
    "collapsed": true
   },
   "outputs": [],
   "source": [
    "price_max = np.percentile(df.price, 99).tolist()\n",
    "df.price = np.where(df.price > price_max, price_max, df.price)"
   ]
  },
  {
   "cell_type": "code",
   "execution_count": 11,
   "metadata": {
    "collapsed": true
   },
   "outputs": [],
   "source": [
    "def clean_addresses(input_str):\n",
    "    hexadecimals = re.compile('[^a-zA-Z0-9 ]').sub(' ', input_str).lower()\n",
    "    \n",
    "    hexadecimals = hexadecimals.replace(' avenue', ' ave').replace(' boulevard', ' blvd')\\\n",
    "        .replace(' street', ' st').replace(' road', ' rd')\\\n",
    "        .replace(' south', ' s').replace(' north', ' n').replace(' east', ' e').replace(' west', ' w')\\\n",
    "        .replace('south ', 's ').replace('north ', 'n ').replace('east ', 'e ').replace('west ', 'w ')\\\n",
    "        .split(\" \")\n",
    "    \n",
    "    return \" \".join([x.strip() for x in hexadecimals if x != ''])"
   ]
  },
  {
   "cell_type": "code",
   "execution_count": 12,
   "metadata": {
    "collapsed": true
   },
   "outputs": [],
   "source": [
    "df['street_address_ascii'] = [remove_accents(line) for line in df.street_address] \n",
    "df['street_address_clean'] = df.street_address_ascii.apply(clean_addresses)"
   ]
  },
  {
   "cell_type": "code",
   "execution_count": 13,
   "metadata": {
    "collapsed": false
   },
   "outputs": [],
   "source": [
    "bldg_id_counts = df.building_id.value_counts()\n",
    "df['listings_in_bldg'] = df.building_id.map(lambda b: bldg_id_counts[b] if b != '0' else 1)\n",
    "\n",
    "df.loc[df.interest_level == 'low', 'listings_in_bldg'] = 0\n",
    "df.loc[df.interest_level == 'medium', 'listings_in_bldg'] = 0"
   ]
  },
  {
   "cell_type": "code",
   "execution_count": 14,
   "metadata": {
    "collapsed": true
   },
   "outputs": [],
   "source": [
    "manager_id_counts = df.manager_id.value_counts()\n",
    "df['listings_per_manager'] = df.manager_id.map(lambda b: manager_id_counts[b] if b != '0' else 1)\n",
    "\n",
    "df.loc[df.interest_level == 'low', 'listings_per_manager'] = 0\n",
    "df.loc[df.interest_level == 'medium', 'listings_per_manager'] = 0"
   ]
  },
  {
   "cell_type": "code",
   "execution_count": 15,
   "metadata": {
    "collapsed": true
   },
   "outputs": [],
   "source": [
    "def do_lem(str):\n",
    "    return \" \".join([WordNetLemmatizer().lemmatize(word) for word in str.split(\" \")])\n",
    "\n",
    "def do_stem(str):\n",
    "    return \" \".join([PorterStemmer().stem(word) for word in str.split(\" \")])"
   ]
  },
  {
   "cell_type": "code",
   "execution_count": 16,
   "metadata": {
    "collapsed": false
   },
   "outputs": [],
   "source": [
    "df['description_clean'] = df.description.apply(lambda alist: remove_accents(alist))\n",
    "\n",
    "df.description_clean = [re.sub(r'[()?!@#$%^&*-;\\'\\\"]', \"\", line).replace(\",\",\" \")\\\n",
    "                                 .replace(\"<br >\", \"\").replace(\"<br />\",\"\").replace(\"<p>\",\"\").replace(\"</p>\",\"\")\\\n",
    "                                 .replace(\"<a  website_redacted\", \"\")\\\n",
    "                                 .replace(\"apartment\", \"\").replace(\"bedroom\", \"\").replace(\"bathroom\", \"\")\n",
    "                                 .lower().strip() for line in df.description_clean]\n",
    "\n",
    "df.description_clean = [re.sub(re.compile(r'\\s+'), \" \", line) for line in df.description_clean]\n",
    "df.description_clean = [do_lem(line) for line in df.description_clean]"
   ]
  },
  {
   "cell_type": "code",
   "execution_count": 17,
   "metadata": {
    "collapsed": false
   },
   "outputs": [],
   "source": [
    "def clean_features(alist):\n",
    "    return [unicode(x).lower().strip('!@#$%^&*()-_+=;,./\\\\\\'\\t').replace(' ', '').replace('-','') for x in alist if len(alist)>0 and isinstance(alist, list)]"
   ]
  },
  {
   "cell_type": "code",
   "execution_count": 18,
   "metadata": {
    "collapsed": false
   },
   "outputs": [],
   "source": [
    "df['features_clean'] = df.features.apply(lambda alist: clean_features(alist))"
   ]
  },
  {
   "cell_type": "code",
   "execution_count": 19,
   "metadata": {
    "collapsed": true
   },
   "outputs": [],
   "source": [
    "df['num_photos'] = df.photos.apply(len)\n",
    "df['num_features'] = df.features.apply(len)\n",
    "df['description_size'] = df.description.apply(lambda x: len(x.split(\" \")))"
   ]
  },
  {
   "cell_type": "code",
   "execution_count": 20,
   "metadata": {
    "collapsed": false
   },
   "outputs": [],
   "source": [
    "df['created'] = pd.to_datetime(df.created)\n",
    "df['month'] = df.created.dt.month\n",
    "df['week'] = df.created.dt.week\n",
    "df['hod'] = df.created.dt.hour\n",
    "df['dow'] = df.created.dt.dayofweek"
   ]
  },
  {
   "cell_type": "code",
   "execution_count": 21,
   "metadata": {
    "collapsed": true
   },
   "outputs": [],
   "source": [
    "df['hod_shifted'] = df.created.dt.tz_localize('utc').dt.tz_convert('US/Pacific').dt.hour"
   ]
  },
  {
   "cell_type": "code",
   "execution_count": null,
   "metadata": {
    "collapsed": true
   },
   "outputs": [],
   "source": [
    "df['price_per_room'] = (df.price / df.bedrooms).fillna(0).replace(np.inf,0)\n",
    "df['price_per_bath'] = (df.price / df.bathrooms).fillna(0).replace(np.inf,0)"
   ]
  },
  {
   "cell_type": "code",
   "execution_count": 22,
   "metadata": {
    "collapsed": false
   },
   "outputs": [],
   "source": [
    "df['bb_combined'] = df.bathrooms + df.bedrooms\n",
    "df['price_per_bb'] = (df.price / df.bb_combined).fillna(0).replace(np.inf,0)"
   ]
  },
  {
   "cell_type": "code",
   "execution_count": 23,
   "metadata": {
    "collapsed": false
   },
   "outputs": [
    {
     "data": {
      "text/html": [
       "<div>\n",
       "<table border=\"1\" class=\"dataframe\">\n",
       "  <thead>\n",
       "    <tr style=\"text-align: right;\">\n",
       "      <th></th>\n",
       "      <th>bathrooms</th>\n",
       "      <th>bedrooms</th>\n",
       "      <th>building_id</th>\n",
       "      <th>created</th>\n",
       "      <th>description</th>\n",
       "      <th>display_address</th>\n",
       "      <th>features</th>\n",
       "      <th>interest_level</th>\n",
       "      <th>latitude</th>\n",
       "      <th>listing_id</th>\n",
       "      <th>...</th>\n",
       "      <th>week</th>\n",
       "      <th>hod</th>\n",
       "      <th>dow</th>\n",
       "      <th>hod_shifted</th>\n",
       "      <th>bb_combined</th>\n",
       "      <th>price_per_room</th>\n",
       "      <th>price_per_bath</th>\n",
       "      <th>city</th>\n",
       "      <th>county</th>\n",
       "      <th>neighbourhood</th>\n",
       "    </tr>\n",
       "  </thead>\n",
       "  <tbody>\n",
       "    <tr>\n",
       "      <th>0</th>\n",
       "      <td>1.5</td>\n",
       "      <td>3</td>\n",
       "      <td>53a5b119ba8f7b61d4e010512e0dfc85</td>\n",
       "      <td>2016-06-24 07:54:24</td>\n",
       "      <td>A Brand New 3 Bedroom 1.5 bath ApartmentEnjoy ...</td>\n",
       "      <td>Metropolitan Avenue</td>\n",
       "      <td>[]</td>\n",
       "      <td>medium</td>\n",
       "      <td>40.7145</td>\n",
       "      <td>7211212</td>\n",
       "      <td>...</td>\n",
       "      <td>25</td>\n",
       "      <td>7</td>\n",
       "      <td>4</td>\n",
       "      <td>0</td>\n",
       "      <td>4.5</td>\n",
       "      <td>1000.0</td>\n",
       "      <td>2000.0</td>\n",
       "      <td>New York</td>\n",
       "      <td>Queens County</td>\n",
       "      <td>Long Island City</td>\n",
       "    </tr>\n",
       "    <tr>\n",
       "      <th>1</th>\n",
       "      <td>1.0</td>\n",
       "      <td>2</td>\n",
       "      <td>c5c8a357cba207596b04d1afd1e4f130</td>\n",
       "      <td>2016-06-12 12:19:27</td>\n",
       "      <td></td>\n",
       "      <td>Columbus Avenue</td>\n",
       "      <td>[Doorman, Elevator, Fitness Center, Cats Allow...</td>\n",
       "      <td>low</td>\n",
       "      <td>40.7947</td>\n",
       "      <td>7150865</td>\n",
       "      <td>...</td>\n",
       "      <td>23</td>\n",
       "      <td>12</td>\n",
       "      <td>6</td>\n",
       "      <td>5</td>\n",
       "      <td>3.0</td>\n",
       "      <td>2732.5</td>\n",
       "      <td>5465.0</td>\n",
       "      <td>New York</td>\n",
       "      <td>New York County</td>\n",
       "      <td>Manhattan</td>\n",
       "    </tr>\n",
       "    <tr>\n",
       "      <th>2</th>\n",
       "      <td>1.0</td>\n",
       "      <td>1</td>\n",
       "      <td>c3ba40552e2120b0acfc3cb5730bb2aa</td>\n",
       "      <td>2016-04-17 03:26:41</td>\n",
       "      <td>Top Top West Village location, beautiful Pre-w...</td>\n",
       "      <td>W 13 Street</td>\n",
       "      <td>[Laundry In Building, Dishwasher, Hardwood Flo...</td>\n",
       "      <td>high</td>\n",
       "      <td>40.7388</td>\n",
       "      <td>6887163</td>\n",
       "      <td>...</td>\n",
       "      <td>15</td>\n",
       "      <td>3</td>\n",
       "      <td>6</td>\n",
       "      <td>20</td>\n",
       "      <td>2.0</td>\n",
       "      <td>2850.0</td>\n",
       "      <td>2850.0</td>\n",
       "      <td>New York</td>\n",
       "      <td>NaN</td>\n",
       "      <td>New York City</td>\n",
       "    </tr>\n",
       "  </tbody>\n",
       "</table>\n",
       "<p>3 rows × 38 columns</p>\n",
       "</div>"
      ],
      "text/plain": [
       "   bathrooms  bedrooms                       building_id             created  \\\n",
       "0        1.5         3  53a5b119ba8f7b61d4e010512e0dfc85 2016-06-24 07:54:24   \n",
       "1        1.0         2  c5c8a357cba207596b04d1afd1e4f130 2016-06-12 12:19:27   \n",
       "2        1.0         1  c3ba40552e2120b0acfc3cb5730bb2aa 2016-04-17 03:26:41   \n",
       "\n",
       "                                         description      display_address  \\\n",
       "0  A Brand New 3 Bedroom 1.5 bath ApartmentEnjoy ...  Metropolitan Avenue   \n",
       "1                                                         Columbus Avenue   \n",
       "2  Top Top West Village location, beautiful Pre-w...          W 13 Street   \n",
       "\n",
       "                                            features interest_level  latitude  \\\n",
       "0                                                 []         medium   40.7145   \n",
       "1  [Doorman, Elevator, Fitness Center, Cats Allow...            low   40.7947   \n",
       "2  [Laundry In Building, Dishwasher, Hardwood Flo...           high   40.7388   \n",
       "\n",
       "   listing_id        ...         week hod dow  hod_shifted bb_combined  \\\n",
       "0     7211212        ...           25   7   4            0         4.5   \n",
       "1     7150865        ...           23  12   6            5         3.0   \n",
       "2     6887163        ...           15   3   6           20         2.0   \n",
       "\n",
       "  price_per_room  price_per_bath      city           county     neighbourhood  \n",
       "0         1000.0          2000.0  New York    Queens County  Long Island City  \n",
       "1         2732.5          5465.0  New York  New York County         Manhattan  \n",
       "2         2850.0          2850.0  New York              NaN     New York City  \n",
       "\n",
       "[3 rows x 38 columns]"
      ]
     },
     "execution_count": 23,
     "metadata": {},
     "output_type": "execute_result"
    }
   ],
   "source": [
    "geocoded_addresses = pd.read_csv('geocoded_addresses.csv', header=0, names=['city', 'county', 'country', 'lat', 'lon', 'neighbourhood', 'listing_id'])\n",
    "geocoded_addresses.set_index([df.listing_id])\n",
    "\n",
    "df = pd.concat([df, geocoded_addresses[['city','county','neighbourhood']]], axis=1)\n",
    "df.head(3)"
   ]
  },
  {
   "cell_type": "markdown",
   "metadata": {},
   "source": [
    "### Categorical features\n",
    "\n",
    "Useful reading:\n",
    "\n",
    "- http://www.willmcginnis.com/2015/11/29/beyond-one-hot-an-exploration-of-categorical-variables/\n",
    "- https://roamanalytics.com/2016/10/28/are-categorical-variables-getting-lost-in-your-random-forests/\n"
   ]
  },
  {
   "cell_type": "code",
   "execution_count": 24,
   "metadata": {
    "collapsed": true
   },
   "outputs": [],
   "source": [
    "dummies = pd.get_dummies(df['month']).rename(columns=lambda x: 'month_' + str(x))\n",
    "df = pd.concat([df, dummies], axis=1)"
   ]
  },
  {
   "cell_type": "code",
   "execution_count": 25,
   "metadata": {
    "collapsed": true
   },
   "outputs": [],
   "source": [
    "dummies = pd.get_dummies(df['week']).rename(columns=lambda x: 'week_' + str(x))\n",
    "df = pd.concat([df, dummies], axis=1)"
   ]
  },
  {
   "cell_type": "code",
   "execution_count": 26,
   "metadata": {
    "collapsed": true
   },
   "outputs": [],
   "source": [
    "dummies = pd.get_dummies(df['dow']).rename(columns=lambda x: 'day_' + str(x))\n",
    "df = pd.concat([df, dummies], axis=1)"
   ]
  },
  {
   "cell_type": "code",
   "execution_count": 27,
   "metadata": {
    "collapsed": false
   },
   "outputs": [],
   "source": [
    "dummies = pd.get_dummies(df['neighbourhood']).rename(columns=lambda x: str(x))\n",
    "df = pd.concat([df, dummies], axis=1)\n",
    "#df = df.drop(['neighbourhood'], inplace=True, axis=1)"
   ]
  },
  {
   "cell_type": "code",
   "execution_count": 28,
   "metadata": {
    "collapsed": false
   },
   "outputs": [
    {
     "data": {
      "text/plain": [
       "array(['Long Island City', 'Manhattan', 'New York City', 'Edgewater',\n",
       "       'Inwood', 'Guttenberg', 'Weehawken', 'Borough of Queens',\n",
       "       'Brooklyn', 'Lake Success', 'Hoboken', 'Bensonhurst',\n",
       "       'Coney Island', 'East Atlantic Beach', 'East New York', 'Larchmont',\n",
       "       'Jamaica', 'Fort Lee', 'The Bronx', 'Atlantic Beach', 'Yonkers',\n",
       "       'Eastchester', 'West New York', 'Bellerose Terrace', 'Union City',\n",
       "       'South Valley Stream', 'Moonachie', 'Hackensack', 'Pelham Manor',\n",
       "       'New Rochelle', 'Ridgefield', 'Cliffside Park',\n",
       "       'University Gardens', 'Fairview', 'Secaucus'], dtype=object)"
      ]
     },
     "execution_count": 28,
     "metadata": {},
     "output_type": "execute_result"
    }
   ],
   "source": [
    "df.neighbourhood.unique()"
   ]
  },
  {
   "cell_type": "markdown",
   "metadata": {},
   "source": [
    "### Features choosing"
   ]
  },
  {
   "cell_type": "markdown",
   "metadata": {},
   "source": [
    "['bathrooms_as_int', 'bedrooms', 'latitude', 'longitude', 'price_log', 'listings_in_bldg', 'listings_per_manager', 'num_photos', 'num_features', 'description_size', 'hod', 'dow']\n",
    "\n",
    "Score: 0.729511\n",
    "\n",
    "Log-loss: 0.604222\n",
    "\n",
    "Main features: ['latitude' 'longitude' 'price_log' 'listings_in_bldg' 'listings_per_manager' 'description_size']"
   ]
  },
  {
   "cell_type": "markdown",
   "metadata": {},
   "source": [
    "['bathrooms_as_int', 'bedrooms', 'price_log', \n",
    "                        'listings_in_bldg', 'listings_per_manager', \n",
    "                        'num_photos', 'num_features', 'description_size', \n",
    "                        'month_4', 'month_5', 'month_6', \n",
    "                        'week_14', 'week_15', 'week_19', 'week_20', 'week_16', \n",
    "                        'dow', 'hod_shifted',\n",
    "                        'Long Island City', 'Manhattan', 'New York City']\n",
    "                        \n",
    "Score: 0.724648\n",
    "\n",
    "Log-loss: 0.614049\n",
    "\n",
    "Main features: ['price_log' 'listings_in_bldg' 'listings_per_manager' 'num_photos'\n",
    " 'num_features' 'description_size' 'dow' 'hod_shifted']"
   ]
  },
  {
   "cell_type": "code",
   "execution_count": 29,
   "metadata": {
    "collapsed": false
   },
   "outputs": [
    {
     "data": {
      "text/plain": [
       "Index([           u'bathrooms',             u'bedrooms',\n",
       "                u'building_id',              u'created',\n",
       "                u'description',      u'display_address',\n",
       "                   u'features',       u'interest_level',\n",
       "                   u'latitude',           u'listing_id',\n",
       "                  u'longitude',           u'manager_id',\n",
       "                     u'photos',                u'price',\n",
       "             u'street_address',                 u'test',\n",
       "           u'bathrooms_as_int',            u'price_log',\n",
       "       u'street_address_ascii', u'street_address_clean',\n",
       "           u'listings_in_bldg', u'listings_per_manager',\n",
       "          u'description_clean',       u'features_clean',\n",
       "                 u'num_photos',         u'num_features',\n",
       "           u'description_size',                u'month',\n",
       "                       u'week',                  u'hod',\n",
       "                        u'dow',          u'hod_shifted',\n",
       "                u'bb_combined',       u'price_per_room',\n",
       "             u'price_per_bath',                 u'city',\n",
       "                     u'county',        u'neighbourhood',\n",
       "                    u'month_4',              u'month_5',\n",
       "                    u'month_6',              u'week_13',\n",
       "                    u'week_14',              u'week_15',\n",
       "                    u'week_16',              u'week_17',\n",
       "                    u'week_18',              u'week_19',\n",
       "                    u'week_20',              u'week_21',\n",
       "                    u'week_22',              u'week_23',\n",
       "                    u'week_24',              u'week_25',\n",
       "                    u'week_26',                u'day_0',\n",
       "                      u'day_1',                u'day_2',\n",
       "                      u'day_3',                u'day_4',\n",
       "                      u'day_5',                u'day_6',\n",
       "             u'Atlantic Beach',    u'Bellerose Terrace',\n",
       "                u'Bensonhurst',    u'Borough of Queens',\n",
       "                   u'Brooklyn',       u'Cliffside Park',\n",
       "               u'Coney Island',  u'East Atlantic Beach',\n",
       "              u'East New York',          u'Eastchester',\n",
       "                  u'Edgewater',             u'Fairview',\n",
       "                   u'Fort Lee',           u'Guttenberg',\n",
       "                 u'Hackensack',              u'Hoboken',\n",
       "                     u'Inwood',              u'Jamaica',\n",
       "               u'Lake Success',            u'Larchmont',\n",
       "           u'Long Island City',            u'Manhattan',\n",
       "                  u'Moonachie',         u'New Rochelle',\n",
       "              u'New York City',         u'Pelham Manor',\n",
       "                 u'Ridgefield',             u'Secaucus',\n",
       "        u'South Valley Stream',            u'The Bronx',\n",
       "                 u'Union City',   u'University Gardens',\n",
       "                  u'Weehawken',        u'West New York',\n",
       "                    u'Yonkers'],\n",
       "      dtype='object')"
      ]
     },
     "execution_count": 29,
     "metadata": {},
     "output_type": "execute_result"
    }
   ],
   "source": [
    "df.columns"
   ]
  },
  {
   "cell_type": "code",
   "execution_count": 30,
   "metadata": {
    "collapsed": true
   },
   "outputs": [],
   "source": [
    "train_df = df[df.test == False]\n",
    "test_df = df[df.test == True]"
   ]
  },
  {
   "cell_type": "code",
   "execution_count": 31,
   "metadata": {
    "collapsed": false
   },
   "outputs": [],
   "source": [
    "my_features = np.array(['bathrooms_as_int', 'bedrooms', 'price_per_room', 'price_per_bath',\n",
    "                        'listings_in_bldg', 'listings_per_manager', \n",
    "                        'num_photos', 'num_features', 'description_size', \n",
    "                        'month_4', 'month_5', 'month_6', \n",
    "                        'week_14', 'week_15', 'week_19', 'week_20', 'week_16', \n",
    "                        'day_0', 'day_1', 'day_2', 'day_3', 'day_4', 'day_5', 'day_6',\n",
    "                        'hod_shifted', \n",
    "                        'Long Island City', 'Manhattan', 'New York City'])"
   ]
  },
  {
   "cell_type": "code",
   "execution_count": 32,
   "metadata": {
    "collapsed": false
   },
   "outputs": [],
   "source": [
    "X = train_df[my_features].copy()\n",
    "y = train_df.interest_level.copy()"
   ]
  },
  {
   "cell_type": "code",
   "execution_count": 33,
   "metadata": {
    "collapsed": true
   },
   "outputs": [],
   "source": [
    "X_train, X_test, y_train, y_test = train_test_split(X, y, test_size=0.2, random_state=42)"
   ]
  },
  {
   "cell_type": "code",
   "execution_count": 34,
   "metadata": {
    "collapsed": false
   },
   "outputs": [
    {
     "data": {
      "text/plain": [
       "28"
      ]
     },
     "execution_count": 34,
     "metadata": {},
     "output_type": "execute_result"
    }
   ],
   "source": [
    "len(my_features)"
   ]
  },
  {
   "cell_type": "markdown",
   "metadata": {},
   "source": [
    "## Model training"
   ]
  },
  {
   "cell_type": "code",
   "execution_count": 35,
   "metadata": {
    "collapsed": false
   },
   "outputs": [
    {
     "name": "stdout",
     "output_type": "stream",
     "text": [
      "             precision    recall  f1-score   support\n",
      "\n",
      "       high       0.61      0.22      0.32       765\n",
      "        low       0.76      0.94      0.84      6795\n",
      "     medium       0.49      0.25      0.33      2311\n",
      "\n",
      "avg / total       0.69      0.73      0.68      9871\n",
      "\n",
      "Score: 0.725357\n",
      "Log-loss: 0.614159\n",
      "CPU times: user 1min 4s, sys: 2.12 s, total: 1min 6s\n",
      "Wall time: 1min 6s\n"
     ]
    }
   ],
   "source": [
    "%%time\n",
    "clf = RandomForestClassifier(n_estimators=1000)\n",
    "clf.fit(X_train, y_train)\n",
    "\n",
    "y_prediction = clf.predict(X_test)\n",
    "y_probability = pd.DataFrame(data=clf.predict_proba(X_test), columns=clf.classes_)\n",
    "#y_probability.reindex_axis(labels=['low', 'medium', 'high'])\n",
    "\n",
    "print(classification_report(y_test, y_prediction))\n",
    "print(\"Score: %f\" % clf.score(X_test, y_test))           # prev: 0.727485\n",
    "print(\"Log-loss: %f\" % log_loss(y_test, y_probability))  # prev: 0.603970\n"
   ]
  },
  {
   "cell_type": "code",
   "execution_count": 36,
   "metadata": {
    "collapsed": false
   },
   "outputs": [
    {
     "data": {
      "text/plain": [
       "array([[ 165,  348,  252],\n",
       "       [  29, 6419,  347],\n",
       "       [  77, 1658,  576]])"
      ]
     },
     "execution_count": 36,
     "metadata": {},
     "output_type": "execute_result"
    }
   ],
   "source": [
    "confusion_matrix(y_test, y_prediction)"
   ]
  },
  {
   "cell_type": "code",
   "execution_count": 37,
   "metadata": {
    "collapsed": false
   },
   "outputs": [
    {
     "data": {
      "text/html": [
       "<div>\n",
       "<table border=\"1\" class=\"dataframe\">\n",
       "  <thead>\n",
       "    <tr style=\"text-align: right;\">\n",
       "      <th></th>\n",
       "      <th>high</th>\n",
       "      <th>low</th>\n",
       "      <th>medium</th>\n",
       "    </tr>\n",
       "  </thead>\n",
       "  <tbody>\n",
       "    <tr>\n",
       "      <th>high</th>\n",
       "      <td>165</td>\n",
       "      <td>348</td>\n",
       "      <td>252</td>\n",
       "    </tr>\n",
       "    <tr>\n",
       "      <th>low</th>\n",
       "      <td>29</td>\n",
       "      <td>6419</td>\n",
       "      <td>347</td>\n",
       "    </tr>\n",
       "    <tr>\n",
       "      <th>medium</th>\n",
       "      <td>77</td>\n",
       "      <td>1658</td>\n",
       "      <td>576</td>\n",
       "    </tr>\n",
       "  </tbody>\n",
       "</table>\n",
       "</div>"
      ],
      "text/plain": [
       "        high   low  medium\n",
       "high     165   348     252\n",
       "low       29  6419     347\n",
       "medium    77  1658     576"
      ]
     },
     "execution_count": 37,
     "metadata": {},
     "output_type": "execute_result"
    }
   ],
   "source": [
    "cm = confusion_matrix(y_test, y_prediction)\n",
    "cm = pd.DataFrame(data=cm, columns=clf.classes_, index=clf.classes_)\n",
    "\n",
    "cm"
   ]
  },
  {
   "cell_type": "code",
   "execution_count": 38,
   "metadata": {
    "collapsed": false
   },
   "outputs": [
    {
     "data": {
      "text/html": [
       "<div>\n",
       "<table border=\"1\" class=\"dataframe\">\n",
       "  <thead>\n",
       "    <tr style=\"text-align: right;\">\n",
       "      <th></th>\n",
       "      <th>low</th>\n",
       "      <th>medium</th>\n",
       "      <th>high</th>\n",
       "    </tr>\n",
       "  </thead>\n",
       "  <tbody>\n",
       "    <tr>\n",
       "      <th>low</th>\n",
       "      <td>165</td>\n",
       "      <td>348</td>\n",
       "      <td>252</td>\n",
       "    </tr>\n",
       "    <tr>\n",
       "      <th>medium</th>\n",
       "      <td>29</td>\n",
       "      <td>6419</td>\n",
       "      <td>347</td>\n",
       "    </tr>\n",
       "    <tr>\n",
       "      <th>high</th>\n",
       "      <td>77</td>\n",
       "      <td>1658</td>\n",
       "      <td>576</td>\n",
       "    </tr>\n",
       "  </tbody>\n",
       "</table>\n",
       "</div>"
      ],
      "text/plain": [
       "        low  medium  high\n",
       "low     165     348   252\n",
       "medium   29    6419   347\n",
       "high     77    1658   576"
      ]
     },
     "execution_count": 38,
     "metadata": {},
     "output_type": "execute_result"
    }
   ],
   "source": [
    "cm = confusion_matrix(y_test, y_prediction)\n",
    "cm = pd.DataFrame(data=cm, columns=['low', 'medium', 'high'], index=['low', 'medium', 'high'])\n",
    "cm"
   ]
  },
  {
   "cell_type": "code",
   "execution_count": 39,
   "metadata": {
    "collapsed": false
   },
   "outputs": [
    {
     "name": "stdout",
     "output_type": "stream",
     "text": [
      "Confusion matrix, without normalization\n",
      "[[ 165  348  252]\n",
      " [  29 6419  347]\n",
      " [  77 1658  576]]\n"
     ]
    },
    {
     "data": {
      "image/png": "[encoded data removed]",
      "text/plain": [
       "<matplotlib.figure.Figure at 0x11da41210>"
      ]
     },
     "metadata": {},
     "output_type": "display_data"
    }
   ],
   "source": [
    "plot_confusion_matrix(confusion_matrix(y_test, y_prediction), classes=clf.classes_, normalize=False)"
   ]
  },
  {
   "cell_type": "code",
   "execution_count": 40,
   "metadata": {
    "collapsed": false
   },
   "outputs": [
    {
     "name": "stdout",
     "output_type": "stream",
     "text": [
      "['price_per_room' 'price_per_bath' 'listings_in_bldg'\n",
      " 'listings_per_manager' 'num_photos' 'num_features' 'description_size'\n",
      " 'hod_shifted']\n",
      "Feature ranking:\n",
      "1. feature 3 (0.123699)\n",
      "2. feature 2 (0.112760)\n",
      "3. feature 8 (0.106154)\n",
      "4. feature 4 (0.100155)\n",
      "5. feature 5 (0.097448)\n",
      "6. feature 7 (0.073782)\n",
      "7. feature 6 (0.072853)\n",
      "8. feature 24 (0.071009)\n",
      "9. feature 1 (0.028312)\n",
      "10. feature 0 (0.014257)\n",
      "11. feature 11 (0.013977)\n",
      "12. feature 19 (0.013367)\n",
      "13. feature 10 (0.013272)\n",
      "14. feature 18 (0.013127)\n",
      "15. feature 27 (0.013108)\n",
      "16. feature 9 (0.013062)\n",
      "17. feature 20 (0.012953)\n",
      "18. feature 21 (0.012308)\n",
      "19. feature 26 (0.011661)\n",
      "20. feature 22 (0.011531)\n",
      "21. feature 25 (0.010916)\n",
      "22. feature 17 (0.008867)\n",
      "23. feature 23 (0.008822)\n",
      "24. feature 14 (0.008781)\n",
      "25. feature 15 (0.008560)\n",
      "26. feature 13 (0.008531)\n",
      "27. feature 12 (0.008529)\n",
      "28. feature 16 (0.008198)\n"
     ]
    },
    {
     "data": {
      "image/png": "[encoded data removed]",
      "text/plain": [
       "<matplotlib.figure.Figure at 0x12f534fd0>"
      ]
     },
     "metadata": {},
     "output_type": "display_data"
    }
   ],
   "source": [
    "plot_forest_importances(clf)"
   ]
  },
  {
   "cell_type": "code",
   "execution_count": null,
   "metadata": {
    "collapsed": true
   },
   "outputs": [],
   "source": []
  },
  {
   "cell_type": "code",
   "execution_count": 41,
   "metadata": {
    "collapsed": true
   },
   "outputs": [],
   "source": [
    "from sklearn.tree import export_graphviz\n",
    "import pydotplus "
   ]
  },
  {
   "cell_type": "code",
   "execution_count": 42,
   "metadata": {
    "collapsed": false
   },
   "outputs": [],
   "source": [
    "tree_in_forest = clf.estimators_[0]"
   ]
  },
  {
   "cell_type": "code",
   "execution_count": 43,
   "metadata": {
    "collapsed": false,
    "scrolled": true
   },
   "outputs": [
    {
     "data": {
      "text/plain": [
       "DecisionTreeClassifier(class_weight=None, criterion='gini', max_depth=None,\n",
       "            max_features='auto', max_leaf_nodes=None,\n",
       "            min_impurity_split=1e-07, min_samples_leaf=1,\n",
       "            min_samples_split=2, min_weight_fraction_leaf=0.0,\n",
       "            presort=False, random_state=1851610166, splitter='best')"
      ]
     },
     "execution_count": 43,
     "metadata": {},
     "output_type": "execute_result"
    }
   ],
   "source": [
    "tree_in_forest"
   ]
  },
  {
   "cell_type": "code",
   "execution_count": 60,
   "metadata": {
    "collapsed": false
   },
   "outputs": [
    {
     "data": {
      "text/plain": [
       "True"
      ]
     },
     "execution_count": 60,
     "metadata": {},
     "output_type": "execute_result"
    }
   ],
   "source": [
    "dot_data = export_graphviz(tree_in_forest, feature_names=my_features, class_names=['high', 'low', 'medium'], filled=True, rounded=True, out_file=None) \n",
    "graph = pydotplus.graph_from_dot_data(dot_data) \n",
    "graph.write_pdf('tree_0.pdf') \n",
    "#graph.write_png('tree_0.png')"
   ]
  },
  {
   "cell_type": "raw",
   "metadata": {
    "collapsed": false
   },
   "source": [
    "from os import system\n",
    "export_graphviz(tree_in_forest,\n",
    "                out_file='tree.dot',\n",
    "                feature_names=X.columns,\n",
    "                filled=True,\n",
    "                rounded=True)\n",
    "system(\"dot -Tpng tree.dot -o tree.png\")"
   ]
  },
  {
   "cell_type": "raw",
   "metadata": {
    "collapsed": false
   },
   "source": [
    "from IPython.display import Image  \n",
    "dot_data = export_graphviz(tree_in_forest, out_file=None, \n",
    "                        feature_names=my_features,  \n",
    "                        class_names=clf.classes_,  \n",
    "                        filled=True, rounded=True,  \n",
    "                        special_characters=True)  \n",
    "graph = pydotplus.graph_from_dot_data(dot_data)  \n",
    "Image(graph.create_png())  "
   ]
  },
  {
   "cell_type": "markdown",
   "metadata": {},
   "source": [
    "Internal OOB validation"
   ]
  },
  {
   "cell_type": "code",
   "execution_count": 121,
   "metadata": {
    "collapsed": false
   },
   "outputs": [
    {
     "name": "stderr",
     "output_type": "stream",
     "text": [
      "/Users/ikononenko/tensorflow/lib/python2.7/site-packages/sklearn/ensemble/forest.py:439: UserWarning: Some inputs do not have OOB scores. This probably means too few trees were used to compute any reliable oob estimates.\n",
      "  warn(\"Some inputs do not have OOB scores. \"\n",
      "/Users/ikononenko/tensorflow/lib/python2.7/site-packages/sklearn/ensemble/forest.py:444: RuntimeWarning: invalid value encountered in true_divide\n",
      "  predictions[k].sum(axis=1)[:, np.newaxis])\n"
     ]
    }
   ],
   "source": [
    "n_estimators = np.logspace(1, 3, 5).astype(int)\n",
    "scores = []\n",
    "for i in n_estimators:\n",
    "    rf = RandomForestClassifier(n_estimators=i, oob_score=True, n_jobs=-1).fit(X_train, y_train)\n",
    "    scores.append(rf.oob_score_)"
   ]
  },
  {
   "cell_type": "code",
   "execution_count": 122,
   "metadata": {
    "collapsed": false
   },
   "outputs": [
    {
     "data": {
      "text/plain": [
       "<matplotlib.text.Text at 0x133ee7790>"
      ]
     },
     "execution_count": 122,
     "metadata": {},
     "output_type": "execute_result"
    },
    {
     "data": {
      "image/png": "[encoded data removed]",
      "text/plain": [
       "<matplotlib.figure.Figure at 0x12889ae90>"
      ]
     },
     "metadata": {},
     "output_type": "display_data"
    }
   ],
   "source": [
    "plt.plot(n_estimators, scores, '-o')\n",
    "plt.xlabel('Num. of Estimators')\n",
    "plt.ylabel('Accuracy')"
   ]
  },
  {
   "cell_type": "code",
   "execution_count": null,
   "metadata": {
    "collapsed": true
   },
   "outputs": [],
   "source": []
  },
  {
   "cell_type": "code",
   "execution_count": 123,
   "metadata": {
    "collapsed": false
   },
   "outputs": [
    {
     "data": {
      "text/plain": [
       "XGBClassifier(base_score=0.5, colsample_bylevel=1, colsample_bytree=1,\n",
       "       gamma=0, learning_rate=0.1, max_delta_step=0, max_depth=3,\n",
       "       min_child_weight=1, missing=None, n_estimators=10, nthread=-1,\n",
       "       objective='multi:softprob', reg_alpha=0, reg_lambda=1,\n",
       "       scale_pos_weight=1, seed=0, silent=True, subsample=1)"
      ]
     },
     "execution_count": 123,
     "metadata": {},
     "output_type": "execute_result"
    }
   ],
   "source": [
    "from xgboost import XGBClassifier\n",
    "clf = XGBClassifier(n_estimators=10)\n",
    "clf.fit(X_train,y_train)"
   ]
  },
  {
   "cell_type": "code",
   "execution_count": 124,
   "metadata": {
    "collapsed": true
   },
   "outputs": [],
   "source": [
    "def get_xgb_imp(xgb, feat_names):\n",
    "    from numpy import array\n",
    "    imp_vals = xgb.booster().get_fscore()\n",
    "    imp_dict = {feat_names[i]:float(imp_vals.get('f'+str(i),0.)) for i in range(len(feat_names))}\n",
    "    total = array(imp_dict.values()).sum()\n",
    "    return {k:v/total for k,v in imp_dict.items()}"
   ]
  },
  {
   "cell_type": "code",
   "execution_count": 125,
   "metadata": {
    "collapsed": false
   },
   "outputs": [
    {
     "name": "stderr",
     "output_type": "stream",
     "text": [
      "/Users/ikononenko/tensorflow/lib/python2.7/site-packages/ipykernel/__main__.py:6: RuntimeWarning: invalid value encountered in double_scalars\n"
     ]
    },
    {
     "data": {
      "text/plain": [
       "{'Long Island City': nan,\n",
       " 'Manhattan': nan,\n",
       " 'New York City': nan,\n",
       " 'bathrooms_as_int': nan,\n",
       " 'bedrooms': nan,\n",
       " 'description_size': nan,\n",
       " 'dow': nan,\n",
       " 'hod_shifted': nan,\n",
       " 'listings_in_bldg': nan,\n",
       " 'listings_per_manager': nan,\n",
       " 'month_4': nan,\n",
       " 'month_5': nan,\n",
       " 'month_6': nan,\n",
       " 'num_features': nan,\n",
       " 'num_photos': nan,\n",
       " 'price_per_bath': nan,\n",
       " 'price_per_room': nan,\n",
       " 'week_14': nan,\n",
       " 'week_15': nan,\n",
       " 'week_16': nan,\n",
       " 'week_19': nan,\n",
       " 'week_20': nan}"
      ]
     },
     "execution_count": 125,
     "metadata": {},
     "output_type": "execute_result"
    }
   ],
   "source": [
    "get_xgb_imp(clf,my_features)"
   ]
  },
  {
   "cell_type": "code",
   "execution_count": 126,
   "metadata": {
    "collapsed": true
   },
   "outputs": [],
   "source": [
    "n_components = [len(my_features)/4, len(my_features)/2, len(my_features)]"
   ]
  },
  {
   "cell_type": "code",
   "execution_count": 127,
   "metadata": {
    "collapsed": false
   },
   "outputs": [],
   "source": [
    "param_grid = {'n_estimators': [10, 100, 1000], 'max_features': n_components}\n",
    "clf = GridSearchCV(RandomForestClassifier(), param_grid, cv=3, scoring=make_scorer(accuracy_score))"
   ]
  },
  {
   "cell_type": "code",
   "execution_count": null,
   "metadata": {
    "collapsed": true
   },
   "outputs": [],
   "source": [
    "clf.fit(X_train, y_train)\n",
    "print(\"Score: %f\" % clf.score(X_test, y_test))"
   ]
  },
  {
   "cell_type": "code",
   "execution_count": null,
   "metadata": {
    "collapsed": false
   },
   "outputs": [],
   "source": [
    "plot_forest_importances(clf.best_estimator_)"
   ]
  },
  {
   "cell_type": "code",
   "execution_count": null,
   "metadata": {
    "collapsed": true
   },
   "outputs": [],
   "source": []
  },
  {
   "cell_type": "code",
   "execution_count": null,
   "metadata": {
    "collapsed": false
   },
   "outputs": [],
   "source": [
    "%%time\n",
    "clf = RandomForestClassifier(n_estimators=1000)\n",
    "pca = PCA()\n",
    "pipe = Pipeline(steps=[('pca', pca), ('clf', clf)])\n",
    "pca.fit(X_train)"
   ]
  },
  {
   "cell_type": "code",
   "execution_count": null,
   "metadata": {
    "collapsed": false
   },
   "outputs": [],
   "source": [
    "plt.figure(1, figsize=(8, 4))\n",
    "plt.clf()\n",
    "plt.axes([.2, .2, .7, .7])\n",
    "plt.plot(pca.explained_variance_, linewidth=2)\n",
    "plt.axis('tight')\n",
    "plt.xlabel('n_components')\n",
    "plt.ylabel('explained_variance_')"
   ]
  },
  {
   "cell_type": "code",
   "execution_count": null,
   "metadata": {
    "collapsed": true
   },
   "outputs": [],
   "source": [
    "grid_search = GridSearchCV(pipe,\n",
    "                         dict(pca__n_components=n_components))\n",
    "grid_search.fit(X_train, y_train)\n",
    "\n",
    "plt.axvline(grid_search.best_estimator_.named_steps['pca'].n_components,\n",
    "            linestyle=':', label='n_components chosen')\n",
    "plt.legend(prop=dict(size=12))\n",
    "plt.show()"
   ]
  },
  {
   "cell_type": "code",
   "execution_count": null,
   "metadata": {
    "collapsed": true
   },
   "outputs": [],
   "source": [
    "y_prediction = grid_search.predict(X_test)\n",
    "print(classification_report(y_test, y_prediction))\n",
    "plot_confusion_matrix(confusion_matrix(y_test, y_prediction), classes=clf.best_estimator_.classes_)"
   ]
  },
  {
   "cell_type": "code",
   "execution_count": null,
   "metadata": {
    "collapsed": true
   },
   "outputs": [],
   "source": [
    "print(grid_search.best_estimator_.named_steps[\"clf\"].feature_importances_)"
   ]
  },
  {
   "cell_type": "code",
   "execution_count": null,
   "metadata": {
    "collapsed": true
   },
   "outputs": [],
   "source": [
    "plot_forest_importances(grid_search.best_estimator_.named_steps[\"clf\"])"
   ]
  },
  {
   "cell_type": "code",
   "execution_count": null,
   "metadata": {
    "collapsed": true
   },
   "outputs": [],
   "source": []
  },
  {
   "cell_type": "markdown",
   "metadata": {},
   "source": [
    "# Submission saving"
   ]
  },
  {
   "cell_type": "markdown",
   "metadata": {},
   "source": [
    "Submissions are evaluated using the multi-class logarithmic loss. Submit a set of predicted probabilities (one for every listing).\n",
    "\n",
    "See details here: https://www.kaggle.com/c/two-sigma-connect-rental-listing-inquiries#evaluation"
   ]
  },
  {
   "cell_type": "code",
   "execution_count": null,
   "metadata": {
    "collapsed": true
   },
   "outputs": [],
   "source": [
    "%%time\n",
    "clf = RandomForestClassifier(n_estimators=1000)\n",
    "clf.fit(X_train, y_train)\n",
    "\n",
    "y_prediction = clf.predict(X_test)\n",
    "y_probability = pd.DataFrame(data=clf.predict_proba(X_test), columns=clf.classes_)\n",
    "y_probability.reindex_axis(labels=['low', 'medium', 'high'])\n",
    "\n",
    "print(classification_report(y_test, y_prediction))\n",
    "print(\"Score: %f\" % clf.score(X_test, y_test))           # prev: 0.727485\n",
    "print(\"Log-loss: %f\" % log_loss(y_test, y_probability))  # prev: 0.603970\n"
   ]
  },
  {
   "cell_type": "code",
   "execution_count": null,
   "metadata": {
    "collapsed": true
   },
   "outputs": [],
   "source": [
    "X = train_df[my_features]\n",
    "y = clf.predict_proba(X)"
   ]
  },
  {
   "cell_type": "code",
   "execution_count": null,
   "metadata": {
    "collapsed": true
   },
   "outputs": [],
   "source": [
    "import datetime\n",
    "today = datetime.date.today().strftime(\"%d-%m-%Y\")"
   ]
  },
  {
   "cell_type": "code",
   "execution_count": null,
   "metadata": {
    "collapsed": true
   },
   "outputs": [],
   "source": [
    "labels2idx = {label: i for i, label in enumerate(clf.classes_)}\n",
    "labels2idx"
   ]
  },
  {
   "cell_type": "code",
   "execution_count": null,
   "metadata": {
    "collapsed": false
   },
   "outputs": [],
   "source": [
    "submission = pd.DataFrame()\n",
    "submission['listing_id'] = train_df['listing_id']\n",
    "for label in ['high', 'medium', 'low']:\n",
    "    submission[label] = y[:, labels2idx[label]]\n",
    "submission.to_csv('submission_%s.csv' % today, index=False)"
   ]
  },
  {
   "cell_type": "code",
   "execution_count": null,
   "metadata": {
    "collapsed": false
   },
   "outputs": [],
   "source": [
    "submission.head()"
   ]
  },
  {
   "cell_type": "code",
   "execution_count": null,
   "metadata": {
    "collapsed": true
   },
   "outputs": [],
   "source": []
  }
 ],
 "metadata": {
  "kernelspec": {
   "display_name": "Python 2",
   "language": "python",
   "name": "python2"
  },
  "language_info": {
   "codemirror_mode": {
    "name": "ipython",
    "version": 2
   },
   "file_extension": ".py",
   "mimetype": "text/x-python",
   "name": "python",
   "nbconvert_exporter": "python",
   "pygments_lexer": "ipython2",
   "version": "2.7.10"
  }
 },
 "nbformat": 4,
 "nbformat_minor": 0
}
