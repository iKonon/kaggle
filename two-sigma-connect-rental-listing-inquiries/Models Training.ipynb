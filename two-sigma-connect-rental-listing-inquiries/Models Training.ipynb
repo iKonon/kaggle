{
 "cells": [
  {
   "cell_type": "markdown",
   "metadata": {},
   "source": [
    "# Data Preparation"
   ]
  },
  {
   "cell_type": "code",
   "execution_count": 1,
   "metadata": {
    "collapsed": false
   },
   "outputs": [
    {
     "name": "stderr",
     "output_type": "stream",
     "text": [
      "/Users/ikononenko/tensorflow/lib/python2.7/site-packages/sklearn/cross_validation.py:44: DeprecationWarning: This module was deprecated in version 0.18 in favor of the model_selection module into which all the refactored classes and functions are moved. Also note that the interface of the new CV iterators are different from that of this module. This module will be removed in 0.20.\n",
      "  \"This module will be removed in 0.20.\", DeprecationWarning)\n",
      "/Users/ikononenko/tensorflow/lib/python2.7/site-packages/sklearn/grid_search.py:43: DeprecationWarning: This module was deprecated in version 0.18 in favor of the model_selection module into which all the refactored classes and functions are moved. This module will be removed in 0.20.\n",
      "  DeprecationWarning)\n"
     ]
    }
   ],
   "source": [
    "import pandas as pd\n",
    "import numpy as np\n",
    "import itertools\n",
    "\n",
    "import matplotlib.pyplot as plt\n",
    "import seaborn as sns\n",
    "#color = sns.color_palette()\n",
    "#sns.palplot(sns.color_palette('colorblind'))\n",
    "sns.set_palette('colorblind')\n",
    "\n",
    "%matplotlib inline\n",
    "\n",
    "from nltk.stem import WordNetLemmatizer\n",
    "from nltk.stem.porter import PorterStemmer\n",
    "\n",
    "# feature extraction\n",
    "from sklearn.feature_extraction.text import CountVectorizer, TfidfVectorizer\n",
    "\n",
    "# cross validation \n",
    "from sklearn.model_selection import train_test_split, StratifiedKFold\n",
    "\n",
    "# hyper-parameter tuning\n",
    "from sklearn.grid_search import GridSearchCV\n",
    "\n",
    "# preprocessing\n",
    "from sklearn.preprocessing import StandardScaler, Normalizer, LabelEncoder, OneHotEncoder\n",
    "\n",
    "# models\n",
    "from sklearn.dummy import DummyRegressor\n",
    "from sklearn.ensemble import RandomForestClassifier\n",
    "\n",
    "# pipeline\n",
    "from sklearn.pipeline import Pipeline\n",
    "\n",
    "# metrics\n",
    "from sklearn.metrics import (classification_report, confusion_matrix, accuracy_score, log_loss, \n",
    "                             brier_score_loss, precision_score, recall_score, f1_score, make_scorer)\n",
    "\n",
    "from sklearn.feature_selection import SelectFromModel\n",
    "from sklearn.calibration import CalibratedClassifierCV, calibration_curve\n",
    "from sklearn.decomposition import PCA"
   ]
  },
  {
   "cell_type": "code",
   "execution_count": 2,
   "metadata": {
    "collapsed": true
   },
   "outputs": [],
   "source": [
    "import unicodedata\n",
    "import re\n",
    "\n",
    "def remove_accents(input_str):\n",
    "    nfkd_form = unicodedata.normalize('NFKD', unicode(input_str))\n",
    "    only_ascii = nfkd_form.encode('ASCII', 'ignore')\n",
    "    return only_ascii\n"
   ]
  },
  {
   "cell_type": "code",
   "execution_count": 3,
   "metadata": {
    "collapsed": true
   },
   "outputs": [],
   "source": [
    "# from http://scikit-learn.org/stable/auto_examples/model_selection/plot_confusion_matrix.html\n",
    "def plot_confusion_matrix(cm, classes,\n",
    "                          normalize=False,\n",
    "                          title='Confusion matrix',\n",
    "                          cmap=plt.cm.Blues):\n",
    "    \"\"\"\n",
    "    This function prints and plots the confusion matrix.\n",
    "    Normalization can be applied by setting `normalize=True`.\n",
    "    \"\"\"\n",
    "    plt.imshow(cm, interpolation='nearest', cmap=cmap)\n",
    "    plt.title(title)\n",
    "    plt.colorbar()\n",
    "    tick_marks = np.arange(len(classes))\n",
    "    plt.xticks(tick_marks, classes, rotation=45)\n",
    "    plt.yticks(tick_marks, classes)\n",
    "\n",
    "    if normalize:\n",
    "        cm = cm.astype('float') / cm.sum(axis=1)[:, np.newaxis]\n",
    "        print(\"Normalized confusion matrix\")\n",
    "    else:\n",
    "        print('Confusion matrix, without normalization')\n",
    "\n",
    "    print(cm)\n",
    "\n",
    "    thresh = cm.max() / 2.\n",
    "    for i, j in itertools.product(range(cm.shape[0]), range(cm.shape[1])):\n",
    "        plt.text(j, i, cm[i, j],\n",
    "                 horizontalalignment=\"center\",\n",
    "                 color=\"white\" if cm[i, j] > thresh else \"black\")\n",
    "\n",
    "    plt.tight_layout()\n",
    "    plt.ylabel('True label')\n",
    "    plt.xlabel('Predicted label')\n",
    "    "
   ]
  },
  {
   "cell_type": "code",
   "execution_count": 4,
   "metadata": {
    "collapsed": true
   },
   "outputs": [],
   "source": [
    "# http://scikit-learn.org/stable/auto_examples/ensemble/plot_forest_importances.html\n",
    "def plot_forest_importances(clf):\n",
    "    importances = clf.feature_importances_\n",
    "\n",
    "    important_names = my_features[importances > np.mean(importances)]\n",
    "    print important_names\n",
    "\n",
    "    std = np.std([tree.feature_importances_ for tree in clf.estimators_],\n",
    "                 axis=0)\n",
    "    indices = np.argsort(importances)[::-1]\n",
    "\n",
    "    # Print the feature ranking\n",
    "    print(\"Feature ranking:\")\n",
    "\n",
    "    for f in range(X_test.shape[1]):\n",
    "        print(\"%d. feature %d (%f)\" % (f + 1, indices[f], importances[indices[f]]))\n",
    "\n",
    "    # Plot the feature importances of the forest\n",
    "    plt.figure()\n",
    "    plt.title(\"Feature importances\")\n",
    "    plt.bar(range(X_test.shape[1]), importances[indices], yerr=std[indices], align=\"center\")\n",
    "    plt.xticks(range(X.shape[1]), my_features[indices], rotation=90)\n",
    "    plt.xlim([-1, X_test.shape[1]])\n",
    "    plt.show()\n"
   ]
  },
  {
   "cell_type": "code",
   "execution_count": 5,
   "metadata": {
    "collapsed": false
   },
   "outputs": [],
   "source": [
    "train_df = pd.read_json('train.json').reset_index(drop=True)\n",
    "test_df = pd.read_json('test.json').reset_index(drop=True)\n",
    "\n",
    "train_df['test'] = False\n",
    "test_df['test'] = True\n",
    "\n",
    "df = train_df.append(test_df).reset_index(drop=True)"
   ]
  },
  {
   "cell_type": "code",
   "execution_count": 6,
   "metadata": {
    "collapsed": true
   },
   "outputs": [],
   "source": [
    "df.bathrooms = df.bathrooms.map(lambda b: b if b < 10 else 0)\n",
    "df.bedrooms = df.bedrooms.map(lambda b: b if b < 10 else 0)"
   ]
  },
  {
   "cell_type": "code",
   "execution_count": 59,
   "metadata": {
    "collapsed": false
   },
   "outputs": [],
   "source": [
    "df['bathrooms_as_int'] = df.bathrooms # df.bathrooms.astype(int) # 1.5 -> 1"
   ]
  },
  {
   "cell_type": "code",
   "execution_count": 8,
   "metadata": {
    "collapsed": true
   },
   "outputs": [],
   "source": [
    "(min_value, max_value), mean = np.percentile(df.latitude, [1, 99]).tolist(), np.mean(df.latitude)\n",
    "df.latitude = np.where(df.latitude < min_value, mean, df.latitude)\n",
    "df.latitude = np.where(df.latitude > max_value, mean, df.latitude)"
   ]
  },
  {
   "cell_type": "code",
   "execution_count": 9,
   "metadata": {
    "collapsed": false
   },
   "outputs": [],
   "source": [
    "df['price_log'] = np.log(df.price)"
   ]
  },
  {
   "cell_type": "code",
   "execution_count": 10,
   "metadata": {
    "collapsed": true
   },
   "outputs": [],
   "source": [
    "price_max = np.percentile(df.price, 99).tolist()\n",
    "df.price = np.where(df.price > price_max, price_max, df.price)"
   ]
  },
  {
   "cell_type": "code",
   "execution_count": 11,
   "metadata": {
    "collapsed": true
   },
   "outputs": [],
   "source": [
    "df['display_address_clean'] = df.display_address.apply(lambda x: remove_accents(x))\n",
    "df['street_address_clean'] = df.street_address.apply(lambda x: remove_accents(x))\n",
    "\n",
    "df.display_address_clean = df.display_address_clean.map(lambda x: ' '.join(x.strip('!@#$%^&*()-_+=;,./\\\\\\'\\t')\\\n",
    "                                                    .replace(\"'\",'').lower()\\\n",
    "                                                    .replace(' street', ' st').replace(' avenue', ' ave')\\\n",
    "                                                    .replace(' road', ' rd').replace(' boulevard', ' blvd')\\\n",
    "                                                    .replace(' east', ' e').replace(' west', ' w')\\\n",
    "                                                    .replace('east ', 'e ').replace('west ', 'w ').split()))\n",
    "\n",
    "df.street_address_clean = df.street_address_clean.map(lambda x: ' '.join(x.strip('!@#$%^&*()-_+=;,./\\\\\\'\\t')\\\n",
    "                                                    .replace(\"'\",'').lower()\\\n",
    "                                                    .replace(' street', ' st').replace(' avenue', ' ave')\\\n",
    "                                                    .replace(' road', ' rd').replace(' boulevard', ' blvd')\\\n",
    "                                                    .replace(' east', ' e').replace(' west', ' w')\\\n",
    "                                                    .replace('east ', 'e ').replace('west ', 'w ').split()))"
   ]
  },
  {
   "cell_type": "code",
   "execution_count": 12,
   "metadata": {
    "collapsed": false
   },
   "outputs": [],
   "source": [
    "bldg_id_counts = df.building_id.value_counts()\n",
    "df['listings_in_bldg'] = df.building_id.map(lambda b: bldg_id_counts[b] if b != '0' else 1)"
   ]
  },
  {
   "cell_type": "code",
   "execution_count": 13,
   "metadata": {
    "collapsed": true
   },
   "outputs": [],
   "source": [
    "manager_id_counts = df.manager_id.value_counts()\n",
    "df['listings_per_manager'] = df.manager_id.map(lambda b: manager_id_counts[b] if b != '0' else 1)"
   ]
  },
  {
   "cell_type": "code",
   "execution_count": 14,
   "metadata": {
    "collapsed": true
   },
   "outputs": [],
   "source": [
    "def do_lem(str):\n",
    "    return \" \".join([WordNetLemmatizer().lemmatize(word) for word in str.split(\" \")])\n",
    "\n",
    "def do_stem(str):\n",
    "    return \" \".join([PorterStemmer().stem(word) for word in str.split(\" \")])"
   ]
  },
  {
   "cell_type": "code",
   "execution_count": 15,
   "metadata": {
    "collapsed": true
   },
   "outputs": [],
   "source": [
    "df['description_clean'] = df.description.apply(lambda alist: remove_accents(alist))\n",
    "\n",
    "df.description_clean = [re.sub(r'[()?!@#$%^&*-;\\'\\\"]', \"\", line).replace(\",\",\" \")\\\n",
    "                                 .replace(\"<br >\", \"\").replace(\"<br />\",\"\").replace(\"<p>\",\"\").replace(\"</p>\",\"\")\\\n",
    "                                 .replace(\"<a  website_redacted\", \"\")\\\n",
    "                                 .replace(\"apartment\", \"\").replace(\"bedroom\", \"\").replace(\"bathroom\", \"\")\n",
    "                                 .lower().strip() for line in df.description_clean]\n",
    "\n",
    "df.description_clean = [re.sub(re.compile(r'\\s+'), \" \", line) for line in df.description_clean]\n",
    "df.description_clean = [do_lem(line) for line in df.description_clean]"
   ]
  },
  {
   "cell_type": "code",
   "execution_count": 16,
   "metadata": {
    "collapsed": false
   },
   "outputs": [],
   "source": [
    "def clean_features(alist):\n",
    "    return [unicode(x).lower().strip('!@#$%^&*()-_+=;,./\\\\\\'\\t').replace(' ', '').replace('-','') for x in alist if len(alist)>0 and isinstance(alist, list)]"
   ]
  },
  {
   "cell_type": "code",
   "execution_count": 17,
   "metadata": {
    "collapsed": false
   },
   "outputs": [],
   "source": [
    "df['features_clean'] = df.features.apply(lambda alist: clean_features(alist))"
   ]
  },
  {
   "cell_type": "code",
   "execution_count": 18,
   "metadata": {
    "collapsed": false
   },
   "outputs": [],
   "source": [
    "df['num_photos'] = df.photos.apply(len)\n",
    "df['num_features'] = df.features.apply(len)\n",
    "df['description_size'] = df.description.apply(lambda x: len(x.split(\" \")))\n",
    "\n",
    "df['created'] = pd.to_datetime(df.created)\n",
    "df['month'] = df.created.dt.month\n",
    "df['hod'] = df.created.dt.hour\n",
    "df['dow'] = df.created.dt.dayofweek"
   ]
  },
  {
   "cell_type": "code",
   "execution_count": 19,
   "metadata": {
    "collapsed": false
   },
   "outputs": [],
   "source": [
    "df['bb_combined'] = df.bathrooms + df.bedrooms\n",
    "df['price_per_room'] = df.price / df.bedrooms  \n",
    "df['price_per_bath'] = df.price / df.bathrooms"
   ]
  },
  {
   "cell_type": "code",
   "execution_count": 20,
   "metadata": {
    "collapsed": true
   },
   "outputs": [],
   "source": [
    "#df.bedrooms = df.bedrooms.astype(\"category\")\n",
    "#df.bathrooms = df.bedrooms.astype(\"category\")"
   ]
  },
  {
   "cell_type": "code",
   "execution_count": 21,
   "metadata": {
    "collapsed": false
   },
   "outputs": [],
   "source": [
    "# 'bathrooms_as_int', 'price_log'\n",
    "my_features = np.array(['bathrooms_as_int', 'bedrooms', 'latitude', 'longitude', 'price_log', \n",
    "                        'listings_in_bldg', 'listings_per_manager', \n",
    "                        'num_photos', 'num_features', 'description_size', 'hod', 'dow'])"
   ]
  },
  {
   "cell_type": "code",
   "execution_count": 22,
   "metadata": {
    "collapsed": true
   },
   "outputs": [],
   "source": [
    "train_df = df[df.test == False]\n",
    "test_df = df[df.test == True]"
   ]
  },
  {
   "cell_type": "code",
   "execution_count": 23,
   "metadata": {
    "collapsed": false
   },
   "outputs": [
    {
     "data": {
      "text/html": [
       "<div>\n",
       "<table border=\"1\" class=\"dataframe\">\n",
       "  <thead>\n",
       "    <tr style=\"text-align: right;\">\n",
       "      <th></th>\n",
       "      <th>bathrooms_as_int</th>\n",
       "      <th>bedrooms</th>\n",
       "      <th>latitude</th>\n",
       "      <th>longitude</th>\n",
       "      <th>price_log</th>\n",
       "      <th>listings_in_bldg</th>\n",
       "      <th>listings_per_manager</th>\n",
       "      <th>num_photos</th>\n",
       "      <th>num_features</th>\n",
       "      <th>description_size</th>\n",
       "      <th>hod</th>\n",
       "      <th>dow</th>\n",
       "    </tr>\n",
       "  </thead>\n",
       "  <tbody>\n",
       "    <tr>\n",
       "      <th>0</th>\n",
       "      <td>1</td>\n",
       "      <td>3</td>\n",
       "      <td>40.7145</td>\n",
       "      <td>-73.9425</td>\n",
       "      <td>8.006368</td>\n",
       "      <td>5</td>\n",
       "      <td>235</td>\n",
       "      <td>5</td>\n",
       "      <td>0</td>\n",
       "      <td>95</td>\n",
       "      <td>7</td>\n",
       "      <td>4</td>\n",
       "    </tr>\n",
       "    <tr>\n",
       "      <th>1</th>\n",
       "      <td>1</td>\n",
       "      <td>2</td>\n",
       "      <td>40.7947</td>\n",
       "      <td>-73.9667</td>\n",
       "      <td>8.606119</td>\n",
       "      <td>51</td>\n",
       "      <td>194</td>\n",
       "      <td>11</td>\n",
       "      <td>5</td>\n",
       "      <td>9</td>\n",
       "      <td>12</td>\n",
       "      <td>6</td>\n",
       "    </tr>\n",
       "    <tr>\n",
       "      <th>2</th>\n",
       "      <td>1</td>\n",
       "      <td>1</td>\n",
       "      <td>40.7388</td>\n",
       "      <td>-74.0018</td>\n",
       "      <td>7.955074</td>\n",
       "      <td>131</td>\n",
       "      <td>314</td>\n",
       "      <td>8</td>\n",
       "      <td>4</td>\n",
       "      <td>94</td>\n",
       "      <td>3</td>\n",
       "      <td>6</td>\n",
       "    </tr>\n",
       "    <tr>\n",
       "      <th>3</th>\n",
       "      <td>1</td>\n",
       "      <td>1</td>\n",
       "      <td>40.7539</td>\n",
       "      <td>-73.9677</td>\n",
       "      <td>8.094073</td>\n",
       "      <td>236</td>\n",
       "      <td>470</td>\n",
       "      <td>3</td>\n",
       "      <td>2</td>\n",
       "      <td>80</td>\n",
       "      <td>2</td>\n",
       "      <td>0</td>\n",
       "    </tr>\n",
       "    <tr>\n",
       "      <th>4</th>\n",
       "      <td>1</td>\n",
       "      <td>4</td>\n",
       "      <td>40.8241</td>\n",
       "      <td>-73.9493</td>\n",
       "      <td>8.116716</td>\n",
       "      <td>1</td>\n",
       "      <td>51</td>\n",
       "      <td>3</td>\n",
       "      <td>1</td>\n",
       "      <td>68</td>\n",
       "      <td>1</td>\n",
       "      <td>3</td>\n",
       "    </tr>\n",
       "  </tbody>\n",
       "</table>\n",
       "</div>"
      ],
      "text/plain": [
       "   bathrooms_as_int  bedrooms  latitude  longitude  price_log  \\\n",
       "0                 1         3   40.7145   -73.9425   8.006368   \n",
       "1                 1         2   40.7947   -73.9667   8.606119   \n",
       "2                 1         1   40.7388   -74.0018   7.955074   \n",
       "3                 1         1   40.7539   -73.9677   8.094073   \n",
       "4                 1         4   40.8241   -73.9493   8.116716   \n",
       "\n",
       "   listings_in_bldg  listings_per_manager  num_photos  num_features  \\\n",
       "0                 5                   235           5             0   \n",
       "1                51                   194          11             5   \n",
       "2               131                   314           8             4   \n",
       "3               236                   470           3             2   \n",
       "4                 1                    51           3             1   \n",
       "\n",
       "   description_size  hod  dow  \n",
       "0                95    7    4  \n",
       "1                 9   12    6  \n",
       "2                94    3    6  \n",
       "3                80    2    0  \n",
       "4                68    1    3  "
      ]
     },
     "execution_count": 23,
     "metadata": {},
     "output_type": "execute_result"
    }
   ],
   "source": [
    "X = train_df[my_features].copy()\n",
    "y = train_df.interest_level.copy()\n",
    "\n",
    "X.head()"
   ]
  },
  {
   "cell_type": "code",
   "execution_count": 24,
   "metadata": {
    "collapsed": true
   },
   "outputs": [],
   "source": [
    "X_train, X_test, y_train, y_test = train_test_split(X, y, test_size=0.2, random_state=42)"
   ]
  },
  {
   "cell_type": "markdown",
   "metadata": {},
   "source": [
    "## Model training"
   ]
  },
  {
   "cell_type": "code",
   "execution_count": 25,
   "metadata": {
    "collapsed": false
   },
   "outputs": [
    {
     "name": "stdout",
     "output_type": "stream",
     "text": [
      "             precision    recall  f1-score   support\n",
      "\n",
      "       high       0.55      0.26      0.36       765\n",
      "        low       0.78      0.93      0.85      6795\n",
      "     medium       0.48      0.28      0.36      2311\n",
      "\n",
      "avg / total       0.69      0.73      0.70      9871\n",
      "\n",
      "Score: 0.729511\n",
      "Log-loss: 0.604222\n",
      "CPU times: user 1min 11s, sys: 1.58 s, total: 1min 12s\n",
      "Wall time: 1min 12s\n"
     ]
    }
   ],
   "source": [
    "%%time\n",
    "clf = RandomForestClassifier(n_estimators=1000)\n",
    "clf.fit(X_train, y_train)\n",
    "\n",
    "y_prediction = clf.predict(X_test)\n",
    "y_probability = pd.DataFrame(data=clf.predict_proba(X_test), columns=clf.classes_)\n",
    "y_probability.reindex_axis(labels=['low', 'medium', 'high'])\n",
    "\n",
    "print(classification_report(y_test, y_prediction))\n",
    "print(\"Score: %f\" % clf.score(X_test, y_test))           # prev: 0.727485\n",
    "print(\"Log-loss: %f\" % log_loss(y_test, y_probability))  # prev: 0.603970\n"
   ]
  },
  {
   "cell_type": "code",
   "execution_count": 26,
   "metadata": {
    "collapsed": false
   },
   "outputs": [
    {
     "name": "stdout",
     "output_type": "stream",
     "text": [
      "Confusion matrix, without normalization\n",
      "[[ 201  279  285]\n",
      " [  37 6343  415]\n",
      " [ 127 1527  657]]\n"
     ]
    },
    {
     "data": {
      "image/png": "[encoded data removed]",
      "text/plain": [
       "<matplotlib.figure.Figure at 0x107b07490>"
      ]
     },
     "metadata": {},
     "output_type": "display_data"
    }
   ],
   "source": [
    "plot_confusion_matrix(confusion_matrix(y_test, y_prediction), classes=['low', 'medium', 'high'])"
   ]
  },
  {
   "cell_type": "code",
   "execution_count": 27,
   "metadata": {
    "collapsed": false
   },
   "outputs": [
    {
     "name": "stdout",
     "output_type": "stream",
     "text": [
      "Confusion matrix, without normalization\n",
      "[[ 201  279  285]\n",
      " [  37 6343  415]\n",
      " [ 127 1527  657]]\n"
     ]
    },
    {
     "data": {
      "image/png": "[encoded data removed]",
      "text/plain": [
       "<matplotlib.figure.Figure at 0x128e36b50>"
      ]
     },
     "metadata": {},
     "output_type": "display_data"
    }
   ],
   "source": [
    "plot_confusion_matrix(confusion_matrix(y_test, y_prediction), classes=['low', 'medium', 'high'])"
   ]
  },
  {
   "cell_type": "code",
   "execution_count": 28,
   "metadata": {
    "collapsed": false
   },
   "outputs": [
    {
     "name": "stdout",
     "output_type": "stream",
     "text": [
      "['latitude' 'longitude' 'price_log' 'listings_in_bldg'\n",
      " 'listings_per_manager' 'description_size']\n",
      "Feature ranking:\n",
      "1. feature 4 (0.161968)\n",
      "2. feature 9 (0.107869)\n",
      "3. feature 2 (0.104466)\n",
      "4. feature 3 (0.104305)\n",
      "5. feature 6 (0.097749)\n",
      "6. feature 5 (0.091473)\n",
      "7. feature 10 (0.077049)\n",
      "8. feature 7 (0.070060)\n",
      "9. feature 8 (0.070037)\n",
      "10. feature 11 (0.062288)\n",
      "11. feature 1 (0.042817)\n",
      "12. feature 0 (0.009918)\n"
     ]
    },
    {
     "data": {
      "image/png": "[encoded data removed]",
      "text/plain": [
       "<matplotlib.figure.Figure at 0x112ea6fd0>"
      ]
     },
     "metadata": {},
     "output_type": "display_data"
    }
   ],
   "source": [
    "plot_forest_importances(clf)"
   ]
  },
  {
   "cell_type": "code",
   "execution_count": 29,
   "metadata": {
    "collapsed": false
   },
   "outputs": [
    {
     "name": "stdout",
     "output_type": "stream",
     "text": [
      "['latitude' 'longitude' 'price_log' 'listings_in_bldg'\n",
      " 'listings_per_manager' 'description_size']\n",
      "Feature ranking:\n",
      "1. feature 4 (0.161968)\n",
      "2. feature 9 (0.107869)\n",
      "3. feature 2 (0.104466)\n",
      "4. feature 3 (0.104305)\n",
      "5. feature 6 (0.097749)\n",
      "6. feature 5 (0.091473)\n",
      "7. feature 10 (0.077049)\n",
      "8. feature 7 (0.070060)\n",
      "9. feature 8 (0.070037)\n",
      "10. feature 11 (0.062288)\n",
      "11. feature 1 (0.042817)\n",
      "12. feature 0 (0.009918)\n"
     ]
    },
    {
     "data": {
      "image/png": "[encoded data removed]",
      "text/plain": [
       "<matplotlib.figure.Figure at 0x11056cf90>"
      ]
     },
     "metadata": {},
     "output_type": "display_data"
    }
   ],
   "source": [
    "plot_forest_importances(clf)"
   ]
  },
  {
   "cell_type": "code",
   "execution_count": null,
   "metadata": {
    "collapsed": true
   },
   "outputs": [],
   "source": []
  },
  {
   "cell_type": "markdown",
   "metadata": {},
   "source": [
    "Internal OOB validation"
   ]
  },
  {
   "cell_type": "code",
   "execution_count": 30,
   "metadata": {
    "collapsed": false
   },
   "outputs": [
    {
     "name": "stderr",
     "output_type": "stream",
     "text": [
      "/Users/ikononenko/tensorflow/lib/python2.7/site-packages/sklearn/ensemble/forest.py:439: UserWarning: Some inputs do not have OOB scores. This probably means too few trees were used to compute any reliable oob estimates.\n",
      "  warn(\"Some inputs do not have OOB scores. \"\n",
      "/Users/ikononenko/tensorflow/lib/python2.7/site-packages/sklearn/ensemble/forest.py:444: RuntimeWarning: invalid value encountered in true_divide\n",
      "  predictions[k].sum(axis=1)[:, np.newaxis])\n"
     ]
    }
   ],
   "source": [
    "n_estimators = np.logspace(1, 3, 5).astype(int)\n",
    "scores = []\n",
    "for i in n_estimators:\n",
    "    rf = RandomForestClassifier(n_estimators=i, oob_score=True, n_jobs=-1).fit(X_train, y_train)\n",
    "    scores.append(rf.oob_score_)"
   ]
  },
  {
   "cell_type": "code",
   "execution_count": 31,
   "metadata": {
    "collapsed": false
   },
   "outputs": [
    {
     "data": {
      "text/plain": [
       "<matplotlib.text.Text at 0x10f807dd0>"
      ]
     },
     "execution_count": 31,
     "metadata": {},
     "output_type": "execute_result"
    },
    {
     "data": {
      "image/png": "[encoded data removed]",
      "text/plain": [
       "<matplotlib.figure.Figure at 0x11d790ad0>"
      ]
     },
     "metadata": {},
     "output_type": "display_data"
    }
   ],
   "source": [
    "plt.plot(n_estimators, scores, '-o')\n",
    "plt.xlabel('Num. of Estimators')\n",
    "plt.ylabel('Accuracy')"
   ]
  },
  {
   "cell_type": "code",
   "execution_count": null,
   "metadata": {
    "collapsed": true
   },
   "outputs": [],
   "source": []
  },
  {
   "cell_type": "code",
   "execution_count": 53,
   "metadata": {
    "collapsed": false
   },
   "outputs": [
    {
     "data": {
      "text/plain": [
       "XGBClassifier(base_score=0.5, colsample_bylevel=1, colsample_bytree=1,\n",
       "       gamma=0, learning_rate=0.1, max_delta_step=0, max_depth=3,\n",
       "       min_child_weight=1, missing=None, n_estimators=10, nthread=-1,\n",
       "       objective='multi:softprob', reg_alpha=0, reg_lambda=1,\n",
       "       scale_pos_weight=1, seed=0, silent=True, subsample=1)"
      ]
     },
     "execution_count": 53,
     "metadata": {},
     "output_type": "execute_result"
    }
   ],
   "source": [
    "from xgboost import XGBClassifier\n",
    "clf = XGBClassifier(n_estimators=10)\n",
    "clf.fit(X_train,y_train)"
   ]
  },
  {
   "cell_type": "code",
   "execution_count": 54,
   "metadata": {
    "collapsed": true
   },
   "outputs": [],
   "source": [
    "def get_xgb_imp(xgb, feat_names):\n",
    "    from numpy import array\n",
    "    imp_vals = xgb.booster().get_fscore()\n",
    "    imp_dict = {feat_names[i]:float(imp_vals.get('f'+str(i),0.)) for i in range(len(feat_names))}\n",
    "    total = array(imp_dict.values()).sum()\n",
    "    return {k:v/total for k,v in imp_dict.items()}"
   ]
  },
  {
   "cell_type": "code",
   "execution_count": 55,
   "metadata": {
    "collapsed": false
   },
   "outputs": [
    {
     "name": "stderr",
     "output_type": "stream",
     "text": [
      "/Users/ikononenko/tensorflow/lib/python2.7/site-packages/ipykernel/__main__.py:6: RuntimeWarning: invalid value encountered in double_scalars\n"
     ]
    },
    {
     "data": {
      "text/plain": [
       "{'bathrooms_as_int': nan,\n",
       " 'bedrooms': nan,\n",
       " 'description_size': nan,\n",
       " 'dow': nan,\n",
       " 'hod': nan,\n",
       " 'latitude': nan,\n",
       " 'listings_in_bldg': nan,\n",
       " 'listings_per_manager': nan,\n",
       " 'longitude': nan,\n",
       " 'num_features': nan,\n",
       " 'num_photos': nan,\n",
       " 'price_log': nan}"
      ]
     },
     "execution_count": 55,
     "metadata": {},
     "output_type": "execute_result"
    }
   ],
   "source": [
    "get_xgb_imp(clf,my_features)"
   ]
  },
  {
   "cell_type": "code",
   "execution_count": null,
   "metadata": {
    "collapsed": true
   },
   "outputs": [],
   "source": []
  },
  {
   "cell_type": "code",
   "execution_count": 37,
   "metadata": {
    "collapsed": false
   },
   "outputs": [],
   "source": [
    "param_grid = {'n_estimators': [10, 100, 1000], 'max_features': [2, 6, 12]}\n",
    "clf = GridSearchCV(RandomForestClassifier(), param_grid, cv=3, scoring=make_scorer(accuracy_score))"
   ]
  },
  {
   "cell_type": "code",
   "execution_count": 38,
   "metadata": {
    "collapsed": false
   },
   "outputs": [
    {
     "name": "stderr",
     "output_type": "stream",
     "text": [
      "/Users/ikononenko/tensorflow/lib/python2.7/site-packages/sklearn/grid_search.py:438: ChangedBehaviorWarning: The long-standing behavior to use the estimator's score function in GridSearchCV.score has changed. The scoring parameter is now used.\n",
      "  ChangedBehaviorWarning)\n"
     ]
    },
    {
     "name": "stdout",
     "output_type": "stream",
     "text": [
      "Score: 0.731030\n"
     ]
    }
   ],
   "source": [
    "clf.fit(X_train, y_train)\n",
    "print(\"Score: %f\" % clf.score(X_test, y_test))"
   ]
  },
  {
   "cell_type": "code",
   "execution_count": 39,
   "metadata": {
    "collapsed": false
   },
   "outputs": [
    {
     "name": "stdout",
     "output_type": "stream",
     "text": [
      "['latitude' 'longitude' 'price_log' 'listings_in_bldg'\n",
      " 'listings_per_manager' 'description_size']\n",
      "Feature ranking:\n",
      "1. feature 4 (0.166575)\n",
      "2. feature 9 (0.109906)\n",
      "3. feature 3 (0.105945)\n",
      "4. feature 2 (0.104935)\n",
      "5. feature 6 (0.097201)\n",
      "6. feature 5 (0.089676)\n",
      "7. feature 10 (0.076654)\n",
      "8. feature 8 (0.069111)\n",
      "9. feature 7 (0.068669)\n",
      "10. feature 11 (0.060945)\n",
      "11. feature 1 (0.042584)\n",
      "12. feature 0 (0.007798)\n"
     ]
    },
    {
     "data": {
      "image/png": "[encoded data removed]",
      "text/plain": [
       "<matplotlib.figure.Figure at 0x110498890>"
      ]
     },
     "metadata": {},
     "output_type": "display_data"
    }
   ],
   "source": [
    "plot_forest_importances(clf.best_estimator_)"
   ]
  },
  {
   "cell_type": "code",
   "execution_count": null,
   "metadata": {
    "collapsed": true
   },
   "outputs": [],
   "source": []
  },
  {
   "cell_type": "code",
   "execution_count": 40,
   "metadata": {
    "collapsed": false
   },
   "outputs": [
    {
     "name": "stdout",
     "output_type": "stream",
     "text": [
      "CPU times: user 24 ms, sys: 101 ms, total: 125 ms\n",
      "Wall time: 126 ms\n"
     ]
    }
   ],
   "source": [
    "%%time\n",
    "clf = RandomForestClassifier(n_estimators=1000)\n",
    "pca = PCA()\n",
    "pipe = Pipeline(steps=[('pca', pca), ('clf', clf)])\n",
    "pca.fit(X_train)"
   ]
  },
  {
   "cell_type": "code",
   "execution_count": 41,
   "metadata": {
    "collapsed": false
   },
   "outputs": [
    {
     "data": {
      "text/plain": [
       "<matplotlib.text.Text at 0x11d7fa110>"
      ]
     },
     "execution_count": 41,
     "metadata": {},
     "output_type": "execute_result"
    },
    {
     "data": {
      "image/png": "[encoded data removed]",
      "text/plain": [
       "<matplotlib.figure.Figure at 0x124d93090>"
      ]
     },
     "metadata": {},
     "output_type": "display_data"
    }
   ],
   "source": [
    "plt.figure(1, figsize=(8, 4))\n",
    "plt.clf()\n",
    "plt.axes([.2, .2, .7, .7])\n",
    "plt.plot(pca.explained_variance_, linewidth=2)\n",
    "plt.axis('tight')\n",
    "plt.xlabel('n_components')\n",
    "plt.ylabel('explained_variance_')"
   ]
  },
  {
   "cell_type": "code",
   "execution_count": 42,
   "metadata": {
    "collapsed": false
   },
   "outputs": [
    {
     "data": {
      "image/png": "[encoded data removed]",
      "text/plain": [
       "<matplotlib.figure.Figure at 0x123742250>"
      ]
     },
     "metadata": {},
     "output_type": "display_data"
    }
   ],
   "source": [
    "n_components = [2, 6, 12]\n",
    "\n",
    "grid_search = GridSearchCV(pipe,\n",
    "                         dict(pca__n_components=n_components))\n",
    "grid_search.fit(X_train, y_train)\n",
    "\n",
    "plt.axvline(grid_search.best_estimator_.named_steps['pca'].n_components,\n",
    "            linestyle=':', label='n_components chosen')\n",
    "plt.legend(prop=dict(size=12))\n",
    "plt.show()"
   ]
  },
  {
   "cell_type": "code",
   "execution_count": 43,
   "metadata": {
    "collapsed": false
   },
   "outputs": [
    {
     "name": "stdout",
     "output_type": "stream",
     "text": [
      "             precision    recall  f1-score   support\n",
      "\n",
      "       high       0.59      0.21      0.31       765\n",
      "        low       0.77      0.94      0.84      6795\n",
      "     medium       0.49      0.26      0.34      2311\n",
      "\n",
      "avg / total       0.69      0.73      0.69      9871\n",
      "\n",
      "Confusion matrix, without normalization\n",
      "[[ 163  341  261]\n",
      " [  25 6399  371]\n",
      " [  90 1615  606]]\n"
     ]
    },
    {
     "data": {
      "image/png": "[encoded data removed]",
      "text/plain": [
       "<matplotlib.figure.Figure at 0x125272e50>"
      ]
     },
     "metadata": {},
     "output_type": "display_data"
    }
   ],
   "source": [
    "y_prediction = grid_search.predict(X_test)\n",
    "print(classification_report(y_test, y_prediction))\n",
    "plot_confusion_matrix(confusion_matrix(y_test, y_prediction), classes=['low', 'medium', 'high'])"
   ]
  },
  {
   "cell_type": "code",
   "execution_count": 44,
   "metadata": {
    "collapsed": false
   },
   "outputs": [
    {
     "name": "stdout",
     "output_type": "stream",
     "text": [
      "[ 0.07724688  0.07668702  0.07474149  0.09299833  0.07025722  0.07093172\n",
      "  0.06917632  0.07550567  0.0749305   0.10749362  0.12921214  0.08081908]\n"
     ]
    }
   ],
   "source": [
    "print(grid_search.best_estimator_.named_steps[\"clf\"].feature_importances_)"
   ]
  },
  {
   "cell_type": "code",
   "execution_count": 45,
   "metadata": {
    "collapsed": false
   },
   "outputs": [
    {
     "name": "stdout",
     "output_type": "stream",
     "text": [
      "['longitude' 'description_size' 'hod']\n",
      "Feature ranking:\n",
      "1. feature 10 (0.129212)\n",
      "2. feature 9 (0.107494)\n",
      "3. feature 3 (0.092998)\n",
      "4. feature 11 (0.080819)\n",
      "5. feature 0 (0.077247)\n",
      "6. feature 1 (0.076687)\n",
      "7. feature 7 (0.075506)\n",
      "8. feature 8 (0.074930)\n",
      "9. feature 2 (0.074741)\n",
      "10. feature 5 (0.070932)\n",
      "11. feature 4 (0.070257)\n",
      "12. feature 6 (0.069176)\n"
     ]
    },
    {
     "data": {
      "image/png": "[encoded data removed]",
      "text/plain": [
       "<matplotlib.figure.Figure at 0x11376df10>"
      ]
     },
     "metadata": {},
     "output_type": "display_data"
    }
   ],
   "source": [
    "plot_forest_importances(grid_search.best_estimator_.named_steps[\"clf\"])"
   ]
  },
  {
   "cell_type": "code",
   "execution_count": null,
   "metadata": {
    "collapsed": true
   },
   "outputs": [],
   "source": []
  },
  {
   "cell_type": "markdown",
   "metadata": {},
   "source": [
    "# Submission saving"
   ]
  },
  {
   "cell_type": "markdown",
   "metadata": {},
   "source": [
    "Submissions are evaluated using the multi-class logarithmic loss. Submit a set of predicted probabilities (one for every listing).\n",
    "\n",
    "See details here: https://www.kaggle.com/c/two-sigma-connect-rental-listing-inquiries#evaluation"
   ]
  },
  {
   "cell_type": "code",
   "execution_count": 47,
   "metadata": {
    "collapsed": false
   },
   "outputs": [
    {
     "name": "stdout",
     "output_type": "stream",
     "text": [
      "             precision    recall  f1-score   support\n",
      "\n",
      "       high       0.54      0.26      0.35       765\n",
      "        low       0.78      0.93      0.85      6795\n",
      "     medium       0.49      0.28      0.36      2311\n",
      "\n",
      "avg / total       0.69      0.73      0.70      9871\n",
      "\n",
      "Score: 0.730220\n",
      "Log-loss: 0.605159\n",
      "CPU times: user 1min 10s, sys: 1.61 s, total: 1min 11s\n",
      "Wall time: 1min 12s\n"
     ]
    }
   ],
   "source": [
    "%%time\n",
    "clf = RandomForestClassifier(n_estimators=1000)\n",
    "clf.fit(X_train, y_train)\n",
    "\n",
    "y_prediction = clf.predict(X_test)\n",
    "y_probability = pd.DataFrame(data=clf.predict_proba(X_test), columns=clf.classes_)\n",
    "y_probability.reindex_axis(labels=['low', 'medium', 'high'])\n",
    "\n",
    "print(classification_report(y_test, y_prediction))\n",
    "print(\"Score: %f\" % clf.score(X_test, y_test))           # prev: 0.727485\n",
    "print(\"Log-loss: %f\" % log_loss(y_test, y_probability))  # prev: 0.603970\n"
   ]
  },
  {
   "cell_type": "code",
   "execution_count": 48,
   "metadata": {
    "collapsed": false
   },
   "outputs": [],
   "source": [
    "X = train_df[my_features]\n",
    "y = clf.predict_proba(X)"
   ]
  },
  {
   "cell_type": "code",
   "execution_count": 49,
   "metadata": {
    "collapsed": false
   },
   "outputs": [],
   "source": [
    "import datetime\n",
    "today = datetime.date.today().strftime(\"%d-%m-%Y\")"
   ]
  },
  {
   "cell_type": "code",
   "execution_count": 50,
   "metadata": {
    "collapsed": false
   },
   "outputs": [
    {
     "data": {
      "text/plain": [
       "{u'high': 0, u'low': 1, u'medium': 2}"
      ]
     },
     "execution_count": 50,
     "metadata": {},
     "output_type": "execute_result"
    }
   ],
   "source": [
    "labels2idx = {label: i for i, label in enumerate(clf.classes_)}\n",
    "labels2idx"
   ]
  },
  {
   "cell_type": "code",
   "execution_count": 51,
   "metadata": {
    "collapsed": false
   },
   "outputs": [],
   "source": [
    "submission = pd.DataFrame()\n",
    "submission['listing_id'] = train_df['listing_id']\n",
    "for label in ['high', 'medium', 'low']:\n",
    "    submission[label] = y[:, labels2idx[label]]\n",
    "submission.to_csv('submission_%s.csv' % today, index=False)"
   ]
  },
  {
   "cell_type": "code",
   "execution_count": 52,
   "metadata": {
    "collapsed": false
   },
   "outputs": [
    {
     "data": {
      "text/html": [
       "<div>\n",
       "<table border=\"1\" class=\"dataframe\">\n",
       "  <thead>\n",
       "    <tr style=\"text-align: right;\">\n",
       "      <th></th>\n",
       "      <th>listing_id</th>\n",
       "      <th>high</th>\n",
       "      <th>medium</th>\n",
       "      <th>low</th>\n",
       "    </tr>\n",
       "  </thead>\n",
       "  <tbody>\n",
       "    <tr>\n",
       "      <th>0</th>\n",
       "      <td>7211212</td>\n",
       "      <td>0.023</td>\n",
       "      <td>0.745333</td>\n",
       "      <td>0.231667</td>\n",
       "    </tr>\n",
       "    <tr>\n",
       "      <th>1</th>\n",
       "      <td>7150865</td>\n",
       "      <td>0.015</td>\n",
       "      <td>0.062000</td>\n",
       "      <td>0.923000</td>\n",
       "    </tr>\n",
       "    <tr>\n",
       "      <th>2</th>\n",
       "      <td>6887163</td>\n",
       "      <td>0.690</td>\n",
       "      <td>0.121000</td>\n",
       "      <td>0.189000</td>\n",
       "    </tr>\n",
       "    <tr>\n",
       "      <th>3</th>\n",
       "      <td>6888711</td>\n",
       "      <td>0.004</td>\n",
       "      <td>0.056500</td>\n",
       "      <td>0.939500</td>\n",
       "    </tr>\n",
       "    <tr>\n",
       "      <th>4</th>\n",
       "      <td>6934781</td>\n",
       "      <td>0.013</td>\n",
       "      <td>0.080000</td>\n",
       "      <td>0.907000</td>\n",
       "    </tr>\n",
       "  </tbody>\n",
       "</table>\n",
       "</div>"
      ],
      "text/plain": [
       "   listing_id   high    medium       low\n",
       "0     7211212  0.023  0.745333  0.231667\n",
       "1     7150865  0.015  0.062000  0.923000\n",
       "2     6887163  0.690  0.121000  0.189000\n",
       "3     6888711  0.004  0.056500  0.939500\n",
       "4     6934781  0.013  0.080000  0.907000"
      ]
     },
     "execution_count": 52,
     "metadata": {},
     "output_type": "execute_result"
    }
   ],
   "source": [
    "submission.head()"
   ]
  },
  {
   "cell_type": "code",
   "execution_count": null,
   "metadata": {
    "collapsed": true
   },
   "outputs": [],
   "source": []
  }
 ],
 "metadata": {
  "kernelspec": {
   "display_name": "Python 2",
   "language": "python",
   "name": "python2"
  },
  "language_info": {
   "codemirror_mode": {
    "name": "ipython",
    "version": 2
   },
   "file_extension": ".py",
   "mimetype": "text/x-python",
   "name": "python",
   "nbconvert_exporter": "python",
   "pygments_lexer": "ipython2",
   "version": "2.7.10"
  }
 },
 "nbformat": 4,
 "nbformat_minor": 0
}
