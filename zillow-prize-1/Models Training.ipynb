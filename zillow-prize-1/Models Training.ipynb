{
 "cells": [
  {
   "cell_type": "code",
   "execution_count": 107,
   "metadata": {},
   "outputs": [],
   "source": [
    "import pandas as pd\n",
    "import numpy as np\n",
    "import itertools\n",
    "\n",
    "import matplotlib.pyplot as plt\n",
    "\n",
    "import seaborn as sns\n",
    "sns.set_palette('colorblind')\n",
    "\n",
    "%matplotlib inline\n",
    "\n",
    "# cross validation \n",
    "from sklearn.model_selection import (train_test_split, GridSearchCV)\n",
    "\n",
    "# models\n",
    "from sklearn.dummy import DummyRegressor\n",
    "from sklearn.ensemble import RandomForestRegressor"
   ]
  },
  {
   "cell_type": "code",
   "execution_count": 52,
   "metadata": {},
   "outputs": [],
   "source": [
    "# taken from http://scikit-learn.org/stable/auto_examples/ensemble/plot_forest_importances.html\n",
    "def plot_forest_importances(regressor, n=None):\n",
    "    importances = regressor.feature_importances_\n",
    "\n",
    "    important_names = my_features[importances > np.mean(importances)]\n",
    "    print important_names\n",
    "\n",
    "    std = np.std([tree.feature_importances_ for tree in regressor.estimators_],\n",
    "                 axis=0)\n",
    "    indices = np.argsort(importances)[::-1]\n",
    "\n",
    "    # Print the feature ranking\n",
    "    print(\"Feature ranking:\")\n",
    "\n",
    "    if n is not None: \n",
    "        threshold = min(X_test.shape[1], n)\n",
    "    else:\n",
    "        threshold = X_test.shape[1]\n",
    "        \n",
    "    for f in range(threshold):\n",
    "        print(\"%d. feature %d (%f)\" % (f + 1, indices[f], importances[indices[f]]))\n",
    "\n",
    "    # Plot the feature importances of the forest\n",
    "    plt.figure(figsize=(10,10))\n",
    "    plt.title(\"Feature importances\")\n",
    "    plt.bar(range(threshold), importances[indices][:threshold], yerr=std[indices][:threshold], align=\"center\")\n",
    "    plt.xticks(range(threshold), my_features[indices][:threshold], rotation=90)\n",
    "    plt.xlim([-1, threshold])\n",
    "    plt.show()\n"
   ]
  },
  {
   "cell_type": "code",
   "execution_count": 23,
   "metadata": {
    "collapsed": true
   },
   "outputs": [],
   "source": [
    "train_2016 = pd.read_csv('train_2016.csv', parse_dates=['transactiondate']) # index_col = 'parcelid'\n",
    "properties_2016 = pd.read_csv('properties_2016.csv', dtype={'hashottuborspa': np.bool_, \n",
    "                                                            'propertycountylandusecode': 'str',\n",
    "                                                            'propertyzoningdesc': 'str',\n",
    "                                                            'fireplaceflag': np.bool_,\n",
    "                                                            'taxdelinquencyflag': 'str'})"
   ]
  },
  {
   "cell_type": "code",
   "execution_count": 24,
   "metadata": {
    "collapsed": true
   },
   "outputs": [],
   "source": [
    "properties_2016.hashottuborspa = properties_2016.hashottuborspa.fillna(False).astype(np.bool_)\n",
    "properties_2016.propertycountylandusecode = properties_2016.propertycountylandusecode.fillna('').astype('str')\n",
    "properties_2016.propertyzoningdesc = properties_2016.propertyzoningdesc.fillna('').astype('str')\n",
    "properties_2016.fireplaceflag = properties_2016.fireplaceflag.fillna(False).astype(np.bool_)\n",
    "properties_2016.taxdelinquencyflag = properties_2016.taxdelinquencyflag.fillna('N').astype('str')"
   ]
  },
  {
   "cell_type": "code",
   "execution_count": 25,
   "metadata": {},
   "outputs": [
    {
     "data": {
      "text/plain": [
       "(90682, 60)"
      ]
     },
     "execution_count": 25,
     "metadata": {},
     "output_type": "execute_result"
    }
   ],
   "source": [
    "df = pd.merge(train_2016, properties_2016, on='parcelid', how='left').drop_duplicates(subset='parcelid')\n",
    "df.shape"
   ]
  },
  {
   "cell_type": "code",
   "execution_count": 26,
   "metadata": {
    "collapsed": true
   },
   "outputs": [],
   "source": [
    "mean_values = df.mean(axis=0)\n",
    "df = df.fillna(mean_values, inplace=True)"
   ]
  },
  {
   "cell_type": "code",
   "execution_count": 27,
   "metadata": {
    "collapsed": true
   },
   "outputs": [],
   "source": [
    "df['transaction_month'] = df.transactiondate.dt.month\n",
    "df['transaction_week'] = df.transactiondate.dt.week\n",
    "df['transaction_hod'] = df.transactiondate.dt.hour\n",
    "df['transaction_dow'] = df.transactiondate.dt.dayofweek"
   ]
  },
  {
   "cell_type": "code",
   "execution_count": 28,
   "metadata": {},
   "outputs": [],
   "source": [
    "float_columns_list = sorted([str(x) for x in properties_2016.select_dtypes(include=[np.float]).columns])\n",
    "\n",
    "uniques = {}\n",
    "for column_name in float_columns_list:\n",
    "    uniques[column_name] = len(properties_2016[column_name].unique())\n",
    "    \n",
    "categorical_columns_list = [k for (k,v) in uniques.items() if v <= 10]\n",
    "non_categorical_columns_list = [k for (k,v) in uniques.items() if v > 10]"
   ]
  },
  {
   "cell_type": "code",
   "execution_count": 29,
   "metadata": {},
   "outputs": [
    {
     "name": "stdout",
     "output_type": "stream",
     "text": [
      "typeconstructiontypeid is processed\n",
      "buildingclasstypeid is processed\n",
      "fireplacecnt is processed\n",
      "regionidcounty is processed\n",
      "pooltypeid10 is processed\n",
      "pooltypeid7 is processed\n",
      "storytypeid is processed\n",
      "poolcnt is processed\n",
      "threequarterbathnbr is processed\n",
      "fips is processed\n",
      "decktypeid is processed\n",
      "airconditioningtypeid is processed\n",
      "architecturalstyletypeid is processed\n",
      "pooltypeid2 is processed\n",
      "transaction_month is processed\n",
      "transaction_week is processed\n",
      "transaction_hod is processed\n",
      "transaction_dow is processed\n"
     ]
    }
   ],
   "source": [
    "for column_name in categorical_columns_list + ['transaction_month', 'transaction_week', 'transaction_hod', 'transaction_dow']:\n",
    "    dummies = pd.get_dummies(df[column_name]).rename(columns=lambda x: column_name + '_' + str(x)).astype(np.float)\n",
    "    df = pd.concat([df, dummies], axis=1)\n",
    "    print \"%s is processed\" % column_name"
   ]
  },
  {
   "cell_type": "code",
   "execution_count": 30,
   "metadata": {},
   "outputs": [
    {
     "name": "stdout",
     "output_type": "stream",
     "text": [
      "<class 'pandas.core.frame.DataFrame'>\n",
      "Int64Index: 90682 entries, 0 to 90809\n",
      "Columns: 181 entries, parcelid to transaction_dow_6\n",
      "dtypes: bool(2), datetime64[ns](1), float64(170), int64(5), object(3)\n",
      "memory usage: 124.7+ MB\n"
     ]
    }
   ],
   "source": [
    "df.info()"
   ]
  },
  {
   "cell_type": "code",
   "execution_count": 31,
   "metadata": {},
   "outputs": [
    {
     "name": "stdout",
     "output_type": "stream",
     "text": [
      "For finishedfloor1squarefeet min/max/mean: 737.0, 1928.0, 1347.72014599 \n",
      "For numberofstories min/max/mean: 1.0, 2.0, 1.44079844206 \n",
      "For regionidcity min/max/mean: 5465.0, 396054.0, 33762.5752301 \n",
      "For finishedsquarefeet6 min/max/mean: 2293.06921241, 2293.06921241, 2293.06921241 \n",
      "For regionidzip min/max/mean: 95986.0, 97329.0, 96586.1962159 \n",
      "For longitude min/max/mean: -119219684.44, -117596609.0, -118198890.961 \n",
      "For structuretaxvaluedollarcnt min/max/mean: 16088.0, 962352.0, 180103.150604 \n",
      "For poolsizesum min/max/mean: 519.688405797, 519.688405797, 519.688405797 \n",
      "For garagetotalsqft min/max/mean: 0.0, 727.0, 345.53961936 \n",
      "For censustractandblock min/max/mean: 6.0371060202e+13, 6.1110079011e+13, 6.04915305082e+13 \n",
      "For calculatedfinishedsquarefeet min/max/mean: 620.0, 5088.57, 1773.09686899 \n",
      "For taxdelinquencyyear min/max/mean: 13.4016901408, 14.0, 13.4016901408 \n",
      "For latitude min/max/mean: 33471838.06, 34684738.99, 34005465.3006 \n",
      "For roomcnt min/max/mean: 0.0, 9.0, 1.4785801442 \n",
      "For bedroomcnt min/max/mean: 0.0, 6.0, 3.03193566278 \n",
      "For yardbuildingsqft17 min/max/mean: 208.0, 328.0, 310.204914934 \n",
      "For basementsqft min/max/mean: 713.581395349, 713.581395349, 713.581395349 \n",
      "For taxamount min/max/mean: 721.464, 30743.5181, 5983.0708878 \n",
      "For unitcnt min/max/mean: 1.0, 3.0, 1.11024351736 \n",
      "For buildingqualitytypeid min/max/mean: 1.0, 10.0, 5.56539347811 \n",
      "For assessmentyear min/max/mean: 2015.0, 2015.0, 2015.0 \n",
      "For propertylandusetypeid min/max/mean: 246.0, 269.0, 261.833477537 \n",
      "For yearbuilt min/max/mean: 1911.0, 2011.0, 1968.53976084 \n",
      "For regionidneighborhood min/max/mean: 13017.0, 762178.0, 190614.474052 \n",
      "For heatingorsystemtypeid min/max/mean: 2.0, 24.0, 3.92639942862 \n",
      "For garagecarcnt min/max/mean: 1.0, 3.0, 1.81205472121 \n",
      "For rawcensustractandblock min/max/mean: 60371060.202, 61110079.011, 60491817.2129 \n",
      "For fullbathcnt min/max/mean: 1.0, 5.0, 2.24117157821 \n",
      "For finishedsquarefeet50 min/max/mean: 737.0, 1940.0, 1355.29941606 \n",
      "For calculatedbathnbr min/max/mean: 1.0, 5.5, 2.30917459033 \n",
      "For landtaxvaluedollarcnt min/max/mean: 12826.0, 1684923.83, 278287.933 \n",
      "For taxvaluedollarcnt min/max/mean: 37075.81, 2474723.73, 457637.898457 \n",
      "For finishedsquarefeet12 min/max/mean: 621.81, 4955.57, 1745.41507867 \n",
      "For finishedsquarefeet13 min/max/mean: 1404.54545455, 1404.54545455, 1404.54545455 \n",
      "For yardbuildingsqft26 min/max/mean: 311.694736842, 311.694736842, 311.694736842 \n",
      "For finishedsquarefeet15 min/max/mean: 1654.81, 2840.0, 2380.88073136 \n",
      "For lotsizesquarefeet min/max/mean: 1464.0, 423536.0, 29120.6392338 \n",
      "For bathroomcnt min/max/mean: 0.0, 5.5, 2.27954520244 \n",
      "For logerror min/max/mean: -0.356966, 0.465714, 0.0107745175448 \n"
     ]
    }
   ],
   "source": [
    "for column_name in non_categorical_columns_list + ['logerror']:\n",
    "    (column_min, column_max), column_mean = np.percentile(df[column_name], [1, 99]).tolist(), np.mean(df[column_name])\n",
    "    print \"For %s min/max/mean: %s, %s, %s \" % (column_name, column_min, column_max, column_mean)\n",
    "\n",
    "    df[column_name] = np.where(df[column_name] < column_min, column_mean, df[column_name])\n",
    "    df[column_name] = np.where(df[column_name] > column_max, column_mean, df[column_name])"
   ]
  },
  {
   "cell_type": "code",
   "execution_count": 32,
   "metadata": {},
   "outputs": [
    {
     "data": {
      "text/plain": [
       "\"parcelid', 'logerror', 'transactiondate', 'airconditioningtypeid', 'architecturalstyletypeid', 'basementsqft', 'bathroomcnt', 'bedroomcnt', 'buildingclasstypeid', 'buildingqualitytypeid', 'calculatedbathnbr', 'decktypeid', 'finishedfloor1squarefeet', 'calculatedfinishedsquarefeet', 'finishedsquarefeet12', 'finishedsquarefeet13', 'finishedsquarefeet15', 'finishedsquarefeet50', 'finishedsquarefeet6', 'fips', 'fireplacecnt', 'fullbathcnt', 'garagecarcnt', 'garagetotalsqft', 'hashottuborspa', 'heatingorsystemtypeid', 'latitude', 'longitude', 'lotsizesquarefeet', 'poolcnt', 'poolsizesum', 'pooltypeid10', 'pooltypeid2', 'pooltypeid7', 'propertycountylandusecode', 'propertylandusetypeid', 'propertyzoningdesc', 'rawcensustractandblock', 'regionidcity', 'regionidcounty', 'regionidneighborhood', 'regionidzip', 'roomcnt', 'storytypeid', 'threequarterbathnbr', 'typeconstructiontypeid', 'unitcnt', 'yardbuildingsqft17', 'yardbuildingsqft26', 'yearbuilt', 'numberofstories', 'fireplaceflag', 'structuretaxvaluedollarcnt', 'taxvaluedollarcnt', 'assessmentyear', 'landtaxvaluedollarcnt', 'taxamount', 'taxdelinquencyflag', 'taxdelinquencyyear', 'censustractandblock', 'transaction_month', 'transaction_week', 'transaction_hod', 'transaction_dow', 'typeconstructiontypeid_4.0', 'typeconstructiontypeid_6.0', 'typeconstructiontypeid_6.01006711409', 'typeconstructiontypeid_13.0', 'buildingclasstypeid_4.0', 'fireplacecnt_1.0', 'fireplacecnt_1.18787120975', 'fireplacecnt_2.0', 'fireplacecnt_3.0', 'fireplacecnt_4.0', 'fireplacecnt_5.0', 'regionidcounty_1286.0', 'regionidcounty_2061.0', 'regionidcounty_2525.45696062', 'regionidcounty_3101.0', 'pooltypeid10_1.0', 'pooltypeid7_1.0', 'storytypeid_7.0', 'poolcnt_1.0', 'threequarterbathnbr_1.0', 'threequarterbathnbr_1.00875291764', 'threequarterbathnbr_2.0', 'threequarterbathnbr_3.0', 'threequarterbathnbr_4.0', 'fips_6037.0', 'fips_6048.87281198', 'fips_6059.0', 'fips_6111.0', 'decktypeid_66.0', 'airconditioningtypeid_1.0', 'airconditioningtypeid_1.81522192848', 'airconditioningtypeid_3.0', 'airconditioningtypeid_5.0', 'airconditioningtypeid_9.0', 'airconditioningtypeid_11.0', 'airconditioningtypeid_13.0', 'architecturalstyletypeid_2.0', 'architecturalstyletypeid_3.0', 'architecturalstyletypeid_7.0', 'architecturalstyletypeid_7.23076923077', 'architecturalstyletypeid_8.0', 'architecturalstyletypeid_10.0', 'architecturalstyletypeid_21.0', 'pooltypeid2_1.0', 'transaction_month_1', 'transaction_month_2', 'transaction_month_3', 'transaction_month_4', 'transaction_month_5', 'transaction_month_6', 'transaction_month_7', 'transaction_month_8', 'transaction_month_9', 'transaction_month_10', 'transaction_month_11', 'transaction_month_12', 'transaction_week_1', 'transaction_week_2', 'transaction_week_3', 'transaction_week_4', 'transaction_week_5', 'transaction_week_6', 'transaction_week_7', 'transaction_week_8', 'transaction_week_9', 'transaction_week_10', 'transaction_week_11', 'transaction_week_12', 'transaction_week_13', 'transaction_week_14', 'transaction_week_15', 'transaction_week_16', 'transaction_week_17', 'transaction_week_18', 'transaction_week_19', 'transaction_week_20', 'transaction_week_21', 'transaction_week_22', 'transaction_week_23', 'transaction_week_24', 'transaction_week_25', 'transaction_week_26', 'transaction_week_27', 'transaction_week_28', 'transaction_week_29', 'transaction_week_30', 'transaction_week_31', 'transaction_week_32', 'transaction_week_33', 'transaction_week_34', 'transaction_week_35', 'transaction_week_36', 'transaction_week_37', 'transaction_week_38', 'transaction_week_39', 'transaction_week_40', 'transaction_week_41', 'transaction_week_42', 'transaction_week_43', 'transaction_week_44', 'transaction_week_45', 'transaction_week_46', 'transaction_week_47', 'transaction_week_48', 'transaction_week_49', 'transaction_week_50', 'transaction_week_51', 'transaction_week_52', 'transaction_week_53', 'transaction_hod_0', 'transaction_dow_0', 'transaction_dow_1', 'transaction_dow_2', 'transaction_dow_3', 'transaction_dow_4', 'transaction_dow_5', 'transaction_dow_6\""
      ]
     },
     "execution_count": 32,
     "metadata": {},
     "output_type": "execute_result"
    }
   ],
   "source": [
    "\"', '\".join(df.columns)"
   ]
  },
  {
   "cell_type": "code",
   "execution_count": 33,
   "metadata": {},
   "outputs": [
    {
     "name": "stdout",
     "output_type": "stream",
     "text": [
      "(68011, 180) (22671, 180)\n"
     ]
    }
   ],
   "source": [
    "N = df.shape[0]\n",
    "\n",
    "train_df = df.iloc[:3*N/4, :].set_index('parcelid')\n",
    "test_df = df.iloc[3*N/4:, :].set_index('parcelid')\n",
    "\n",
    "print train_df.shape, test_df.shape"
   ]
  },
  {
   "cell_type": "code",
   "execution_count": 63,
   "metadata": {
    "collapsed": true
   },
   "outputs": [],
   "source": [
    "all_features = np.array(['airconditioningtypeid', 'architecturalstyletypeid', \n",
    "                        'basementsqft', 'bathroomcnt', 'bedroomcnt', 'buildingclasstypeid', \n",
    "                        'buildingqualitytypeid', 'calculatedbathnbr', 'decktypeid', \n",
    "                        'finishedfloor1squarefeet', 'calculatedfinishedsquarefeet', \n",
    "                        'finishedsquarefeet12', 'finishedsquarefeet13', 'finishedsquarefeet15', \n",
    "                        'finishedsquarefeet50', 'finishedsquarefeet6', 'fips', 'fireplacecnt', \n",
    "                        'fullbathcnt', 'garagecarcnt', 'garagetotalsqft', \n",
    "                        'heatingorsystemtypeid', 'latitude', 'longitude', 'lotsizesquarefeet', \n",
    "                        'poolcnt', 'poolsizesum', 'pooltypeid10', 'pooltypeid2', 'pooltypeid7', \n",
    "                        'propertylandusetypeid',  \n",
    "                        'rawcensustractandblock', 'regionidcity', 'regionidcounty', 'regionidneighborhood', \n",
    "                        'regionidzip', 'roomcnt', 'storytypeid', 'threequarterbathnbr', 'typeconstructiontypeid', \n",
    "                        'unitcnt', 'yardbuildingsqft17', 'yardbuildingsqft26', 'yearbuilt', 'numberofstories', \n",
    "                        'structuretaxvaluedollarcnt', 'taxvaluedollarcnt', 'assessmentyear', \n",
    "                        'landtaxvaluedollarcnt', 'taxamount', 'taxdelinquencyyear', \n",
    "                        'censustractandblock', 'transaction_month', 'transaction_week', 'transaction_hod', \n",
    "                        'transaction_dow', 'typeconstructiontypeid_4.0', 'typeconstructiontypeid_6.0', \n",
    "                        'typeconstructiontypeid_6.01006711409', 'typeconstructiontypeid_13.0', \n",
    "                        'buildingclasstypeid_4.0', 'fireplacecnt_1.0', 'fireplacecnt_1.18787120975', \n",
    "                        'fireplacecnt_2.0', 'fireplacecnt_3.0', 'fireplacecnt_4.0', 'fireplacecnt_5.0', \n",
    "                        'regionidcounty_1286.0', 'regionidcounty_2061.0', 'regionidcounty_2525.45696062', \n",
    "                        'regionidcounty_3101.0', 'pooltypeid10_1.0', 'pooltypeid7_1.0', 'storytypeid_7.0', \n",
    "                        'poolcnt_1.0', 'threequarterbathnbr_1.0', 'threequarterbathnbr_1.00875291764', \n",
    "                        'threequarterbathnbr_2.0', 'threequarterbathnbr_3.0', 'threequarterbathnbr_4.0', \n",
    "                        'fips_6037.0', 'fips_6048.87281198', 'fips_6059.0', 'fips_6111.0', 'decktypeid_66.0', \n",
    "                        'airconditioningtypeid_1.0', 'airconditioningtypeid_1.81522192848', \n",
    "                        'airconditioningtypeid_3.0', 'airconditioningtypeid_5.0', 'airconditioningtypeid_9.0', \n",
    "                        'airconditioningtypeid_11.0', 'airconditioningtypeid_13.0', 'architecturalstyletypeid_2.0', \n",
    "                        'architecturalstyletypeid_3.0', 'architecturalstyletypeid_7.0', \n",
    "                        'architecturalstyletypeid_7.23076923077', 'architecturalstyletypeid_8.0', \n",
    "                        'architecturalstyletypeid_10.0', 'architecturalstyletypeid_21.0', 'pooltypeid2_1.0', \n",
    "                        'transaction_month_1', 'transaction_month_2', 'transaction_month_3', 'transaction_month_4', \n",
    "                        'transaction_month_5', 'transaction_month_6', 'transaction_month_7', 'transaction_month_8', \n",
    "                        'transaction_month_9', 'transaction_month_10', 'transaction_month_11', \n",
    "                        'transaction_month_12', 'transaction_week_1', 'transaction_week_2', \n",
    "                        'transaction_week_3', 'transaction_week_4', 'transaction_week_5', 'transaction_week_6', \n",
    "                        'transaction_week_7', 'transaction_week_8', 'transaction_week_9', 'transaction_week_10', \n",
    "                        'transaction_week_11', 'transaction_week_12', 'transaction_week_13', 'transaction_week_14', \n",
    "                        'transaction_week_15', 'transaction_week_16', 'transaction_week_17', 'transaction_week_18', \n",
    "                        'transaction_week_19', 'transaction_week_20', 'transaction_week_21', 'transaction_week_22', \n",
    "                        'transaction_week_23', 'transaction_week_24', 'transaction_week_25', 'transaction_week_26', \n",
    "                        'transaction_week_27', 'transaction_week_28', 'transaction_week_29', 'transaction_week_30', \n",
    "                        'transaction_week_31', 'transaction_week_32', 'transaction_week_33', 'transaction_week_34', \n",
    "                        'transaction_week_35', 'transaction_week_36', 'transaction_week_37', 'transaction_week_38', \n",
    "                        'transaction_week_39', 'transaction_week_40', 'transaction_week_41', 'transaction_week_42', \n",
    "                        'transaction_week_43', 'transaction_week_44', 'transaction_week_45', 'transaction_week_46', \n",
    "                        'transaction_week_47', 'transaction_week_48', 'transaction_week_49', 'transaction_week_50', \n",
    "                        'transaction_week_51', 'transaction_week_52', 'transaction_week_53', 'transaction_hod_0', \n",
    "                        'transaction_dow_0', 'transaction_dow_1', 'transaction_dow_2', 'transaction_dow_3', \n",
    "                        'transaction_dow_4', 'transaction_dow_5', 'transaction_dow_6'])"
   ]
  },
  {
   "cell_type": "code",
   "execution_count": 89,
   "metadata": {
    "collapsed": true
   },
   "outputs": [],
   "source": [
    "my_features = np.array(['bathroomcnt', 'bedroomcnt', 'buildingqualitytypeid', 'calculatedbathnbr',\n",
    " 'calculatedfinishedsquarefeet', 'finishedsquarefeet12',\n",
    " 'finishedsquarefeet15', 'garagetotalsqft', 'heatingorsystemtypeid',\n",
    " 'latitude', 'longitude', 'lotsizesquarefeet', 'propertylandusetypeid',\n",
    " 'rawcensustractandblock', 'regionidcity', 'regionidneighborhood',\n",
    " 'regionidzip', 'yearbuilt', 'structuretaxvaluedollarcnt', 'taxvaluedollarcnt',\n",
    " 'landtaxvaluedollarcnt', 'taxamount', 'censustractandblock'])"
   ]
  },
  {
   "cell_type": "code",
   "execution_count": 105,
   "metadata": {},
   "outputs": [
    {
     "data": {
      "text/plain": [
       "23"
      ]
     },
     "execution_count": 105,
     "metadata": {},
     "output_type": "execute_result"
    }
   ],
   "source": [
    "len(my_features)"
   ]
  },
  {
   "cell_type": "code",
   "execution_count": 64,
   "metadata": {},
   "outputs": [],
   "source": [
    "todo_features = ['hashottuborspa', 'propertycountylandusecode', 'propertyzoningdesc', 'fireplaceflag', 'taxdelinquencyflag']"
   ]
  },
  {
   "cell_type": "code",
   "execution_count": 90,
   "metadata": {
    "collapsed": true
   },
   "outputs": [],
   "source": [
    "X = train_df[my_features].copy()\n",
    "y = train_df.logerror.copy()"
   ]
  },
  {
   "cell_type": "raw",
   "metadata": {},
   "source": [
    "X = df[my_features].copy()\n",
    "y = df.logerror.copy()"
   ]
  },
  {
   "cell_type": "code",
   "execution_count": 91,
   "metadata": {},
   "outputs": [],
   "source": [
    "X_train, X_test, y_train, y_test = train_test_split(X, y, test_size=0.2, random_state=42)"
   ]
  },
  {
   "cell_type": "code",
   "execution_count": 98,
   "metadata": {},
   "outputs": [
    {
     "name": "stderr",
     "output_type": "stream",
     "text": [
      "/Users/ikononenko/tensorflow/lib/python2.7/site-packages/scipy/linalg/basic.py:1018: RuntimeWarning: internal gelsd driver lwork query error, required iwork dimension not returned. This is likely the result of LAPACK bug 0038, fixed in LAPACK 3.2.2 (released July 21, 2010). Falling back to 'gelss' driver.\n",
      "  warnings.warn(mesg, RuntimeWarning)\n"
     ]
    }
   ],
   "source": [
    "from sklearn import linear_model\n",
    "\n",
    "linregr = linear_model.LinearRegression()\n",
    "    \n",
    "linregr.fit(X_train, y_train)\n",
    "y_predict = linregr.predict(X_test)"
   ]
  },
  {
   "cell_type": "code",
   "execution_count": 104,
   "metadata": {},
   "outputs": [
    {
     "data": {
      "text/plain": [
       "0.0083884963656177813"
      ]
     },
     "execution_count": 104,
     "metadata": {},
     "output_type": "execute_result"
    }
   ],
   "source": [
    "linregr.score(X_test, y_test)"
   ]
  },
  {
   "cell_type": "code",
   "execution_count": null,
   "metadata": {
    "collapsed": true
   },
   "outputs": [],
   "source": []
  },
  {
   "cell_type": "code",
   "execution_count": 69,
   "metadata": {},
   "outputs": [
    {
     "name": "stdout",
     "output_type": "stream",
     "text": [
      "CPU times: user 13 s, sys: 194 ms, total: 13.2 s\n",
      "Wall time: 13.4 s\n"
     ]
    }
   ],
   "source": [
    "%%time\n",
    "rf = RandomForestRegressor(n_estimators=10)\n",
    "rf.fit(X_train.values, y_train.values)\n",
    "y_prediction = rf.predict(X_test.values)\n",
    "y_probability = np.ravel(y_test.values)"
   ]
  },
  {
   "cell_type": "code",
   "execution_count": 70,
   "metadata": {},
   "outputs": [
    {
     "name": "stdout",
     "output_type": "stream",
     "text": [
      "Score: -0.102629\n"
     ]
    }
   ],
   "source": [
    "print(\"Score: %f\" % rf.score(X_test, y_test))           "
   ]
  },
  {
   "cell_type": "code",
   "execution_count": 71,
   "metadata": {},
   "outputs": [
    {
     "name": "stdout",
     "output_type": "stream",
     "text": [
      "['calculatedfinishedsquarefeet' 'finishedsquarefeet12' 'latitude'\n",
      " 'longitude' 'lotsizesquarefeet' 'regionidzip' 'yearbuilt'\n",
      " 'structuretaxvaluedollarcnt' 'taxvaluedollarcnt' 'landtaxvaluedollarcnt'\n",
      " 'taxamount']\n",
      "Feature ranking:\n",
      "1. feature 18 (0.087891)\n",
      "2. feature 10 (0.084226)\n",
      "3. feature 11 (0.084128)\n",
      "4. feature 21 (0.083473)\n",
      "5. feature 9 (0.081327)\n",
      "6. feature 20 (0.075532)\n",
      "7. feature 19 (0.071429)\n",
      "8. feature 17 (0.067504)\n",
      "9. feature 4 (0.054097)\n",
      "10. feature 5 (0.049709)\n",
      "11. feature 16 (0.045312)\n",
      "12. feature 15 (0.030442)\n",
      "13. feature 13 (0.029379)\n",
      "14. feature 14 (0.028916)\n",
      "15. feature 22 (0.027464)\n",
      "16. feature 1 (0.022598)\n",
      "17. feature 7 (0.017203)\n",
      "18. feature 0 (0.011240)\n",
      "19. feature 3 (0.010736)\n",
      "20. feature 2 (0.010040)\n"
     ]
    },
    {
     "data": {
      "image/png": "[encoded data removed]",
      "text/plain": [
       "<matplotlib.figure.Figure at 0x116c6b910>"
      ]
     },
     "metadata": {},
     "output_type": "display_data"
    }
   ],
   "source": [
    "plot_forest_importances(rf, 20)"
   ]
  },
  {
   "cell_type": "code",
   "execution_count": 110,
   "metadata": {
    "editable": false,
    "run_control": {
     "frozen": true
    }
   },
   "outputs": [
    {
     "name": "stdout",
     "output_type": "stream",
     "text": [
      "Fitting 5 folds for each of 36 candidates, totalling 180 fits\n"
     ]
    },
    {
     "name": "stderr",
     "output_type": "stream",
     "text": [
      "[Parallel(n_jobs=-1)]: Done  34 tasks      | elapsed:  7.1min\n",
      "[Parallel(n_jobs=-1)]: Done 180 out of 180 | elapsed: 88.4min finished\n"
     ]
    },
    {
     "name": "stdout",
     "output_type": "stream",
     "text": [
      "RandomForestRegressor(bootstrap=True, criterion='mse', max_depth=15,\n",
      "           max_features=10, max_leaf_nodes=None, min_impurity_split=1e-07,\n",
      "           min_samples_leaf=1, min_samples_split=2,\n",
      "           min_weight_fraction_leaf=0.0, n_estimators=1000, n_jobs=1,\n",
      "           oob_score=False, random_state=None, verbose=0, warm_start=False)\n"
     ]
    }
   ],
   "source": [
    "param_grid = {'n_estimators': [100,300,500,1000], 'max_features': [10,15,20],'max_depth':[5,10,15]}\n",
    "rfr = GridSearchCV(estimator=RandomForestRegressor(), \n",
    "                   fit_params = {'sample_weight': np.array([30 if i != 0 else 1 for i in y_train])},\n",
    "                   param_grid=param_grid, n_jobs=-1, cv=5, verbose=1)\n",
    "rfr.fit(X_train, y_train)\n",
    "print(rfr.best_estimator_)"
   ]
  },
  {
   "cell_type": "code",
   "execution_count": 111,
   "metadata": {},
   "outputs": [
    {
     "data": {
      "text/plain": [
       "0.019199398372594066"
      ]
     },
     "execution_count": 111,
     "metadata": {},
     "output_type": "execute_result"
    }
   ],
   "source": [
    "rfr.best_score_"
   ]
  },
  {
   "cell_type": "code",
   "execution_count": null,
   "metadata": {
    "collapsed": true
   },
   "outputs": [],
   "source": []
  },
  {
   "cell_type": "code",
   "execution_count": 94,
   "metadata": {},
   "outputs": [
    {
     "name": "stdout",
     "output_type": "stream",
     "text": [
      "[1]\tvalid_0's l1: 0.0528144\n",
      "[2]\tvalid_0's l1: 0.0528129\n",
      "[3]\tvalid_0's l1: 0.0528118\n",
      "[4]\tvalid_0's l1: 0.0528108\n",
      "[5]\tvalid_0's l1: 0.0528099\n",
      "[6]\tvalid_0's l1: 0.0528088\n",
      "[7]\tvalid_0's l1: 0.0528079\n",
      "[8]\tvalid_0's l1: 0.0528067\n",
      "[9]\tvalid_0's l1: 0.0528055\n",
      "[10]\tvalid_0's l1: 0.0528044\n",
      "[11]\tvalid_0's l1: 0.0528031\n",
      "[12]\tvalid_0's l1: 0.052802\n",
      "[13]\tvalid_0's l1: 0.0528005\n",
      "[14]\tvalid_0's l1: 0.0527989\n",
      "[15]\tvalid_0's l1: 0.0527977\n",
      "[16]\tvalid_0's l1: 0.0527965\n",
      "[17]\tvalid_0's l1: 0.0527947\n",
      "[18]\tvalid_0's l1: 0.0527936\n",
      "[19]\tvalid_0's l1: 0.0527925\n",
      "[20]\tvalid_0's l1: 0.0527911\n",
      "[21]\tvalid_0's l1: 0.05279\n",
      "[22]\tvalid_0's l1: 0.0527892\n",
      "[23]\tvalid_0's l1: 0.0527882\n",
      "[24]\tvalid_0's l1: 0.052787\n",
      "[25]\tvalid_0's l1: 0.0527855\n",
      "[26]\tvalid_0's l1: 0.0527842\n",
      "[27]\tvalid_0's l1: 0.0527825\n",
      "[28]\tvalid_0's l1: 0.0527811\n",
      "[29]\tvalid_0's l1: 0.0527802\n",
      "[30]\tvalid_0's l1: 0.0527784\n",
      "[31]\tvalid_0's l1: 0.0527777\n",
      "[32]\tvalid_0's l1: 0.0527769\n",
      "[33]\tvalid_0's l1: 0.0527758\n",
      "[34]\tvalid_0's l1: 0.0527744\n",
      "[35]\tvalid_0's l1: 0.0527727\n",
      "[36]\tvalid_0's l1: 0.0527716\n",
      "[37]\tvalid_0's l1: 0.0527709\n",
      "[38]\tvalid_0's l1: 0.0527701\n",
      "[39]\tvalid_0's l1: 0.0527685\n",
      "[40]\tvalid_0's l1: 0.0527675\n",
      "[41]\tvalid_0's l1: 0.0527666\n",
      "[42]\tvalid_0's l1: 0.0527656\n",
      "[43]\tvalid_0's l1: 0.0527645\n",
      "[44]\tvalid_0's l1: 0.0527639\n",
      "[45]\tvalid_0's l1: 0.0527632\n",
      "[46]\tvalid_0's l1: 0.0527612\n",
      "[47]\tvalid_0's l1: 0.0527606\n",
      "[48]\tvalid_0's l1: 0.0527596\n",
      "[49]\tvalid_0's l1: 0.0527587\n",
      "[50]\tvalid_0's l1: 0.0527572\n",
      "[51]\tvalid_0's l1: 0.0527556\n",
      "[52]\tvalid_0's l1: 0.0527548\n",
      "[53]\tvalid_0's l1: 0.0527539\n",
      "[54]\tvalid_0's l1: 0.0527529\n",
      "[55]\tvalid_0's l1: 0.0527522\n",
      "[56]\tvalid_0's l1: 0.0527512\n",
      "[57]\tvalid_0's l1: 0.0527504\n",
      "[58]\tvalid_0's l1: 0.0527498\n",
      "[59]\tvalid_0's l1: 0.0527489\n",
      "[60]\tvalid_0's l1: 0.0527482\n",
      "[61]\tvalid_0's l1: 0.0527466\n",
      "[62]\tvalid_0's l1: 0.0527453\n",
      "[63]\tvalid_0's l1: 0.0527443\n",
      "[64]\tvalid_0's l1: 0.0527435\n",
      "[65]\tvalid_0's l1: 0.0527419\n",
      "[66]\tvalid_0's l1: 0.0527411\n",
      "[67]\tvalid_0's l1: 0.0527404\n",
      "[68]\tvalid_0's l1: 0.0527395\n",
      "[69]\tvalid_0's l1: 0.0527391\n",
      "[70]\tvalid_0's l1: 0.0527382\n",
      "[71]\tvalid_0's l1: 0.0527373\n",
      "[72]\tvalid_0's l1: 0.0527363\n",
      "[73]\tvalid_0's l1: 0.0527354\n",
      "[74]\tvalid_0's l1: 0.052734\n",
      "[75]\tvalid_0's l1: 0.0527331\n",
      "[76]\tvalid_0's l1: 0.0527322\n",
      "[77]\tvalid_0's l1: 0.0527311\n",
      "[78]\tvalid_0's l1: 0.0527303\n",
      "[79]\tvalid_0's l1: 0.0527287\n",
      "[80]\tvalid_0's l1: 0.0527277\n",
      "[81]\tvalid_0's l1: 0.0527267\n",
      "[82]\tvalid_0's l1: 0.0527259\n",
      "[83]\tvalid_0's l1: 0.0527243\n",
      "[84]\tvalid_0's l1: 0.0527228\n",
      "[85]\tvalid_0's l1: 0.0527222\n",
      "[86]\tvalid_0's l1: 0.0527214\n",
      "[87]\tvalid_0's l1: 0.0527201\n",
      "[88]\tvalid_0's l1: 0.0527192\n",
      "[89]\tvalid_0's l1: 0.0527185\n",
      "[90]\tvalid_0's l1: 0.0527177\n",
      "[91]\tvalid_0's l1: 0.0527169\n",
      "[92]\tvalid_0's l1: 0.0527162\n",
      "[93]\tvalid_0's l1: 0.0527148\n",
      "[94]\tvalid_0's l1: 0.0527132\n",
      "[95]\tvalid_0's l1: 0.0527124\n",
      "[96]\tvalid_0's l1: 0.0527114\n",
      "[97]\tvalid_0's l1: 0.052711\n",
      "[98]\tvalid_0's l1: 0.0527102\n",
      "[99]\tvalid_0's l1: 0.0527094\n",
      "[100]\tvalid_0's l1: 0.0527087\n",
      "[101]\tvalid_0's l1: 0.0527075\n",
      "[102]\tvalid_0's l1: 0.052707\n",
      "[103]\tvalid_0's l1: 0.0527054\n",
      "[104]\tvalid_0's l1: 0.052704\n",
      "[105]\tvalid_0's l1: 0.0527035\n",
      "[106]\tvalid_0's l1: 0.0527028\n",
      "[107]\tvalid_0's l1: 0.0527016\n",
      "[108]\tvalid_0's l1: 0.052701\n",
      "[109]\tvalid_0's l1: 0.0527003\n",
      "[110]\tvalid_0's l1: 0.0526994\n",
      "[111]\tvalid_0's l1: 0.0526988\n",
      "[112]\tvalid_0's l1: 0.0526977\n",
      "[113]\tvalid_0's l1: 0.0526969\n",
      "[114]\tvalid_0's l1: 0.0526965\n",
      "[115]\tvalid_0's l1: 0.0526956\n",
      "[116]\tvalid_0's l1: 0.0526946\n",
      "[117]\tvalid_0's l1: 0.0526933\n",
      "[118]\tvalid_0's l1: 0.0526926\n",
      "[119]\tvalid_0's l1: 0.0526921\n",
      "[120]\tvalid_0's l1: 0.0526911\n",
      "[121]\tvalid_0's l1: 0.0526903\n",
      "[122]\tvalid_0's l1: 0.0526898\n",
      "[123]\tvalid_0's l1: 0.0526889\n",
      "[124]\tvalid_0's l1: 0.0526884\n",
      "[125]\tvalid_0's l1: 0.0526871\n",
      "[126]\tvalid_0's l1: 0.052686\n",
      "[127]\tvalid_0's l1: 0.0526852\n",
      "[128]\tvalid_0's l1: 0.0526844\n",
      "[129]\tvalid_0's l1: 0.0526836\n",
      "[130]\tvalid_0's l1: 0.0526828\n",
      "[131]\tvalid_0's l1: 0.0526822\n",
      "[132]\tvalid_0's l1: 0.052681\n",
      "[133]\tvalid_0's l1: 0.0526803\n",
      "[134]\tvalid_0's l1: 0.0526795\n",
      "[135]\tvalid_0's l1: 0.0526786\n",
      "[136]\tvalid_0's l1: 0.052678\n",
      "[137]\tvalid_0's l1: 0.0526775\n",
      "[138]\tvalid_0's l1: 0.0526768\n",
      "[139]\tvalid_0's l1: 0.0526763\n",
      "[140]\tvalid_0's l1: 0.052675\n",
      "[141]\tvalid_0's l1: 0.0526743\n",
      "[142]\tvalid_0's l1: 0.0526737\n",
      "[143]\tvalid_0's l1: 0.0526732\n",
      "[144]\tvalid_0's l1: 0.0526725\n",
      "[145]\tvalid_0's l1: 0.052672\n",
      "[146]\tvalid_0's l1: 0.0526712\n",
      "[147]\tvalid_0's l1: 0.0526705\n",
      "[148]\tvalid_0's l1: 0.0526703\n",
      "[149]\tvalid_0's l1: 0.0526692\n",
      "[150]\tvalid_0's l1: 0.0526682\n",
      "[151]\tvalid_0's l1: 0.0526677\n",
      "[152]\tvalid_0's l1: 0.0526673\n",
      "[153]\tvalid_0's l1: 0.0526669\n",
      "[154]\tvalid_0's l1: 0.0526664\n",
      "[155]\tvalid_0's l1: 0.052666\n",
      "[156]\tvalid_0's l1: 0.0526653\n",
      "[157]\tvalid_0's l1: 0.0526646\n",
      "[158]\tvalid_0's l1: 0.0526641\n",
      "[159]\tvalid_0's l1: 0.0526631\n",
      "[160]\tvalid_0's l1: 0.0526622\n",
      "[161]\tvalid_0's l1: 0.0526611\n",
      "[162]\tvalid_0's l1: 0.0526606\n",
      "[163]\tvalid_0's l1: 0.0526595\n",
      "[164]\tvalid_0's l1: 0.0526586\n",
      "[165]\tvalid_0's l1: 0.0526576\n",
      "[166]\tvalid_0's l1: 0.0526573\n",
      "[167]\tvalid_0's l1: 0.0526566\n",
      "[168]\tvalid_0's l1: 0.0526557\n",
      "[169]\tvalid_0's l1: 0.0526551\n",
      "[170]\tvalid_0's l1: 0.0526543\n",
      "[171]\tvalid_0's l1: 0.0526537\n",
      "[172]\tvalid_0's l1: 0.0526532\n",
      "[173]\tvalid_0's l1: 0.0526528\n",
      "[174]\tvalid_0's l1: 0.0526523\n",
      "[175]\tvalid_0's l1: 0.0526519\n",
      "[176]\tvalid_0's l1: 0.0526516\n",
      "[177]\tvalid_0's l1: 0.0526515\n",
      "[178]\tvalid_0's l1: 0.0526504\n",
      "[179]\tvalid_0's l1: 0.0526496\n",
      "[180]\tvalid_0's l1: 0.0526492\n",
      "[181]\tvalid_0's l1: 0.0526486\n",
      "[182]\tvalid_0's l1: 0.0526482\n",
      "[183]\tvalid_0's l1: 0.0526471\n",
      "[184]\tvalid_0's l1: 0.0526465\n",
      "[185]\tvalid_0's l1: 0.0526459\n",
      "[186]\tvalid_0's l1: 0.052645\n",
      "[187]\tvalid_0's l1: 0.0526443\n",
      "[188]\tvalid_0's l1: 0.052644\n",
      "[189]\tvalid_0's l1: 0.0526433\n",
      "[190]\tvalid_0's l1: 0.0526429\n",
      "[191]\tvalid_0's l1: 0.0526424\n",
      "[192]\tvalid_0's l1: 0.0526414\n",
      "[193]\tvalid_0's l1: 0.0526407\n",
      "[194]\tvalid_0's l1: 0.0526398\n",
      "[195]\tvalid_0's l1: 0.0526395\n",
      "[196]\tvalid_0's l1: 0.0526391\n",
      "[197]\tvalid_0's l1: 0.0526386\n",
      "[198]\tvalid_0's l1: 0.0526384\n",
      "[199]\tvalid_0's l1: 0.0526379\n",
      "[200]\tvalid_0's l1: 0.0526375\n",
      "[201]\tvalid_0's l1: 0.0526367\n",
      "[202]\tvalid_0's l1: 0.0526363\n",
      "[203]\tvalid_0's l1: 0.052636\n",
      "[204]\tvalid_0's l1: 0.0526356\n",
      "[205]\tvalid_0's l1: 0.0526344\n",
      "[206]\tvalid_0's l1: 0.0526339\n",
      "[207]\tvalid_0's l1: 0.0526334\n",
      "[208]\tvalid_0's l1: 0.0526328\n",
      "[209]\tvalid_0's l1: 0.0526322\n",
      "[210]\tvalid_0's l1: 0.0526317\n",
      "[211]\tvalid_0's l1: 0.0526312\n",
      "[212]\tvalid_0's l1: 0.0526309\n",
      "[213]\tvalid_0's l1: 0.0526307\n",
      "[214]\tvalid_0's l1: 0.0526302\n",
      "[215]\tvalid_0's l1: 0.0526297\n",
      "[216]\tvalid_0's l1: 0.0526293\n",
      "[217]\tvalid_0's l1: 0.0526284\n",
      "[218]\tvalid_0's l1: 0.052628\n",
      "[219]\tvalid_0's l1: 0.052627\n",
      "[220]\tvalid_0's l1: 0.0526265\n",
      "[221]\tvalid_0's l1: 0.0526262\n",
      "[222]\tvalid_0's l1: 0.0526249\n",
      "[223]\tvalid_0's l1: 0.0526246\n",
      "[224]\tvalid_0's l1: 0.0526236\n",
      "[225]\tvalid_0's l1: 0.0526229\n",
      "[226]\tvalid_0's l1: 0.0526224\n",
      "[227]\tvalid_0's l1: 0.052622\n",
      "[228]\tvalid_0's l1: 0.0526215\n",
      "[229]\tvalid_0's l1: 0.0526211\n",
      "[230]\tvalid_0's l1: 0.0526202\n",
      "[231]\tvalid_0's l1: 0.0526197\n",
      "[232]\tvalid_0's l1: 0.0526185\n",
      "[233]\tvalid_0's l1: 0.0526177\n",
      "[234]\tvalid_0's l1: 0.0526172\n",
      "[235]\tvalid_0's l1: 0.0526167\n",
      "[236]\tvalid_0's l1: 0.0526164\n",
      "[237]\tvalid_0's l1: 0.0526159\n",
      "[238]\tvalid_0's l1: 0.0526146\n",
      "[239]\tvalid_0's l1: 0.0526141\n",
      "[240]\tvalid_0's l1: 0.0526136\n",
      "[241]\tvalid_0's l1: 0.052613\n",
      "[242]\tvalid_0's l1: 0.0526126\n",
      "[243]\tvalid_0's l1: 0.0526123\n",
      "[244]\tvalid_0's l1: 0.0526121\n",
      "[245]\tvalid_0's l1: 0.0526112\n",
      "[246]\tvalid_0's l1: 0.0526105\n",
      "[247]\tvalid_0's l1: 0.0526103\n",
      "[248]\tvalid_0's l1: 0.05261\n",
      "[249]\tvalid_0's l1: 0.0526087\n",
      "[250]\tvalid_0's l1: 0.0526081\n",
      "[251]\tvalid_0's l1: 0.0526077\n",
      "[252]\tvalid_0's l1: 0.0526073\n",
      "[253]\tvalid_0's l1: 0.0526071\n",
      "[254]\tvalid_0's l1: 0.0526065\n",
      "[255]\tvalid_0's l1: 0.0526061\n",
      "[256]\tvalid_0's l1: 0.0526057\n",
      "[257]\tvalid_0's l1: 0.0526046\n",
      "[258]\tvalid_0's l1: 0.0526043\n",
      "[259]\tvalid_0's l1: 0.0526038\n",
      "[260]\tvalid_0's l1: 0.0526037\n",
      "[261]\tvalid_0's l1: 0.0526035\n",
      "[262]\tvalid_0's l1: 0.0526031\n",
      "[263]\tvalid_0's l1: 0.0526027\n",
      "[264]\tvalid_0's l1: 0.0526018\n",
      "[265]\tvalid_0's l1: 0.0526006\n",
      "[266]\tvalid_0's l1: 0.0526002\n",
      "[267]\tvalid_0's l1: 0.0526\n",
      "[268]\tvalid_0's l1: 0.0526001\n",
      "[269]\tvalid_0's l1: 0.0525998\n",
      "[270]\tvalid_0's l1: 0.0525997\n",
      "[271]\tvalid_0's l1: 0.0525995\n",
      "[272]\tvalid_0's l1: 0.0525992\n",
      "[273]\tvalid_0's l1: 0.0525989\n",
      "[274]\tvalid_0's l1: 0.0525987\n",
      "[275]\tvalid_0's l1: 0.0525976\n",
      "[276]\tvalid_0's l1: 0.0525976\n",
      "[277]\tvalid_0's l1: 0.0525973\n",
      "[278]\tvalid_0's l1: 0.0525973\n",
      "[279]\tvalid_0's l1: 0.0525969\n"
     ]
    },
    {
     "name": "stdout",
     "output_type": "stream",
     "text": [
      "[280]\tvalid_0's l1: 0.0525965\n",
      "[281]\tvalid_0's l1: 0.0525957\n",
      "[282]\tvalid_0's l1: 0.0525944\n",
      "[283]\tvalid_0's l1: 0.0525935\n",
      "[284]\tvalid_0's l1: 0.0525924\n",
      "[285]\tvalid_0's l1: 0.052592\n",
      "[286]\tvalid_0's l1: 0.0525918\n",
      "[287]\tvalid_0's l1: 0.0525913\n",
      "[288]\tvalid_0's l1: 0.0525908\n",
      "[289]\tvalid_0's l1: 0.05259\n",
      "[290]\tvalid_0's l1: 0.0525891\n",
      "[291]\tvalid_0's l1: 0.0525887\n",
      "[292]\tvalid_0's l1: 0.0525883\n",
      "[293]\tvalid_0's l1: 0.0525877\n",
      "[294]\tvalid_0's l1: 0.0525871\n",
      "[295]\tvalid_0's l1: 0.0525861\n",
      "[296]\tvalid_0's l1: 0.0525854\n",
      "[297]\tvalid_0's l1: 0.0525851\n",
      "[298]\tvalid_0's l1: 0.0525852\n",
      "[299]\tvalid_0's l1: 0.0525839\n",
      "[300]\tvalid_0's l1: 0.0525835\n",
      "[301]\tvalid_0's l1: 0.0525831\n",
      "[302]\tvalid_0's l1: 0.0525826\n",
      "[303]\tvalid_0's l1: 0.0525822\n",
      "[304]\tvalid_0's l1: 0.0525817\n",
      "[305]\tvalid_0's l1: 0.0525808\n",
      "[306]\tvalid_0's l1: 0.0525799\n",
      "[307]\tvalid_0's l1: 0.0525794\n",
      "[308]\tvalid_0's l1: 0.0525783\n",
      "[309]\tvalid_0's l1: 0.052578\n",
      "[310]\tvalid_0's l1: 0.0525778\n",
      "[311]\tvalid_0's l1: 0.052577\n",
      "[312]\tvalid_0's l1: 0.0525765\n",
      "[313]\tvalid_0's l1: 0.0525757\n",
      "[314]\tvalid_0's l1: 0.0525754\n",
      "[315]\tvalid_0's l1: 0.052575\n",
      "[316]\tvalid_0's l1: 0.0525742\n",
      "[317]\tvalid_0's l1: 0.052574\n",
      "[318]\tvalid_0's l1: 0.0525734\n",
      "[319]\tvalid_0's l1: 0.0525732\n",
      "[320]\tvalid_0's l1: 0.0525729\n",
      "[321]\tvalid_0's l1: 0.0525725\n",
      "[322]\tvalid_0's l1: 0.0525723\n",
      "[323]\tvalid_0's l1: 0.0525722\n",
      "[324]\tvalid_0's l1: 0.0525719\n",
      "[325]\tvalid_0's l1: 0.0525717\n",
      "[326]\tvalid_0's l1: 0.0525713\n",
      "[327]\tvalid_0's l1: 0.052571\n",
      "[328]\tvalid_0's l1: 0.0525705\n",
      "[329]\tvalid_0's l1: 0.0525704\n",
      "[330]\tvalid_0's l1: 0.0525701\n",
      "[331]\tvalid_0's l1: 0.05257\n",
      "[332]\tvalid_0's l1: 0.0525696\n",
      "[333]\tvalid_0's l1: 0.0525685\n",
      "[334]\tvalid_0's l1: 0.0525674\n",
      "[335]\tvalid_0's l1: 0.0525672\n",
      "[336]\tvalid_0's l1: 0.0525669\n",
      "[337]\tvalid_0's l1: 0.0525663\n",
      "[338]\tvalid_0's l1: 0.0525661\n",
      "[339]\tvalid_0's l1: 0.0525659\n",
      "[340]\tvalid_0's l1: 0.0525653\n",
      "[341]\tvalid_0's l1: 0.0525648\n",
      "[342]\tvalid_0's l1: 0.0525639\n",
      "[343]\tvalid_0's l1: 0.0525637\n",
      "[344]\tvalid_0's l1: 0.0525634\n",
      "[345]\tvalid_0's l1: 0.0525625\n",
      "[346]\tvalid_0's l1: 0.0525619\n",
      "[347]\tvalid_0's l1: 0.0525616\n",
      "[348]\tvalid_0's l1: 0.0525614\n",
      "[349]\tvalid_0's l1: 0.0525613\n",
      "[350]\tvalid_0's l1: 0.0525611\n",
      "[351]\tvalid_0's l1: 0.0525609\n",
      "[352]\tvalid_0's l1: 0.0525603\n",
      "[353]\tvalid_0's l1: 0.0525598\n",
      "[354]\tvalid_0's l1: 0.0525595\n",
      "[355]\tvalid_0's l1: 0.0525593\n",
      "[356]\tvalid_0's l1: 0.0525588\n",
      "[357]\tvalid_0's l1: 0.0525588\n",
      "[358]\tvalid_0's l1: 0.052558\n",
      "[359]\tvalid_0's l1: 0.0525577\n",
      "[360]\tvalid_0's l1: 0.0525575\n",
      "[361]\tvalid_0's l1: 0.0525574\n",
      "[362]\tvalid_0's l1: 0.052557\n",
      "[363]\tvalid_0's l1: 0.0525569\n",
      "[364]\tvalid_0's l1: 0.0525562\n",
      "[365]\tvalid_0's l1: 0.0525559\n",
      "[366]\tvalid_0's l1: 0.0525556\n",
      "[367]\tvalid_0's l1: 0.0525555\n",
      "[368]\tvalid_0's l1: 0.0525555\n",
      "[369]\tvalid_0's l1: 0.0525551\n",
      "[370]\tvalid_0's l1: 0.0525548\n",
      "[371]\tvalid_0's l1: 0.0525547\n",
      "[372]\tvalid_0's l1: 0.0525544\n",
      "[373]\tvalid_0's l1: 0.052554\n",
      "[374]\tvalid_0's l1: 0.0525533\n",
      "[375]\tvalid_0's l1: 0.0525531\n",
      "[376]\tvalid_0's l1: 0.0525522\n",
      "[377]\tvalid_0's l1: 0.052552\n",
      "[378]\tvalid_0's l1: 0.0525518\n",
      "[379]\tvalid_0's l1: 0.0525516\n",
      "[380]\tvalid_0's l1: 0.0525512\n",
      "[381]\tvalid_0's l1: 0.0525513\n",
      "[382]\tvalid_0's l1: 0.0525509\n",
      "[383]\tvalid_0's l1: 0.0525506\n",
      "[384]\tvalid_0's l1: 0.0525507\n",
      "[385]\tvalid_0's l1: 0.0525503\n",
      "[386]\tvalid_0's l1: 0.0525498\n",
      "[387]\tvalid_0's l1: 0.052549\n",
      "[388]\tvalid_0's l1: 0.0525489\n",
      "[389]\tvalid_0's l1: 0.0525488\n",
      "[390]\tvalid_0's l1: 0.0525488\n",
      "[391]\tvalid_0's l1: 0.0525479\n",
      "[392]\tvalid_0's l1: 0.0525471\n",
      "[393]\tvalid_0's l1: 0.0525469\n",
      "[394]\tvalid_0's l1: 0.0525466\n",
      "[395]\tvalid_0's l1: 0.0525463\n",
      "[396]\tvalid_0's l1: 0.0525461\n",
      "[397]\tvalid_0's l1: 0.0525459\n",
      "[398]\tvalid_0's l1: 0.0525457\n",
      "[399]\tvalid_0's l1: 0.0525455\n",
      "[400]\tvalid_0's l1: 0.0525451\n",
      "[401]\tvalid_0's l1: 0.0525442\n",
      "[402]\tvalid_0's l1: 0.0525442\n",
      "[403]\tvalid_0's l1: 0.0525437\n",
      "[404]\tvalid_0's l1: 0.0525435\n",
      "[405]\tvalid_0's l1: 0.0525431\n",
      "[406]\tvalid_0's l1: 0.052543\n",
      "[407]\tvalid_0's l1: 0.0525424\n",
      "[408]\tvalid_0's l1: 0.0525424\n",
      "[409]\tvalid_0's l1: 0.0525422\n",
      "[410]\tvalid_0's l1: 0.052542\n",
      "[411]\tvalid_0's l1: 0.052541\n",
      "[412]\tvalid_0's l1: 0.05254\n",
      "[413]\tvalid_0's l1: 0.05254\n",
      "[414]\tvalid_0's l1: 0.0525396\n",
      "[415]\tvalid_0's l1: 0.0525395\n",
      "[416]\tvalid_0's l1: 0.0525391\n",
      "[417]\tvalid_0's l1: 0.0525388\n",
      "[418]\tvalid_0's l1: 0.0525385\n",
      "[419]\tvalid_0's l1: 0.0525384\n",
      "[420]\tvalid_0's l1: 0.0525382\n",
      "[421]\tvalid_0's l1: 0.0525376\n",
      "[422]\tvalid_0's l1: 0.0525372\n",
      "[423]\tvalid_0's l1: 0.0525368\n",
      "[424]\tvalid_0's l1: 0.0525366\n",
      "[425]\tvalid_0's l1: 0.0525364\n",
      "[426]\tvalid_0's l1: 0.0525358\n",
      "[427]\tvalid_0's l1: 0.0525352\n",
      "[428]\tvalid_0's l1: 0.0525344\n",
      "[429]\tvalid_0's l1: 0.0525338\n",
      "[430]\tvalid_0's l1: 0.0525337\n",
      "[431]\tvalid_0's l1: 0.0525335\n",
      "[432]\tvalid_0's l1: 0.0525331\n",
      "[433]\tvalid_0's l1: 0.0525332\n",
      "[434]\tvalid_0's l1: 0.0525328\n",
      "[435]\tvalid_0's l1: 0.0525325\n",
      "[436]\tvalid_0's l1: 0.0525318\n",
      "[437]\tvalid_0's l1: 0.0525317\n",
      "[438]\tvalid_0's l1: 0.0525316\n",
      "[439]\tvalid_0's l1: 0.0525315\n",
      "[440]\tvalid_0's l1: 0.0525307\n",
      "[441]\tvalid_0's l1: 0.0525306\n",
      "[442]\tvalid_0's l1: 0.0525303\n",
      "[443]\tvalid_0's l1: 0.0525297\n",
      "[444]\tvalid_0's l1: 0.0525291\n",
      "[445]\tvalid_0's l1: 0.0525289\n",
      "[446]\tvalid_0's l1: 0.052529\n",
      "[447]\tvalid_0's l1: 0.0525286\n",
      "[448]\tvalid_0's l1: 0.052528\n",
      "[449]\tvalid_0's l1: 0.0525276\n",
      "[450]\tvalid_0's l1: 0.0525273\n",
      "[451]\tvalid_0's l1: 0.0525266\n",
      "[452]\tvalid_0's l1: 0.0525265\n",
      "[453]\tvalid_0's l1: 0.0525265\n",
      "[454]\tvalid_0's l1: 0.0525263\n",
      "[455]\tvalid_0's l1: 0.0525262\n",
      "[456]\tvalid_0's l1: 0.0525259\n",
      "[457]\tvalid_0's l1: 0.0525252\n",
      "[458]\tvalid_0's l1: 0.0525249\n",
      "[459]\tvalid_0's l1: 0.0525248\n",
      "[460]\tvalid_0's l1: 0.0525244\n",
      "[461]\tvalid_0's l1: 0.0525245\n",
      "[462]\tvalid_0's l1: 0.0525245\n",
      "[463]\tvalid_0's l1: 0.0525242\n",
      "[464]\tvalid_0's l1: 0.052524\n",
      "[465]\tvalid_0's l1: 0.0525239\n",
      "[466]\tvalid_0's l1: 0.0525238\n",
      "[467]\tvalid_0's l1: 0.0525236\n",
      "[468]\tvalid_0's l1: 0.052523\n",
      "[469]\tvalid_0's l1: 0.0525229\n",
      "[470]\tvalid_0's l1: 0.0525229\n",
      "[471]\tvalid_0's l1: 0.052522\n",
      "[472]\tvalid_0's l1: 0.0525213\n",
      "[473]\tvalid_0's l1: 0.0525211\n",
      "[474]\tvalid_0's l1: 0.052521\n",
      "[475]\tvalid_0's l1: 0.052521\n",
      "[476]\tvalid_0's l1: 0.0525206\n",
      "[477]\tvalid_0's l1: 0.0525202\n",
      "[478]\tvalid_0's l1: 0.0525202\n",
      "[479]\tvalid_0's l1: 0.0525199\n",
      "[480]\tvalid_0's l1: 0.0525198\n",
      "[481]\tvalid_0's l1: 0.0525198\n",
      "[482]\tvalid_0's l1: 0.0525195\n",
      "[483]\tvalid_0's l1: 0.0525193\n",
      "[484]\tvalid_0's l1: 0.0525189\n",
      "[485]\tvalid_0's l1: 0.0525187\n",
      "[486]\tvalid_0's l1: 0.0525183\n",
      "[487]\tvalid_0's l1: 0.0525182\n",
      "[488]\tvalid_0's l1: 0.0525181\n",
      "[489]\tvalid_0's l1: 0.052518\n",
      "[490]\tvalid_0's l1: 0.0525179\n",
      "[491]\tvalid_0's l1: 0.0525173\n",
      "[492]\tvalid_0's l1: 0.0525172\n",
      "[493]\tvalid_0's l1: 0.0525167\n",
      "[494]\tvalid_0's l1: 0.0525165\n",
      "[495]\tvalid_0's l1: 0.0525163\n",
      "[496]\tvalid_0's l1: 0.052516\n",
      "[497]\tvalid_0's l1: 0.0525152\n",
      "[498]\tvalid_0's l1: 0.0525151\n",
      "[499]\tvalid_0's l1: 0.052515\n",
      "[500]\tvalid_0's l1: 0.052515\n"
     ]
    }
   ],
   "source": [
    "import lightgbm as lgb\n",
    "import gc\n",
    "\n",
    "params = {}\n",
    "params['learning_rate'] = 0.002\n",
    "params['boosting_type'] = 'gbdt'\n",
    "params['objective'] = 'regression'\n",
    "params['metric'] = 'mae'\n",
    "params['sub_feature'] = 0.5\n",
    "params['num_leaves'] = 60\n",
    "params['min_data'] = 500\n",
    "params['min_hessian'] = 1\n",
    "\n",
    "ds_train = lgb.Dataset(X_train, label=y_train)\n",
    "ds_test = lgb.Dataset(X_test, label=y_test)\n",
    "\n",
    "watchlist = [ds_test]\n",
    "\n",
    "clf = lgb.train(params, ds_train, 500, watchlist)"
   ]
  },
  {
   "cell_type": "code",
   "execution_count": 95,
   "metadata": {
    "collapsed": true
   },
   "outputs": [],
   "source": [
    "y_prediction = clf.predict(X_test)"
   ]
  },
  {
   "cell_type": "code",
   "execution_count": 97,
   "metadata": {},
   "outputs": [
    {
     "data": {
      "text/plain": [
       "0.052515012513006019"
      ]
     },
     "execution_count": 97,
     "metadata": {},
     "output_type": "execute_result"
    }
   ],
   "source": [
    "clf.best_score['valid_0']['l1']"
   ]
  },
  {
   "cell_type": "code",
   "execution_count": null,
   "metadata": {
    "collapsed": true
   },
   "outputs": [],
   "source": []
  },
  {
   "cell_type": "code",
   "execution_count": null,
   "metadata": {
    "collapsed": true
   },
   "outputs": [],
   "source": [
    "import tflearn as tf\n",
    "\n",
    "# input layer\n",
    "net = tf.input_data(shape=[None, X_train.shape[1]])\n",
    "\n",
    "# hidden layers\n",
    "net = tf.fully_connected(net, 32, activation='relu')\n",
    "net = tf.fully_connected(net, 64, activation='relu')\n",
    "net = tf.fully_connected(net, 64, activation='relu')\n",
    "net = tf.fully_connected(net, 32, activation='relu')\n",
    "\n",
    "# output layer\n",
    "net = tf.fully_connected(net, 1, activation='linear')\n",
    "\n",
    "net = tf.regression(net, optimizer='adam', loss='mean_square', metric='R2', learning_rate=0.001)\n",
    "\n",
    "net = tf.DNN(net, tensorboard_verbose=0)\n",
    "\n",
    "net.fit(X_train, y_train, n_epoch=10, validation_set=0.1, show_metric=True, batch_size=128, shuffle=True,\n",
    "       snapshot_epoch=True)"
   ]
  },
  {
   "cell_type": "code",
   "execution_count": null,
   "metadata": {
    "collapsed": true
   },
   "outputs": [],
   "source": []
  },
  {
   "cell_type": "markdown",
   "metadata": {},
   "source": [
    "### Submission"
   ]
  },
  {
   "cell_type": "code",
   "execution_count": 72,
   "metadata": {
    "collapsed": true
   },
   "outputs": [],
   "source": [
    "sample_submission = pd.read_csv('sample_submission.csv')"
   ]
  },
  {
   "cell_type": "code",
   "execution_count": 73,
   "metadata": {},
   "outputs": [],
   "source": [
    "import datetime\n",
    "today = datetime.date.today().strftime(\"%d-%m-%Y\")"
   ]
  },
  {
   "cell_type": "code",
   "execution_count": 74,
   "metadata": {},
   "outputs": [],
   "source": [
    "sample_submission['parcelid'] = sample_submission['ParcelId']\n",
    "submission = sample_submission.merge(properties_2016, on='parcelid', how='left')\n",
    "\n",
    "X_test = submission[my_features]\n",
    "X_test = X_test.fillna(mean_values, inplace=True)\n",
    "prediction = rf.predict(X_test.values)\n",
    "\n",
    "for column_name in submission.columns[submission.columns != 'ParcelId']:\n",
    "    submission[column_name] = prediction\n",
    "\n",
    "submission.to_csv('submission_%s.csv' % today, index=False, float_format='%.4f')"
   ]
  },
  {
   "cell_type": "code",
   "execution_count": null,
   "metadata": {
    "collapsed": true
   },
   "outputs": [],
   "source": []
  }
 ],
 "metadata": {
  "kernelspec": {
   "display_name": "Python 2",
   "language": "python",
   "name": "python2"
  },
  "language_info": {
   "codemirror_mode": {
    "name": "ipython",
    "version": 2
   },
   "file_extension": ".py",
   "mimetype": "text/x-python",
   "name": "python",
   "nbconvert_exporter": "python",
   "pygments_lexer": "ipython2",
   "version": "2.7.10"
  }
 },
 "nbformat": 4,
 "nbformat_minor": 2
}
