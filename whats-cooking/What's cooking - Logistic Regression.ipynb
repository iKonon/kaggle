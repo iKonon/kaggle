{
 "cells": [
  {
   "cell_type": "markdown",
   "metadata": {
    "collapsed": true
   },
   "source": [
    "#  Logistic Regression"
   ]
  },
  {
   "cell_type": "code",
   "execution_count": 3,
   "metadata": {
    "collapsed": true
   },
   "outputs": [],
   "source": [
    "import pandas as pd\n",
    "import numpy as np\n",
    "from collections import Counter"
   ]
  },
  {
   "cell_type": "code",
   "execution_count": 4,
   "metadata": {
    "collapsed": true
   },
   "outputs": [],
   "source": [
    "from nltk.stem import WordNetLemmatizer\n",
    "from nltk.stem.porter import PorterStemmer\n",
    "from sklearn.feature_extraction.text import TfidfVectorizer\n",
    "from sklearn import grid_search\n",
    "\n",
    "from scipy.sparse import lil_matrix\n",
    "from sklearn.linear_model import LogisticRegression\n",
    "from sklearn.svm import LinearSVC\n",
    "from sklearn.metrics import confusion_matrix\n",
    "from sklearn.metrics import classification_report\n",
    "from sklearn.feature_extraction.text import CountVectorizer\n",
    "from sklearn.preprocessing import LabelEncoder\n",
    "from sklearn.cross_validation import train_test_split"
   ]
  },
  {
   "cell_type": "code",
   "execution_count": 5,
   "metadata": {
    "collapsed": false
   },
   "outputs": [],
   "source": [
    "train_df = pd.read_json(\"train.json\")\n",
    "test_df = pd.read_json(\"test.json\") "
   ]
  },
  {
   "cell_type": "code",
   "execution_count": 6,
   "metadata": {
    "collapsed": false
   },
   "outputs": [],
   "source": [
    "cuisines = list(train_df.cuisine.unique())\n",
    "\n",
    "ingredient_dict = {}\n",
    "for cuisine in cuisines:\n",
    "    ingredient_dict[cuisine] = Counter(\",\".join(\n",
    "            [\",\".join(_) for _ in train_df[train_df.cuisine == cuisine]['ingredients'].values]).split(\",\"))"
   ]
  },
  {
   "cell_type": "code",
   "execution_count": 7,
   "metadata": {
    "collapsed": true
   },
   "outputs": [],
   "source": [
    "c = Counter(\";\".join([\";\".join(_) for _ in train_df.ingredients.values]).split(\";\"))"
   ]
  },
  {
   "cell_type": "code",
   "execution_count": 8,
   "metadata": {
    "collapsed": false
   },
   "outputs": [],
   "source": [
    "list(c.keys()).index(\"butter\")\n",
    "ingredients_index = list(c.keys())"
   ]
  },
  {
   "cell_type": "code",
   "execution_count": 9,
   "metadata": {
    "collapsed": false
   },
   "outputs": [
    {
     "name": "stdout",
     "output_type": "stream",
     "text": [
      "CPU times: user 1min 25s, sys: 923 ms, total: 1min 26s\n",
      "Wall time: 1min 25s\n"
     ]
    }
   ],
   "source": [
    "%%time\n",
    "n = train_df.shape[0]\n",
    "m = len(c.keys())\n",
    "X = lil_matrix((n, m), dtype=np.int)\n",
    "y = np.zeros(n, dtype=np.int)\n",
    "for recipe in range(n):\n",
    "    y[recipe] = cuisines.index(train_df.loc[recipe].cuisine)\n",
    "    for ingr in train_df.loc[recipe].ingredients:\n",
    "        X[recipe, ingredients_index.index(ingr)] = 1"
   ]
  },
  {
   "cell_type": "code",
   "execution_count": 10,
   "metadata": {
    "collapsed": false
   },
   "outputs": [
    {
     "data": {
      "text/plain": [
       "array([ 0,  1,  2,  3,  3,  4,  5,  6,  7,  6,  6,  8,  6,  7,  6,  3,  9,\n",
       "        6, 10, 11, 10,  7,  1,  8,  6,  8, 12,  6,  8,  7,  6, 12,  7, 10,\n",
       "        6, 12,  6,  2,  1,  1,  6, 13,  7,  3,  7,  8, 14,  1,  1,  1, 15,\n",
       "        1,  6,  1,  6,  4, 15,  3,  6, 16, 10, 10,  3,  4,  6, 10, 17, 14,\n",
       "       14,  1,  5,  3, 18,  6,  6, 18, 18, 11, 15,  7, 12,  1, 14,  3,  3,\n",
       "        6,  6,  3, 17,  5,  6,  1,  1,  0,  7,  7,  1,  3,  6,  6,  6, 15,\n",
       "        6,  0, 17,  3,  7,  1, 16, 17,  8,  7,  1,  8, 18, 16,  8, 16,  7,\n",
       "        6,  6,  6,  4,  7, 15,  5,  8,  7,  9,  3, 10,  1,  7,  5, 14,  6,\n",
       "        3,  9,  5,  6, 17,  3,  7,  7,  1, 14, 12,  3,  8,  6,  6,  6,  1,\n",
       "        0, 15, 12,  6, 17,  7,  3,  6,  7, 17,  8, 14,  8,  5,  8,  5, 15,\n",
       "        7, 14, 15,  7,  6,  2,  1,  6,  6,  8,  7,  3, 17,  7,  7, 15,  0,\n",
       "        7,  1,  8,  9, 15,  6,  7, 16,  0, 12, 15,  6,  1,  1,  1,  6,  3,\n",
       "        8, 15,  7,  7, 14,  7,  7, 16,  8,  7,  0, 17,  7,  5,  6,  1,  6,\n",
       "        7, 14,  7, 14,  2,  7,  7,  6,  7,  1,  6, 15,  6,  7,  7,  1,  1,\n",
       "        6,  4,  6, 17,  1,  3,  6,  3,  7, 17,  1, 11, 17,  3,  1,  7,  7,\n",
       "        6,  6, 17, 10,  1,  8, 14,  0,  1,  7,  3,  1,  7, 15,  9, 15,  7,\n",
       "        2,  7,  7,  3,  7,  3,  0,  6,  7,  8, 12,  6,  7,  6,  6,  6,  8,\n",
       "        6, 10,  1,  6,  7,  2,  3,  2,  6,  6,  7,  7,  6,  3,  3, 10, 11,\n",
       "       12,  7,  7,  1,  8,  6, 17, 14,  8,  9,  3,  8, 17,  8,  3,  6,  6,\n",
       "        8,  3,  1, 17, 11,  3, 15, 18, 18,  6,  3,  7,  7,  7,  1,  8, 12,\n",
       "       14,  3,  8,  1, 14, 10,  7,  7, 14,  6,  6, 14,  0,  6,  3,  2, 14,\n",
       "       18,  3, 11, 10,  7,  7,  2,  6,  8,  6, 12, 17, 19,  6, 16, 11, 15,\n",
       "        8, 12,  6, 14, 18,  1, 13,  8, 17,  6,  6,  6,  5,  1,  6,  6, 14,\n",
       "        6,  6,  7,  0, 14,  5, 15,  6, 15,  0, 15,  8,  7,  6, 10,  8,  7,\n",
       "        9, 15,  7,  7,  1,  3, 12, 15,  0,  8, 10,  8, 12,  3,  6, 13,  7,\n",
       "        8,  6, 14,  7,  0, 19,  1, 16, 11,  1,  4,  3, 17,  6,  6,  6, 14,\n",
       "        6, 10,  7,  6,  6, 10,  0,  1,  7,  6,  6, 12, 10,  7, 16, 15,  7,\n",
       "        6,  7,  6,  6,  1,  3,  6, 14, 15,  1,  6,  7,  9,  7,  7, 14, 18,\n",
       "        8, 17,  3,  8,  1,  6,  7,  1, 12,  1,  5,  6, 11, 17,  8,  6,  1,\n",
       "        2,  2,  8,  6,  6,  1,  9])"
      ]
     },
     "execution_count": 10,
     "metadata": {},
     "output_type": "execute_result"
    }
   ],
   "source": [
    "y[:500]"
   ]
  },
  {
   "cell_type": "code",
   "execution_count": 11,
   "metadata": {
    "collapsed": false
   },
   "outputs": [
    {
     "data": {
      "text/plain": [
       "<39774x6714 sparse matrix of type '<type 'numpy.int64'>'\n",
       "\twith 428249 stored elements in LInked List format>"
      ]
     },
     "execution_count": 11,
     "metadata": {},
     "output_type": "execute_result"
    }
   ],
   "source": [
    "X"
   ]
  },
  {
   "cell_type": "code",
   "execution_count": 12,
   "metadata": {
    "collapsed": false
   },
   "outputs": [],
   "source": [
    "X_train, X_test, y_train, y_test = train_test_split(X, y, test_size=0.2)"
   ]
  },
  {
   "cell_type": "code",
   "execution_count": 13,
   "metadata": {
    "collapsed": false
   },
   "outputs": [
    {
     "name": "stdout",
     "output_type": "stream",
     "text": [
      "LogisticRegression score: 0.743055\n",
      "CPU times: user 2.82 s, sys: 74.7 ms, total: 2.9 s\n",
      "Wall time: 2.91 s\n"
     ]
    }
   ],
   "source": [
    "%%time\n",
    "ind = np.array((X.sum(axis=0) < 1000) & (X.sum(axis=0) > 5)).ravel()\n",
    "logistic = LogisticRegression()\n",
    "logistic.fit(X_train[:, ind], y_train)\n",
    "print('LogisticRegression score: %f' % logistic.score(X_test[:, ind], y_test))"
   ]
  },
  {
   "cell_type": "code",
   "execution_count": 14,
   "metadata": {
    "collapsed": false
   },
   "outputs": [
    {
     "name": "stdout",
     "output_type": "stream",
     "text": [
      "LogisticRegression score: 0.196983\n",
      "LogisticRegression score: 0.201006\n",
      "LogisticRegression score: 0.242615\n",
      "LogisticRegression score: 0.332621\n",
      "LogisticRegression score: 0.471276\n",
      "LogisticRegression score: 0.621370\n",
      "LogisticRegression score: 0.724576\n",
      "LogisticRegression score: 0.773727\n",
      "LogisticRegression score: 0.781898\n",
      "LogisticRegression score: 0.783532\n",
      "LogisticRegression score: 0.217222\n",
      "LogisticRegression score: 0.278567\n",
      "LogisticRegression score: 0.362162\n",
      "LogisticRegression score: 0.480327\n",
      "LogisticRegression score: 0.608297\n",
      "LogisticRegression score: 0.714771\n",
      "LogisticRegression score: 0.754117\n",
      "LogisticRegression score: 0.778001\n",
      "LogisticRegression score: 0.781647\n",
      "LogisticRegression score: 0.783281\n",
      "LogisticRegression score: 0.354368\n",
      "LogisticRegression score: 0.450911\n",
      "LogisticRegression score: 0.544689\n",
      "LogisticRegression score: 0.643872\n",
      "LogisticRegression score: 0.715399\n",
      "LogisticRegression score: 0.747832\n",
      "LogisticRegression score: 0.771464\n",
      "LogisticRegression score: 0.781144\n",
      "LogisticRegression score: 0.780264\n",
      "LogisticRegression score: 0.781772\n",
      "LogisticRegression score: 0.593715\n",
      "LogisticRegression score: 0.659082\n",
      "LogisticRegression score: 0.706977\n",
      "LogisticRegression score: 0.733250\n",
      "LogisticRegression score: 0.752986\n",
      "LogisticRegression score: 0.770459\n",
      "LogisticRegression score: 0.775487\n",
      "LogisticRegression score: 0.778253\n",
      "LogisticRegression score: 0.776241\n",
      "LogisticRegression score: 0.777247\n",
      "LogisticRegression score: 0.733250\n",
      "LogisticRegression score: 0.743935\n",
      "LogisticRegression score: 0.758894\n",
      "LogisticRegression score: 0.760277\n",
      "LogisticRegression score: 0.764676\n",
      "LogisticRegression score: 0.765556\n",
      "LogisticRegression score: 0.768950\n",
      "LogisticRegression score: 0.767819\n",
      "LogisticRegression score: 0.767819\n",
      "LogisticRegression score: 0.768448\n",
      "LogisticRegression score: 0.751477\n",
      "LogisticRegression score: 0.752734\n",
      "LogisticRegression score: 0.753111\n",
      "LogisticRegression score: 0.753111\n",
      "LogisticRegression score: 0.753111\n",
      "LogisticRegression score: 0.753111\n",
      "LogisticRegression score: 0.753111\n",
      "LogisticRegression score: 0.753111\n",
      "LogisticRegression score: 0.753111\n",
      "LogisticRegression score: 0.753991\n",
      "LogisticRegression score: 0.729478\n",
      "LogisticRegression score: 0.729478\n",
      "LogisticRegression score: 0.729478\n",
      "LogisticRegression score: 0.729478\n",
      "LogisticRegression score: 0.729478\n",
      "LogisticRegression score: 0.729478\n",
      "LogisticRegression score: 0.729478\n",
      "LogisticRegression score: 0.729478\n",
      "LogisticRegression score: 0.729478\n",
      "LogisticRegression score: 0.729478\n",
      "LogisticRegression score: 0.678064\n",
      "LogisticRegression score: 0.678064\n",
      "LogisticRegression score: 0.678064\n",
      "LogisticRegression score: 0.678064\n",
      "LogisticRegression score: 0.678064\n",
      "LogisticRegression score: 0.678064\n",
      "LogisticRegression score: 0.678064\n",
      "LogisticRegression score: 0.678064\n",
      "LogisticRegression score: 0.678064\n",
      "LogisticRegression score: 0.678064\n",
      "LogisticRegression score: 0.605783\n",
      "LogisticRegression score: 0.605783\n",
      "LogisticRegression score: 0.605783\n",
      "LogisticRegression score: 0.605783\n",
      "LogisticRegression score: 0.605783\n",
      "LogisticRegression score: 0.605783\n",
      "LogisticRegression score: 0.605783\n",
      "LogisticRegression score: 0.605783\n",
      "LogisticRegression score: 0.605783\n",
      "LogisticRegression score: 0.605783\n",
      "LogisticRegression score: 0.516656\n",
      "LogisticRegression score: 0.516656\n",
      "LogisticRegression score: 0.516656\n",
      "LogisticRegression score: 0.516656\n",
      "LogisticRegression score: 0.516656\n",
      "LogisticRegression score: 0.516656\n",
      "LogisticRegression score: 0.516656\n",
      "LogisticRegression score: 0.516656\n",
      "LogisticRegression score: 0.516656\n",
      "LogisticRegression score: 0.516656\n"
     ]
    }
   ],
   "source": [
    "res = []\n",
    "logmax = np.log10(18049) # (u'salt', 18049)\n",
    "for lower_bound in np.logspace(0, 3, num=10):\n",
    "    for upper_bound in np.logspace(np.log(lower_bound), logmax, num=10):\n",
    "        ind = np.array((X.sum(axis=0) <= upper_bound) & (X.sum(axis=0) >= lower_bound)).ravel()\n",
    "        logistic = LogisticRegression()\n",
    "        logistic.fit(X_train[:, ind], y_train)\n",
    "        score = logistic.score(X_test[:, ind], y_test)\n",
    "        print('LogisticRegression score: %f' % score)\n",
    "        res.append((lower_bound, upper_bound, score))"
   ]
  },
  {
   "cell_type": "code",
   "execution_count": 15,
   "metadata": {
    "collapsed": false
   },
   "outputs": [
    {
     "name": "stdout",
     "output_type": "stream",
     "text": [
      "LogisticRegression score: 0.783532\n",
      "CPU times: user 6.95 s, sys: 30.6 ms, total: 6.98 s\n",
      "Wall time: 7 s\n"
     ]
    }
   ],
   "source": [
    "%%time\n",
    "logistic = LogisticRegression()\n",
    "logistic.fit(X_train, y_train)\n",
    "print('LogisticRegression score: %f' % logistic.score(X_test, y_test))"
   ]
  },
  {
   "cell_type": "code",
   "execution_count": 17,
   "metadata": {
    "collapsed": true
   },
   "outputs": [],
   "source": [
    "import warnings;\n",
    "with warnings.catch_warnings():\n",
    "    warnings.simplefilter(\"ignore\"); \n",
    "    import matplotlib.pyplot as plt    \n",
    "%matplotlib inline"
   ]
  },
  {
   "cell_type": "code",
   "execution_count": 18,
   "metadata": {
    "collapsed": false
   },
   "outputs": [
    {
     "data": {
      "image/png": "[encoded data removed]",
      "text/plain": [
       "<matplotlib.figure.Figure at 0x1228cfc50>"
      ]
     },
     "metadata": {},
     "output_type": "display_data"
    }
   ],
   "source": [
    "plt.figure(figsize=(10, 10))\n",
    "cm = confusion_matrix(y_test, logistic.predict(X_test))\n",
    "cm_normalized = cm.astype('float') / cm.sum(axis=1)[:, np.newaxis]\n",
    "plt.imshow(cm_normalized, interpolation='nearest', cmap=plt.cm.binary)\n",
    "plt.title(\"confusion matrix\")\n",
    "plt.colorbar()\n",
    "tick_marks = np.arange(len(cuisines))\n",
    "plt.xticks(tick_marks, cuisines, rotation=90)\n",
    "plt.yticks(tick_marks, cuisines)\n",
    "plt.tight_layout()\n",
    "plt.ylabel('True label')\n",
    "plt.xlabel('Predicted label')\n",
    "plt.savefig('confusion_matrix.png', dpi=200)"
   ]
  },
  {
   "cell_type": "code",
   "execution_count": 19,
   "metadata": {
    "collapsed": false
   },
   "outputs": [
    {
     "name": "stdout",
     "output_type": "stream",
     "text": [
      "CPU times: user 19.8 s, sys: 233 ms, total: 20.1 s\n",
      "Wall time: 19.9 s\n"
     ]
    }
   ],
   "source": [
    "%%time\n",
    "n = test_df.shape[0]\n",
    "m = len(c.viewkeys())\n",
    "X_submit = lil_matrix((n, m), dtype=np.int)\n",
    "for recipe in range(n):\n",
    "    for ingr in test_df.loc[recipe].ingredients:\n",
    "        try:\n",
    "            X_submit[recipe, ingredients_index.index(ingr)] = 1\n",
    "        except ValueError:\n",
    "            pass"
   ]
  },
  {
   "cell_type": "code",
   "execution_count": 20,
   "metadata": {
    "collapsed": false
   },
   "outputs": [],
   "source": [
    "y_submit = logistic.predict(X_submit)"
   ]
  },
  {
   "cell_type": "code",
   "execution_count": 21,
   "metadata": {
    "collapsed": true
   },
   "outputs": [],
   "source": [
    "def write_to_csv(y_submit, submission_filename='submission.csv'):\n",
    "    with open(submission_filename, 'w') as f:\n",
    "        f.write(\"id,cuisine\\n\")\n",
    "        for i, idx in zip(test_df.id, y_submit):\n",
    "            f.write(\"{},{}\\n\".format(i, cuisines[idx]))"
   ]
  },
  {
   "cell_type": "code",
   "execution_count": 22,
   "metadata": {
    "collapsed": false
   },
   "outputs": [],
   "source": [
    "write_to_csv(y_submit)"
   ]
  },
  {
   "cell_type": "code",
   "execution_count": 23,
   "metadata": {
    "collapsed": false
   },
   "outputs": [
    {
     "name": "stdout",
     "output_type": "stream",
     "text": [
      "(0.05, 0.71841609050911381)\n",
      "(0.1, 0.74142049025769952)\n",
      "(0.2, 0.75977372721558767)\n",
      "(0.3, 0.76920175989943429)\n",
      "(0.4, 0.77410433689503455)\n",
      "(0.5, 0.77787554996857322)\n",
      "(0.7, 0.7808925204274042)\n",
      "(0.8, 0.78227529855436828)\n",
      "(0.9, 0.78302954116907608)\n",
      "(1.0, 0.78353236957888117)\n",
      "(1.5, 0.78403519798868637)\n",
      "(2.0, 0.78353236957888117)\n",
      "(2.5, 0.78466373350094276)\n",
      "(3.0, 0.78466373350094276)\n",
      "(3.5, 0.78579509742300435)\n",
      "(4.0, 0.78529226901319926)\n",
      "(4.5, 0.78428661219358897)\n",
      "(5.0, 0.78390949088623507)\n",
      "(10.0, 0.77862979258328091)\n"
     ]
    }
   ],
   "source": [
    "#determine the best value for the c-parameter in the logistic regression\n",
    "learning_curve = []\n",
    "for C in [0.05, 0.1, 0.2, 0.3, 0.4, 0.5, 0.7, 0.8, 0.9, 1.0, 1.5, 2.0, 2.5, 3.0, 3.5, 4.0, 4.5, 5.0, 10.]:\n",
    "    clf = LogisticRegression(C=C)\n",
    "    clf.fit(X_train, y_train)\n",
    "    learning_curve.append((C, clf.score(X_test, y_test)))\n",
    "    print(learning_curve[-1])"
   ]
  },
  {
   "cell_type": "code",
   "execution_count": 24,
   "metadata": {
    "collapsed": false
   },
   "outputs": [
    {
     "data": {
      "text/plain": [
       "<matplotlib.text.Text at 0x126677990>"
      ]
     },
     "execution_count": 24,
     "metadata": {},
     "output_type": "execute_result"
    },
    {
     "data": {
      "image/png": "[encoded data removed]",
      "text/plain": [
       "<matplotlib.figure.Figure at 0x1228cf150>"
      ]
     },
     "metadata": {},
     "output_type": "display_data"
    }
   ],
   "source": [
    "plt.plot(np.array(learning_curve)[:, 0],\n",
    "        np.array(learning_curve)[:, 1])\n",
    "plt.xlabel(\"C parameter\")\n",
    "plt.ylabel(\"score\")"
   ]
  },
  {
   "cell_type": "code",
   "execution_count": 25,
   "metadata": {
    "collapsed": false
   },
   "outputs": [
    {
     "data": {
      "text/plain": [
       "3.5"
      ]
     },
     "execution_count": 25,
     "metadata": {},
     "output_type": "execute_result"
    }
   ],
   "source": [
    "np.array(learning_curve)[:, 0][np.array(learning_curve)[:, 1].argmax()]"
   ]
  },
  {
   "cell_type": "code",
   "execution_count": 26,
   "metadata": {
    "collapsed": false
   },
   "outputs": [
    {
     "name": "stdout",
     "output_type": "stream",
     "text": [
      "CPU times: user 10.2 s, sys: 43.9 ms, total: 10.3 s\n",
      "Wall time: 10.3 s\n"
     ]
    }
   ],
   "source": [
    "%%time\n",
    "clf = LogisticRegression(C=1.5)\n",
    "clf.fit(X, y)\n",
    "y_submit = clf.predict(X_submit)\n",
    "write_to_csv(y_submit, \"bestC.csv\")"
   ]
  },
  {
   "cell_type": "code",
   "execution_count": 27,
   "metadata": {
    "collapsed": true
   },
   "outputs": [],
   "source": [
    "#Normalization"
   ]
  },
  {
   "cell_type": "code",
   "execution_count": 28,
   "metadata": {
    "collapsed": true
   },
   "outputs": [],
   "source": [
    "c = Counter(\";\".join([\";\".join(_) for _ in train_df.ingredients.values]).split(\";\"))\n",
    "list(c.keys()).index(\"butter\")\n",
    "ingredients_index = list(c.keys())"
   ]
  },
  {
   "cell_type": "code",
   "execution_count": 29,
   "metadata": {
    "collapsed": false
   },
   "outputs": [
    {
     "name": "stdout",
     "output_type": "stream",
     "text": [
      "CPU times: user 1min 21s, sys: 836 ms, total: 1min 22s\n",
      "Wall time: 1min 21s\n"
     ]
    }
   ],
   "source": [
    "%%time\n",
    "n = train_df.shape[0]\n",
    "m = len(c.keys())\n",
    "X = lil_matrix((n, m), dtype=np.int)\n",
    "y = np.zeros(n, dtype=np.int)\n",
    "for recipe in range(n):\n",
    "    y[recipe] = cuisines.index(train_df.loc[recipe].cuisine)\n",
    "    for ingr in train_df.loc[recipe].ingredients:\n",
    "        X[recipe, ingredients_index.index(ingr)] = 1"
   ]
  },
  {
   "cell_type": "code",
   "execution_count": 30,
   "metadata": {
    "collapsed": false
   },
   "outputs": [
    {
     "name": "stdout",
     "output_type": "stream",
     "text": [
      "CPU times: user 20.6 s, sys: 515 ms, total: 21.2 s\n",
      "Wall time: 20.8 s\n"
     ]
    }
   ],
   "source": [
    "%%time\n",
    "n = test_df.shape[0]\n",
    "m = len(c.viewkeys())\n",
    "X_weighted = lil_matrix((n, m), dtype=X.dtype)\n",
    "for recipe in range(n):\n",
    "    weight = len(test_df.loc[recipe].ingredients)\n",
    "    for order, ingr in enumerate(test_df.loc[recipe].ingredients):\n",
    "        try:\n",
    "            X_weighted[recipe, ingredients_index.index(ingr)] = 1 + 0.5 * (weight - order) / float(weight)\n",
    "        except ValueError:\n",
    "            pass"
   ]
  },
  {
   "cell_type": "code",
   "execution_count": 31,
   "metadata": {
    "collapsed": false
   },
   "outputs": [
    {
     "data": {
      "text/plain": [
       "array([1, 1, 1, 1, 1, 1, 1, 1, 1, 1, 1, 1, 1, 1, 1, 1, 1, 1, 1, 1, 1, 1, 1,\n",
       "       1, 1, 1, 1, 1, 1, 1, 1, 1, 1, 1, 1, 1, 1, 1, 1, 1, 1, 1, 1, 1, 1, 1,\n",
       "       1, 1, 1, 1])"
      ]
     },
     "execution_count": 31,
     "metadata": {},
     "output_type": "execute_result"
    }
   ],
   "source": [
    "np.array((X_weighted[:50, :].todense())).max(axis=1)"
   ]
  },
  {
   "cell_type": "code",
   "execution_count": 32,
   "metadata": {
    "collapsed": false,
    "scrolled": false
   },
   "outputs": [
    {
     "data": {
      "text/plain": [
       "(array([   0.,    0.,    0.,    0.,    0.,    0.,    0.,    0.,    0.,\n",
       "           0.,    0.,    0.,    0.,    0.,    0.,    0.,    0.,    0.,\n",
       "           0.,    0.,    0.,    0.,    0.,    0.,    0.,  500.,    0.,\n",
       "           0.,    0.,    0.,    0.,    0.,    0.,    0.,    0.,    0.,\n",
       "           0.,    0.,    0.,    0.,    0.,    0.,    0.,    0.,    0.,\n",
       "           0.,    0.,    0.,    0.,    0.]),\n",
       " array([ 0.5 ,  0.52,  0.54,  0.56,  0.58,  0.6 ,  0.62,  0.64,  0.66,\n",
       "         0.68,  0.7 ,  0.72,  0.74,  0.76,  0.78,  0.8 ,  0.82,  0.84,\n",
       "         0.86,  0.88,  0.9 ,  0.92,  0.94,  0.96,  0.98,  1.  ,  1.02,\n",
       "         1.04,  1.06,  1.08,  1.1 ,  1.12,  1.14,  1.16,  1.18,  1.2 ,\n",
       "         1.22,  1.24,  1.26,  1.28,  1.3 ,  1.32,  1.34,  1.36,  1.38,\n",
       "         1.4 ,  1.42,  1.44,  1.46,  1.48,  1.5 ]),\n",
       " <a list of 50 Patch objects>)"
      ]
     },
     "execution_count": 32,
     "metadata": {},
     "output_type": "execute_result"
    },
    {
     "data": {
      "image/png": "[encoded data removed]",
      "text/plain": [
       "<matplotlib.figure.Figure at 0x119797150>"
      ]
     },
     "metadata": {},
     "output_type": "display_data"
    }
   ],
   "source": [
    "plt.hist(np.array((X_weighted[:500, :].todense())).max(axis=1), bins=50)"
   ]
  },
  {
   "cell_type": "code",
   "execution_count": 33,
   "metadata": {
    "collapsed": false
   },
   "outputs": [],
   "source": [
    "X_train, X_test, y_train, y_test = train_test_split(X, y, test_size=0.2)"
   ]
  },
  {
   "cell_type": "code",
   "execution_count": 34,
   "metadata": {
    "collapsed": false
   },
   "outputs": [
    {
     "name": "stdout",
     "output_type": "stream",
     "text": [
      "(0.5, 0.78114393463230669)\n",
      "(0.75, 0.78428661219358897)\n",
      "(1.0, 0.78592080452545565)\n",
      "(1.25, 0.78642363293526085)\n",
      "(1.5, 0.78667504714016345)\n",
      "(2.0, 0.78654934003771215)\n"
     ]
    }
   ],
   "source": [
    "learning_curve = []\n",
    "for c in [0.5, 0.75, 1.0, 1.25, 1.5, 2.0]:\n",
    "    clf = LogisticRegression(C=c)\n",
    "    clf.fit(X_train, y_train)\n",
    "    learning_curve.append((c, clf.score(X_test, y_test)))\n",
    "    print(learning_curve[-1])"
   ]
  },
  {
   "cell_type": "code",
   "execution_count": 35,
   "metadata": {
    "collapsed": false
   },
   "outputs": [
    {
     "data": {
      "text/plain": [
       "<matplotlib.text.Text at 0x123ac2810>"
      ]
     },
     "execution_count": 35,
     "metadata": {},
     "output_type": "execute_result"
    },
    {
     "data": {
      "image/png": "[encoded data removed]",
      "text/plain": [
       "<matplotlib.figure.Figure at 0x1228f0390>"
      ]
     },
     "metadata": {},
     "output_type": "display_data"
    }
   ],
   "source": [
    "plt.plot(np.array(learning_curve)[:, 0],\n",
    "         np.array(learning_curve)[:, 1])\n",
    "plt.xlabel(\"C parameter\")\n",
    "plt.ylabel(\"score\")"
   ]
  },
  {
   "cell_type": "code",
   "execution_count": 36,
   "metadata": {
    "collapsed": false
   },
   "outputs": [
    {
     "data": {
      "text/plain": [
       "1.5"
      ]
     },
     "execution_count": 36,
     "metadata": {},
     "output_type": "execute_result"
    }
   ],
   "source": [
    "np.array(learning_curve)[:, 0][np.array(learning_curve)[:, 1].argmax()]"
   ]
  },
  {
   "cell_type": "code",
   "execution_count": 37,
   "metadata": {
    "collapsed": false
   },
   "outputs": [],
   "source": [
    "clf = LogisticRegression(C=1.5)\n",
    "clf.fit(X, y)\n",
    "y_weighted = clf.predict(X_weighted) # Note: not so good as expected :("
   ]
  },
  {
   "cell_type": "code",
   "execution_count": 38,
   "metadata": {
    "collapsed": false
   },
   "outputs": [
    {
     "data": {
      "text/plain": [
       "array([[ 964,   16,    1,   12,    0,   11,  129,    9,    2,    1,    0,\n",
       "           0,    0,    0,   22,    1,    0,    0,    4,    3],\n",
       "       [   3, 3855,    5,   15,    5,   12,  116,   73,   10,   16,    3,\n",
       "           0,  106,    3,   76,    1,    9,    0,    5,    7],\n",
       "       [   0,   27,  600,    6,    0,    4,   17,   17,   45,    1,   11,\n",
       "           4,    2,    5,   12,    1,    1,    1,    0,    1],\n",
       "       [   6,   17,    1, 2856,    2,    0,   27,   33,    3,    1,   13,\n",
       "           1,    1,    0,   13,    5,    0,    2,   22,    0],\n",
       "       [   0,   24,    1,   12,  447,    1,   10,   13,    1,    4,    0,\n",
       "           0,    1,    2,    5,    1,    1,    0,    1,    2],\n",
       "       [  11,   36,    4,    5,    0,  630,  137,   78,    0,    3,    1,\n",
       "           0,    7,    1,   64,    2,    2,    0,    6,    2],\n",
       "       [  42,   88,    1,    9,    0,   22, 7414,   34,    2,    8,    2,\n",
       "           0,   11,    1,  175,    4,    8,    1,    6,   10],\n",
       "       [   3,   91,    6,   10,    3,   20,   70, 6171,    8,    3,    2,\n",
       "           0,    7,    5,   32,    4,    0,    1,    1,    1],\n",
       "       [   0,   19,   13,    8,    0,    0,   30,   21, 2470,    2,   29,\n",
       "          16,    4,    1,   11,   28,    0,   20,    1,    0],\n",
       "       [   1,  104,    1,   11,    1,    1,   30,   10,    0,  549,    1,\n",
       "           0,    2,    0,   64,    1,   22,    1,    0,    5],\n",
       "       [   2,    9,    7,   30,    1,    0,   11,   14,   55,    0, 1355,\n",
       "          41,    0,    3,    2,    5,    0,    4,    0,    0],\n",
       "       [   1,    4,    9,    3,    0,    1,   13,    8,   67,    2,   78,\n",
       "         618,    0,    3,    8,    5,    0,    5,    0,    0],\n",
       "       [   0,  139,    0,    1,    0,    6,   56,   23,    2,    4,    0,\n",
       "           0, 1278,    1,   34,    0,    0,    0,    0,    2],\n",
       "       [   0,   22,    2,    7,    1,    6,   17,   45,    1,    1,    1,\n",
       "           0,    1,  356,    6,    0,    1,    0,    0,    0],\n",
       "       [   7,  114,    4,   13,    0,   20,  365,   20,    4,   14,    1,\n",
       "           1,   12,    0, 2046,    3,    7,    0,    6,    9],\n",
       "       [   1,   19,    6,   93,    1,    0,   20,    8,   87,    0,    5,\n",
       "           3,    3,    1,    8, 1156,    1,    9,    0,    2],\n",
       "       [   3,   73,    0,    6,    2,    1,   26,    6,    2,   24,    1,\n",
       "           0,    0,    0,   51,    0,  468,    0,    1,    3],\n",
       "       [   0,    8,    1,    0,    0,    1,    6,    7,   45,    0,    2,\n",
       "           2,    0,    0,    5,   19,    0,  734,    0,    0],\n",
       "       [   9,    6,    0,   30,    2,    6,   30,   11,    0,    0,    0,\n",
       "           0,    0,    0,    4,    2,    0,    0,  721,    0],\n",
       "       [   2,   30,    2,    7,    1,    2,   42,    9,    1,    4,    1,\n",
       "           0,    2,    0,   38,    2,    4,    0,    1,  341]])"
      ]
     },
     "execution_count": 38,
     "metadata": {},
     "output_type": "execute_result"
    }
   ],
   "source": [
    "confusion_matrix(y, clf.predict(X))"
   ]
  },
  {
   "cell_type": "code",
   "execution_count": 39,
   "metadata": {
    "collapsed": false
   },
   "outputs": [
    {
     "data": {
      "image/png": "[encoded data removed]",
      "text/plain": [
       "<matplotlib.figure.Figure at 0x128f68d10>"
      ]
     },
     "metadata": {},
     "output_type": "display_data"
    }
   ],
   "source": [
    "plt.figure(figsize=(10, 10))\n",
    "cm = confusion_matrix(y, clf.predict(X))\n",
    "cm_normalized = cm.astype('float') / cm.sum(axis=1)[:, np.newaxis]\n",
    "plt.imshow(cm_normalized, interpolation='nearest', cmap=plt.cm.binary)\n",
    "plt.title(\"confusion matrix\")\n",
    "plt.colorbar()\n",
    "tick_marks = np.arange(len(cuisines))\n",
    "plt.xticks(tick_marks, cuisines, rotation=45)\n",
    "plt.yticks(tick_marks, cuisines)\n",
    "plt.tight_layout()\n",
    "plt.ylabel('True label')\n",
    "plt.xlabel('Predicted label')\n",
    "plt.savefig('confusion_matrix.png', dpi=200)"
   ]
  },
  {
   "cell_type": "code",
   "execution_count": 40,
   "metadata": {
    "collapsed": false
   },
   "outputs": [
    {
     "data": {
      "text/plain": [
       "matrix([[0, 0, 0, 0, 0, 0, 0, 0, 1, 0, 0, 0, 0, 1, 0, 0],\n",
       "        [0, 1, 0, 0, 0, 0, 0, 0, 0, 1, 0, 0, 0, 0, 0, 0],\n",
       "        [0, 0, 0, 0, 0, 0, 0, 1, 0, 0, 0, 0, 0, 0, 0, 1],\n",
       "        [0, 0, 0, 0, 0, 0, 1, 0, 0, 0, 0, 0, 0, 0, 0, 0],\n",
       "        [0, 0, 0, 0, 0, 0, 0, 0, 0, 0, 0, 1, 0, 0, 0, 0],\n",
       "        [0, 0, 0, 0, 0, 0, 0, 0, 0, 0, 1, 0, 1, 0, 0, 0],\n",
       "        [0, 0, 0, 0, 0, 0, 0, 0, 0, 0, 0, 0, 0, 0, 1, 0],\n",
       "        [1, 0, 0, 0, 0, 1, 0, 0, 0, 0, 0, 0, 0, 0, 0, 0],\n",
       "        [0, 0, 1, 1, 1, 0, 0, 0, 0, 0, 0, 0, 0, 0, 0, 0]])"
      ]
     },
     "execution_count": 40,
     "metadata": {},
     "output_type": "execute_result"
    }
   ],
   "source": [
    "#bag of ingredients\n",
    "train_df = pd.read_json('train.json')\n",
    "ingredients_bag = train_df.ingredients[0]\n",
    "cv = CountVectorizer()\n",
    "X = cv.fit_transform(ingredients_bag)\n",
    "X.todense()"
   ]
  },
  {
   "cell_type": "code",
   "execution_count": 41,
   "metadata": {
    "collapsed": false
   },
   "outputs": [
    {
     "data": {
      "text/plain": [
       "matrix([[0, 0, 0, 0, 0, 0, 0, 1, 0],\n",
       "        [1, 0, 0, 0, 0, 0, 0, 0, 0],\n",
       "        [0, 0, 0, 0, 1, 0, 0, 0, 0],\n",
       "        [0, 0, 0, 1, 0, 0, 0, 0, 0],\n",
       "        [0, 0, 0, 0, 0, 1, 0, 0, 0],\n",
       "        [0, 0, 0, 0, 0, 0, 1, 0, 0],\n",
       "        [0, 0, 0, 0, 0, 0, 0, 0, 1],\n",
       "        [0, 0, 1, 0, 0, 0, 0, 0, 0],\n",
       "        [0, 1, 0, 0, 0, 0, 0, 0, 0]])"
      ]
     },
     "execution_count": 41,
     "metadata": {},
     "output_type": "execute_result"
    }
   ],
   "source": [
    "#don't split each element\n",
    "cv2 = CountVectorizer(token_pattern=r\"(?u)\\b\\w[\\w\\s]+\\b\")\n",
    "X2 = cv2.fit_transform(ingredients_bag)\n",
    "X2.todense()"
   ]
  },
  {
   "cell_type": "code",
   "execution_count": 42,
   "metadata": {
    "collapsed": false
   },
   "outputs": [
    {
     "data": {
      "text/plain": [
       "(39774, 6815)"
      ]
     },
     "execution_count": 42,
     "metadata": {},
     "output_type": "execute_result"
    }
   ],
   "source": [
    "cv = CountVectorizer(token_pattern=r\"(?u)\\b\\w[\\w\\s]+\\b\")\n",
    "X = cv.fit_transform([\";\".join(z) for z in train_df.ingredients])\n",
    "X.shape"
   ]
  },
  {
   "cell_type": "code",
   "execution_count": 43,
   "metadata": {
    "collapsed": true
   },
   "outputs": [],
   "source": [
    "#encode the labels\n",
    "enc = LabelEncoder()\n",
    "y = enc.fit_transform(train_df.cuisine)"
   ]
  },
  {
   "cell_type": "code",
   "execution_count": 44,
   "metadata": {
    "collapsed": true
   },
   "outputs": [],
   "source": [
    "X_train, X_test, y_train, y_test = train_test_split(X, y, test_size=0.2)"
   ]
  },
  {
   "cell_type": "code",
   "execution_count": 45,
   "metadata": {
    "collapsed": false
   },
   "outputs": [
    {
     "name": "stdout",
     "output_type": "stream",
     "text": [
      "CPU times: user 8.12 s, sys: 24.7 ms, total: 8.15 s\n",
      "Wall time: 8.16 s\n"
     ]
    }
   ],
   "source": [
    "%%time\n",
    "logistic = LogisticRegression()\n",
    "logistic.fit(X_train, y_train)"
   ]
  },
  {
   "cell_type": "code",
   "execution_count": 46,
   "metadata": {
    "collapsed": false
   },
   "outputs": [
    {
     "data": {
      "text/plain": [
       "0.77875549968573221"
      ]
     },
     "execution_count": 46,
     "metadata": {},
     "output_type": "execute_result"
    }
   ],
   "source": [
    "logistic.score(X_test, y_test)"
   ]
  },
  {
   "cell_type": "code",
   "execution_count": 47,
   "metadata": {
    "collapsed": false
   },
   "outputs": [
    {
     "data": {
      "text/plain": [
       "(39774, 3005)"
      ]
     },
     "execution_count": 47,
     "metadata": {},
     "output_type": "execute_result"
    }
   ],
   "source": [
    "cv = CountVectorizer(strip_accents='ascii')\n",
    "X = cv.fit_transform([\" \".join(z) for z in train_df.ingredients])\n",
    "X.shape"
   ]
  },
  {
   "cell_type": "code",
   "execution_count": 48,
   "metadata": {
    "collapsed": true
   },
   "outputs": [],
   "source": [
    "X_train, X_test, y_train, y_test = train_test_split(X, y, test_size=0.2)"
   ]
  },
  {
   "cell_type": "code",
   "execution_count": 49,
   "metadata": {
    "collapsed": false
   },
   "outputs": [
    {
     "name": "stdout",
     "output_type": "stream",
     "text": [
      "CPU times: user 15.4 s, sys: 40.4 ms, total: 15.5 s\n",
      "Wall time: 15.5 s\n"
     ]
    }
   ],
   "source": [
    "%%time\n",
    "logistic = LogisticRegression()\n",
    "logistic.fit(X_train, y_train)"
   ]
  },
  {
   "cell_type": "code",
   "execution_count": 50,
   "metadata": {
    "collapsed": false
   },
   "outputs": [
    {
     "data": {
      "text/plain": [
       "0.7922061596480201"
      ]
     },
     "execution_count": 50,
     "metadata": {},
     "output_type": "execute_result"
    }
   ],
   "source": [
    "logistic.score(X_test, y_test)"
   ]
  },
  {
   "cell_type": "code",
   "execution_count": 51,
   "metadata": {
    "collapsed": false
   },
   "outputs": [
    {
     "data": {
      "text/plain": [
       "(39774, 81024)"
      ]
     },
     "execution_count": 51,
     "metadata": {},
     "output_type": "execute_result"
    }
   ],
   "source": [
    "cv = CountVectorizer(strip_accents='ascii', ngram_range=(1, 2))\n",
    "X = cv.fit_transform([\" \".join(z) for z in train_df.ingredients])\n",
    "X.shape"
   ]
  },
  {
   "cell_type": "code",
   "execution_count": 52,
   "metadata": {
    "collapsed": false
   },
   "outputs": [
    {
     "data": {
      "image/png": "[encoded data removed]",
      "text/plain": [
       "<matplotlib.figure.Figure at 0x1214ca750>"
      ]
     },
     "metadata": {},
     "output_type": "display_data"
    }
   ],
   "source": [
    "counts = np.array(X.sum(axis=0))[0, :].copy()\n",
    "counts.sort()\n",
    "plt.plot(np.log10(counts))\n",
    "plt.grid(True)"
   ]
  },
  {
   "cell_type": "code",
   "execution_count": 53,
   "metadata": {
    "collapsed": false
   },
   "outputs": [
    {
     "data": {
      "text/plain": [
       "(39774, 81010)"
      ]
     },
     "execution_count": 53,
     "metadata": {},
     "output_type": "execute_result"
    }
   ],
   "source": [
    "X = X[:, np.log10(counts) < 4] # 4 features\n",
    "X.shape"
   ]
  },
  {
   "cell_type": "code",
   "execution_count": 54,
   "metadata": {
    "collapsed": true
   },
   "outputs": [],
   "source": [
    "X_train, X_test, y_train, y_test = train_test_split(X, y, test_size=0.2)"
   ]
  },
  {
   "cell_type": "code",
   "execution_count": 55,
   "metadata": {
    "collapsed": false
   },
   "outputs": [
    {
     "name": "stdout",
     "output_type": "stream",
     "text": [
      "CPU times: user 31.8 s, sys: 76.9 ms, total: 31.9 s\n",
      "Wall time: 31.9 s\n"
     ]
    }
   ],
   "source": [
    "%%time\n",
    "logistic = LogisticRegression()\n",
    "logistic.fit(X_train, y_train)"
   ]
  },
  {
   "cell_type": "code",
   "execution_count": 56,
   "metadata": {
    "collapsed": false
   },
   "outputs": [
    {
     "data": {
      "text/plain": [
       "0.77875549968573221"
      ]
     },
     "execution_count": 56,
     "metadata": {},
     "output_type": "execute_result"
    }
   ],
   "source": [
    "logistic.score(X_test, y_test)"
   ]
  },
  {
   "cell_type": "code",
   "execution_count": null,
   "metadata": {
    "collapsed": true
   },
   "outputs": [],
   "source": []
  },
  {
   "cell_type": "code",
   "execution_count": null,
   "metadata": {
    "collapsed": true
   },
   "outputs": [],
   "source": []
  }
 ],
 "metadata": {
  "kernelspec": {
   "display_name": "Python 2",
   "language": "python",
   "name": "python2"
  },
  "language_info": {
   "codemirror_mode": {
    "name": "ipython",
    "version": 2
   },
   "file_extension": ".py",
   "mimetype": "text/x-python",
   "name": "python",
   "nbconvert_exporter": "python",
   "pygments_lexer": "ipython2",
   "version": "2.7.10"
  }
 },
 "nbformat": 4,
 "nbformat_minor": 0
}
