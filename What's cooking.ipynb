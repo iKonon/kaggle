{
 "cells": [
  {
   "cell_type": "code",
   "execution_count": 82,
   "metadata": {
    "collapsed": true
   },
   "outputs": [],
   "source": [
    "import re\n",
    "import unicodedata\n",
    "\n",
    "import pandas as pd\n",
    "import numpy as np\n",
    "\n",
    "from pandas import Series, DataFrame\n",
    "from collections import Counter\n",
    "\n",
    "from nltk.stem import WordNetLemmatizer\n",
    "from nltk.stem.porter import PorterStemmer\n",
    "from sklearn.feature_extraction.text import TfidfVectorizer\n",
    "from sklearn import grid_search\n",
    "\n",
    "from scipy.sparse import lil_matrix\n",
    "from sklearn.linear_model import LogisticRegression\n",
    "from sklearn.svm import LinearSVC\n",
    "from sklearn.metrics import confusion_matrix\n",
    "from sklearn.metrics import classification_report\n",
    "from sklearn.feature_extraction.text import CountVectorizer\n",
    "from sklearn.preprocessing import LabelEncoder\n",
    "from sklearn.cross_validation import train_test_split\n",
    "\n",
    "\n",
    "import warnings;\n",
    "with warnings.catch_warnings():\n",
    "    warnings.simplefilter(\"ignore\"); \n",
    "    import matplotlib.pyplot as plt    \n",
    "%matplotlib inline"
   ]
  },
  {
   "cell_type": "code",
   "execution_count": 1,
   "metadata": {
    "collapsed": false
   },
   "outputs": [
    {
     "name": "stdout",
     "output_type": "stream",
     "text": [
      "showing info https://raw.githubusercontent.com/nltk/nltk_data/gh-pages/index.xml\n"
     ]
    },
    {
     "data": {
      "text/plain": [
       "True"
      ]
     },
     "execution_count": 1,
     "metadata": {},
     "output_type": "execute_result"
    }
   ],
   "source": [
    "nltk.download()"
   ]
  },
  {
   "cell_type": "code",
   "execution_count": 2,
   "metadata": {
    "collapsed": false
   },
   "outputs": [],
   "source": [
    "train_df = pd.read_json(\"train.json\")"
   ]
  },
  {
   "cell_type": "code",
   "execution_count": 3,
   "metadata": {
    "collapsed": true
   },
   "outputs": [],
   "source": [
    "def remove_accents(input_str):\n",
    "    nfkd_form = unicodedata.normalize('NFKD', input_str)\n",
    "    only_ascii = nfkd_form.encode('ASCII', 'ignore')\n",
    "    return only_ascii"
   ]
  },
  {
   "cell_type": "code",
   "execution_count": 4,
   "metadata": {
    "collapsed": true
   },
   "outputs": [],
   "source": [
    "def clean_df(df):\n",
    "    df['ingredients_clean'] = [[remove_accents(item) for item in line] for line in df['ingredients']] \n",
    "    df['ingredients_clean'] = [[re.sub(r'\\(.*\\)\\s', '', item.strip()) for item in line] for line in df['ingredients_clean']]  \n",
    "    df['ingredients_clean'] = [[re.sub(r'low.*fat', 'lowfat', item.strip()) for item in line] for line in df['ingredients_clean']]  \n",
    "    df['ingredients_clean'] = [[re.sub(r'non.*fat', 'nonfat', item.strip()) for item in line] for line in df['ingredients_clean']]  \n",
    "    df['ingredients_clean'] = [[re.sub(r'reduced.*fat', 'reducedfat', item.strip()) for item in line] for line in df['ingredients_clean']]  \n",
    "    df['ingredients_clean'] = [[re.sub(r'.*\\% (low)|(reduced)|(non) ', '', item.strip()) for item in line] for line in df['ingredients_clean']]  \n",
    "    df['ingredients_clean'] = [[re.sub(r'.*lb. ', '', item.strip()) for item in line] for line in df['ingredients_clean']]  \n",
    "    df['ingredients_clean'] = [[re.sub(r'.*% ', '', item.strip()) for item in line] for line in df['ingredients_clean']]  \n",
    "    df['ingredients_clean'] = [[re.sub(r'^all.*purpose ', '', item.strip()) for item in line] for line in df['ingredients_clean']]  \n",
    "    df['ingredients_clean'] = [[re.sub(r'^[!@#$%^&*.,]\\s', '', item.strip()) for item in line] for line in df['ingredients_clean']]  \n",
    "    df['ingredients_clean'] = [[item.split(',')[0].strip() for item in line] for line in df['ingredients_clean']]  \n",
    "    df['ingredients_clean'] = [[re.sub(r'[0-9]+ ounc\\s', '', item.strip()) for item in line] for line in df['ingredients_clean']]  \n",
    "    df['ingredients_clean'] = [[WordNetLemmatizer().lemmatize(item) for item in line] for line in df['ingredients_clean']]       \n",
    "    df['ingredients_clean'] = [[PorterStemmer().stem(item) for item in line] for line in df['ingredients_clean']]       "
   ]
  },
  {
   "cell_type": "code",
   "execution_count": 5,
   "metadata": {
    "collapsed": true
   },
   "outputs": [],
   "source": [
    "clean_df(train_df)"
   ]
  },
  {
   "cell_type": "code",
   "execution_count": 6,
   "metadata": {
    "collapsed": false
   },
   "outputs": [
    {
     "data": {
      "text/html": [
       "<div>\n",
       "<table border=\"1\" class=\"dataframe\">\n",
       "  <thead>\n",
       "    <tr style=\"text-align: right;\">\n",
       "      <th></th>\n",
       "      <th>cuisine</th>\n",
       "      <th>id</th>\n",
       "      <th>ingredients</th>\n",
       "      <th>ingredients_clean</th>\n",
       "    </tr>\n",
       "  </thead>\n",
       "  <tbody>\n",
       "    <tr>\n",
       "      <th>0</th>\n",
       "      <td>greek</td>\n",
       "      <td>10259</td>\n",
       "      <td>[romaine lettuce, black olives, grape tomatoes...</td>\n",
       "      <td>[romaine lettuc, black ol, grape tomato, garli...</td>\n",
       "    </tr>\n",
       "    <tr>\n",
       "      <th>1</th>\n",
       "      <td>southern_us</td>\n",
       "      <td>25693</td>\n",
       "      <td>[plain flour, ground pepper, salt, tomatoes, g...</td>\n",
       "      <td>[plain flour, ground pepp, salt, tomato, groun...</td>\n",
       "    </tr>\n",
       "    <tr>\n",
       "      <th>2</th>\n",
       "      <td>filipino</td>\n",
       "      <td>20130</td>\n",
       "      <td>[eggs, pepper, salt, mayonaise, cooking oil, g...</td>\n",
       "      <td>[egg, pepper, salt, mayonais, cooking oil, gre...</td>\n",
       "    </tr>\n",
       "    <tr>\n",
       "      <th>3</th>\n",
       "      <td>indian</td>\n",
       "      <td>22213</td>\n",
       "      <td>[water, vegetable oil, wheat, salt]</td>\n",
       "      <td>[water, vegetable oil, wheat, salt]</td>\n",
       "    </tr>\n",
       "    <tr>\n",
       "      <th>4</th>\n",
       "      <td>indian</td>\n",
       "      <td>13162</td>\n",
       "      <td>[black pepper, shallots, cornflour, cayenne pe...</td>\n",
       "      <td>[black pepp, shallot, cornflour, cayenne pepp,...</td>\n",
       "    </tr>\n",
       "    <tr>\n",
       "      <th>5</th>\n",
       "      <td>jamaican</td>\n",
       "      <td>6602</td>\n",
       "      <td>[plain flour, sugar, butter, eggs, fresh ginge...</td>\n",
       "      <td>[plain flour, sugar, butter, egg, fresh ginger...</td>\n",
       "    </tr>\n",
       "    <tr>\n",
       "      <th>6</th>\n",
       "      <td>spanish</td>\n",
       "      <td>42779</td>\n",
       "      <td>[olive oil, salt, medium shrimp, pepper, garli...</td>\n",
       "      <td>[olive oil, salt, medium shrimp, pepper, garli...</td>\n",
       "    </tr>\n",
       "    <tr>\n",
       "      <th>7</th>\n",
       "      <td>italian</td>\n",
       "      <td>3735</td>\n",
       "      <td>[sugar, pistachio nuts, white almond bark, flo...</td>\n",
       "      <td>[sugar, pistachio nut, white almond bark, flou...</td>\n",
       "    </tr>\n",
       "    <tr>\n",
       "      <th>8</th>\n",
       "      <td>mexican</td>\n",
       "      <td>16903</td>\n",
       "      <td>[olive oil, purple onion, fresh pineapple, por...</td>\n",
       "      <td>[olive oil, purple onion, fresh pineappl, pork...</td>\n",
       "    </tr>\n",
       "    <tr>\n",
       "      <th>9</th>\n",
       "      <td>italian</td>\n",
       "      <td>12734</td>\n",
       "      <td>[chopped tomatoes, fresh basil, garlic, extra-...</td>\n",
       "      <td>[chopped tomato, fresh basil, garlic, extra-vi...</td>\n",
       "    </tr>\n",
       "    <tr>\n",
       "      <th>10</th>\n",
       "      <td>italian</td>\n",
       "      <td>5875</td>\n",
       "      <td>[pimentos, sweet pepper, dried oregano, olive ...</td>\n",
       "      <td>[pimento, sweet pepp, dried oregano, olive oil...</td>\n",
       "    </tr>\n",
       "    <tr>\n",
       "      <th>11</th>\n",
       "      <td>chinese</td>\n",
       "      <td>45887</td>\n",
       "      <td>[low sodium soy sauce, fresh ginger, dry musta...</td>\n",
       "      <td>[low sodium soy sauc, fresh ging, dry mustard,...</td>\n",
       "    </tr>\n",
       "    <tr>\n",
       "      <th>12</th>\n",
       "      <td>italian</td>\n",
       "      <td>2698</td>\n",
       "      <td>[Italian parsley leaves, walnuts, hot red pepp...</td>\n",
       "      <td>[Italian parsley leav, walnut, hot red pepper ...</td>\n",
       "    </tr>\n",
       "    <tr>\n",
       "      <th>13</th>\n",
       "      <td>mexican</td>\n",
       "      <td>41995</td>\n",
       "      <td>[ground cinnamon, fresh cilantro, chili powder...</td>\n",
       "      <td>[ground cinnamon, fresh cilantro, chili powd, ...</td>\n",
       "    </tr>\n",
       "    <tr>\n",
       "      <th>14</th>\n",
       "      <td>italian</td>\n",
       "      <td>31908</td>\n",
       "      <td>[fresh parmesan cheese, butter, all-purpose fl...</td>\n",
       "      <td>[fresh parmesan chees, butter, flour, fat free...</td>\n",
       "    </tr>\n",
       "    <tr>\n",
       "      <th>15</th>\n",
       "      <td>indian</td>\n",
       "      <td>24717</td>\n",
       "      <td>[tumeric, vegetable stock, tomatoes, garam mas...</td>\n",
       "      <td>[tumer, vegetable stock, tomato, garam masala,...</td>\n",
       "    </tr>\n",
       "    <tr>\n",
       "      <th>16</th>\n",
       "      <td>british</td>\n",
       "      <td>34466</td>\n",
       "      <td>[greek yogurt, lemon curd, confectioners sugar...</td>\n",
       "      <td>[greek yogurt, lemon curd, confectioners sugar...</td>\n",
       "    </tr>\n",
       "    <tr>\n",
       "      <th>17</th>\n",
       "      <td>italian</td>\n",
       "      <td>1420</td>\n",
       "      <td>[italian seasoning, broiler-fryer chicken, may...</td>\n",
       "      <td>[italian season, broiler-fryer chicken, mayona...</td>\n",
       "    </tr>\n",
       "    <tr>\n",
       "      <th>18</th>\n",
       "      <td>thai</td>\n",
       "      <td>2941</td>\n",
       "      <td>[sugar, hot chili, asian fish sauce, lime juice]</td>\n",
       "      <td>[sugar, hot chili, asian fish sauc, lime juic]</td>\n",
       "    </tr>\n",
       "    <tr>\n",
       "      <th>19</th>\n",
       "      <td>vietnamese</td>\n",
       "      <td>8152</td>\n",
       "      <td>[soy sauce, vegetable oil, red bell pepper, ch...</td>\n",
       "      <td>[soy sauc, vegetable oil, red bell pepp, chick...</td>\n",
       "    </tr>\n",
       "    <tr>\n",
       "      <th>20</th>\n",
       "      <td>thai</td>\n",
       "      <td>13121</td>\n",
       "      <td>[pork loin, roasted peanuts, chopped cilantro ...</td>\n",
       "      <td>[pork loin, roasted peanut, chopped cilantro f...</td>\n",
       "    </tr>\n",
       "    <tr>\n",
       "      <th>21</th>\n",
       "      <td>mexican</td>\n",
       "      <td>40523</td>\n",
       "      <td>[roma tomatoes, kosher salt, purple onion, jal...</td>\n",
       "      <td>[roma tomato, kosher salt, purple onion, jalap...</td>\n",
       "    </tr>\n",
       "    <tr>\n",
       "      <th>22</th>\n",
       "      <td>southern_us</td>\n",
       "      <td>40989</td>\n",
       "      <td>[low-fat mayonnaise, pepper, salt, baking pota...</td>\n",
       "      <td>[lowfat mayonnais, pepper, salt, baking potato...</td>\n",
       "    </tr>\n",
       "    <tr>\n",
       "      <th>23</th>\n",
       "      <td>chinese</td>\n",
       "      <td>29630</td>\n",
       "      <td>[sesame seeds, red pepper, yellow peppers, wat...</td>\n",
       "      <td>[sesame se, red pepp, yellow pepp, water, extr...</td>\n",
       "    </tr>\n",
       "    <tr>\n",
       "      <th>24</th>\n",
       "      <td>italian</td>\n",
       "      <td>49136</td>\n",
       "      <td>[marinara sauce, flat leaf parsley, olive oil,...</td>\n",
       "      <td>[marinara sauc, flat leaf parsley, olive oil, ...</td>\n",
       "    </tr>\n",
       "    <tr>\n",
       "      <th>25</th>\n",
       "      <td>chinese</td>\n",
       "      <td>26705</td>\n",
       "      <td>[sugar, lo mein noodles, salt, chicken broth, ...</td>\n",
       "      <td>[sugar, lo mein noodl, salt, chicken broth, li...</td>\n",
       "    </tr>\n",
       "    <tr>\n",
       "      <th>26</th>\n",
       "      <td>cajun_creole</td>\n",
       "      <td>27976</td>\n",
       "      <td>[herbs, lemon juice, fresh tomatoes, paprika, ...</td>\n",
       "      <td>[herb, lemon juic, fresh tomato, paprika, mang...</td>\n",
       "    </tr>\n",
       "    <tr>\n",
       "      <th>27</th>\n",
       "      <td>italian</td>\n",
       "      <td>22087</td>\n",
       "      <td>[ground black pepper, butter, sliced mushrooms...</td>\n",
       "      <td>[ground black pepp, butter, sliced mushroom, s...</td>\n",
       "    </tr>\n",
       "    <tr>\n",
       "      <th>28</th>\n",
       "      <td>chinese</td>\n",
       "      <td>9197</td>\n",
       "      <td>[green bell pepper, egg roll wrappers, sweet a...</td>\n",
       "      <td>[green bell pepp, egg roll wrapp, sweet and so...</td>\n",
       "    </tr>\n",
       "    <tr>\n",
       "      <th>29</th>\n",
       "      <td>mexican</td>\n",
       "      <td>1299</td>\n",
       "      <td>[flour tortillas, cheese, breakfast sausages, ...</td>\n",
       "      <td>[flour tortilla, chees, breakfast sausag, larg...</td>\n",
       "    </tr>\n",
       "    <tr>\n",
       "      <th>...</th>\n",
       "      <td>...</td>\n",
       "      <td>...</td>\n",
       "      <td>...</td>\n",
       "      <td>...</td>\n",
       "    </tr>\n",
       "    <tr>\n",
       "      <th>39744</th>\n",
       "      <td>greek</td>\n",
       "      <td>5680</td>\n",
       "      <td>[extra-virgin olive oil, oregano, potatoes, ga...</td>\n",
       "      <td>[extra-virgin olive oil, oregano, potato, garl...</td>\n",
       "    </tr>\n",
       "    <tr>\n",
       "      <th>39745</th>\n",
       "      <td>spanish</td>\n",
       "      <td>5511</td>\n",
       "      <td>[quinoa, extra-virgin olive oil, fresh thyme l...</td>\n",
       "      <td>[quinoa, extra-virgin olive oil, fresh thyme l...</td>\n",
       "    </tr>\n",
       "    <tr>\n",
       "      <th>39746</th>\n",
       "      <td>indian</td>\n",
       "      <td>32051</td>\n",
       "      <td>[clove, bay leaves, ginger, chopped cilantro, ...</td>\n",
       "      <td>[clove, bay leav, ginger, chopped cilantro, gr...</td>\n",
       "    </tr>\n",
       "    <tr>\n",
       "      <th>39747</th>\n",
       "      <td>moroccan</td>\n",
       "      <td>5119</td>\n",
       "      <td>[water, sugar, grated lemon zest, butter, pitt...</td>\n",
       "      <td>[water, sugar, grated lemon zest, butter, pitt...</td>\n",
       "    </tr>\n",
       "    <tr>\n",
       "      <th>39748</th>\n",
       "      <td>italian</td>\n",
       "      <td>9526</td>\n",
       "      <td>[sea salt, pizza doughs, all-purpose flour, co...</td>\n",
       "      <td>[sea salt, pizza dough, flour, cornmeal, extra...</td>\n",
       "    </tr>\n",
       "    <tr>\n",
       "      <th>39749</th>\n",
       "      <td>mexican</td>\n",
       "      <td>45599</td>\n",
       "      <td>[kosher salt, minced onion, tortilla chips, su...</td>\n",
       "      <td>[kosher salt, minced onion, tortilla chip, sug...</td>\n",
       "    </tr>\n",
       "    <tr>\n",
       "      <th>39750</th>\n",
       "      <td>mexican</td>\n",
       "      <td>49670</td>\n",
       "      <td>[ground black pepper, chicken breasts, salsa, ...</td>\n",
       "      <td>[ground black pepp, chicken breast, salsa, che...</td>\n",
       "    </tr>\n",
       "    <tr>\n",
       "      <th>39751</th>\n",
       "      <td>moroccan</td>\n",
       "      <td>30735</td>\n",
       "      <td>[olive oil, cayenne pepper, chopped cilantro f...</td>\n",
       "      <td>[olive oil, cayenne pepp, chopped cilantro fre...</td>\n",
       "    </tr>\n",
       "    <tr>\n",
       "      <th>39752</th>\n",
       "      <td>southern_us</td>\n",
       "      <td>5911</td>\n",
       "      <td>[self rising flour, milk, white sugar, butter,...</td>\n",
       "      <td>[self rising flour, milk, white sugar, butter,...</td>\n",
       "    </tr>\n",
       "    <tr>\n",
       "      <th>39753</th>\n",
       "      <td>italian</td>\n",
       "      <td>33294</td>\n",
       "      <td>[rosemary sprigs, lemon zest, garlic cloves, g...</td>\n",
       "      <td>[rosemary sprig, lemon zest, garlic clov, grou...</td>\n",
       "    </tr>\n",
       "    <tr>\n",
       "      <th>39754</th>\n",
       "      <td>vietnamese</td>\n",
       "      <td>27082</td>\n",
       "      <td>[jasmine rice, bay leaves, sticky rice, rotiss...</td>\n",
       "      <td>[jasmine ric, bay leav, sticky ric, rotisserie...</td>\n",
       "    </tr>\n",
       "    <tr>\n",
       "      <th>39755</th>\n",
       "      <td>indian</td>\n",
       "      <td>36337</td>\n",
       "      <td>[mint leaves, cilantro leaves, ghee, tomatoes,...</td>\n",
       "      <td>[mint leav, cilantro leav, ghee, tomato, cinna...</td>\n",
       "    </tr>\n",
       "    <tr>\n",
       "      <th>39756</th>\n",
       "      <td>mexican</td>\n",
       "      <td>15508</td>\n",
       "      <td>[vegetable oil, cinnamon sticks, water, all-pu...</td>\n",
       "      <td>[vegetable oil, cinnamon stick, water, flour, ...</td>\n",
       "    </tr>\n",
       "    <tr>\n",
       "      <th>39757</th>\n",
       "      <td>greek</td>\n",
       "      <td>34331</td>\n",
       "      <td>[red bell pepper, garlic cloves, extra-virgin ...</td>\n",
       "      <td>[red bell pepp, garlic clov, extra-virgin oliv...</td>\n",
       "    </tr>\n",
       "    <tr>\n",
       "      <th>39758</th>\n",
       "      <td>greek</td>\n",
       "      <td>47387</td>\n",
       "      <td>[milk, salt, ground cayenne pepper, ground lam...</td>\n",
       "      <td>[milk, salt, ground cayenne pepp, ground lamb,...</td>\n",
       "    </tr>\n",
       "    <tr>\n",
       "      <th>39759</th>\n",
       "      <td>korean</td>\n",
       "      <td>12153</td>\n",
       "      <td>[red chili peppers, sea salt, onions, water, c...</td>\n",
       "      <td>[red chili pepp, sea salt, onion, water, chill...</td>\n",
       "    </tr>\n",
       "    <tr>\n",
       "      <th>39760</th>\n",
       "      <td>southern_us</td>\n",
       "      <td>41840</td>\n",
       "      <td>[butter, large eggs, cornmeal, baking powder, ...</td>\n",
       "      <td>[butter, large egg, cornmeal, baking powd, boi...</td>\n",
       "    </tr>\n",
       "    <tr>\n",
       "      <th>39761</th>\n",
       "      <td>chinese</td>\n",
       "      <td>6487</td>\n",
       "      <td>[honey, chicken breast halves, cilantro leaves...</td>\n",
       "      <td>[honey, chicken breast halv, cilantro leav, ca...</td>\n",
       "    </tr>\n",
       "    <tr>\n",
       "      <th>39762</th>\n",
       "      <td>indian</td>\n",
       "      <td>26646</td>\n",
       "      <td>[curry powder, salt, chicken, water, vegetable...</td>\n",
       "      <td>[curry powd, salt, chicken, water, vegetable o...</td>\n",
       "    </tr>\n",
       "    <tr>\n",
       "      <th>39763</th>\n",
       "      <td>italian</td>\n",
       "      <td>44798</td>\n",
       "      <td>[fettuccine pasta, low-fat cream cheese, garli...</td>\n",
       "      <td>[fettuccine pasta, lowfat cream chees, garlic,...</td>\n",
       "    </tr>\n",
       "    <tr>\n",
       "      <th>39764</th>\n",
       "      <td>mexican</td>\n",
       "      <td>8089</td>\n",
       "      <td>[chili powder, worcestershire sauce, celery, r...</td>\n",
       "      <td>[chili powd, worcestershire sauc, celeri, red ...</td>\n",
       "    </tr>\n",
       "    <tr>\n",
       "      <th>39765</th>\n",
       "      <td>indian</td>\n",
       "      <td>6153</td>\n",
       "      <td>[coconut, unsweetened coconut milk, mint leave...</td>\n",
       "      <td>[coconut, unsweetened coconut milk, mint leav,...</td>\n",
       "    </tr>\n",
       "    <tr>\n",
       "      <th>39766</th>\n",
       "      <td>irish</td>\n",
       "      <td>25557</td>\n",
       "      <td>[rutabaga, ham, thick-cut bacon, potatoes, fre...</td>\n",
       "      <td>[rutabaga, ham, thick-cut bacon, potato, fresh...</td>\n",
       "    </tr>\n",
       "    <tr>\n",
       "      <th>39767</th>\n",
       "      <td>italian</td>\n",
       "      <td>24348</td>\n",
       "      <td>[low-fat sour cream, grated parmesan cheese, s...</td>\n",
       "      <td>[lowfat sour cream, grated parmesan chees, sal...</td>\n",
       "    </tr>\n",
       "    <tr>\n",
       "      <th>39768</th>\n",
       "      <td>mexican</td>\n",
       "      <td>7377</td>\n",
       "      <td>[shredded cheddar cheese, crushed cheese crack...</td>\n",
       "      <td>[shredded cheddar chees, crushed cheese crack,...</td>\n",
       "    </tr>\n",
       "    <tr>\n",
       "      <th>39769</th>\n",
       "      <td>irish</td>\n",
       "      <td>29109</td>\n",
       "      <td>[light brown sugar, granulated sugar, butter, ...</td>\n",
       "      <td>[light brown sugar, granulated sugar, butter, ...</td>\n",
       "    </tr>\n",
       "    <tr>\n",
       "      <th>39770</th>\n",
       "      <td>italian</td>\n",
       "      <td>11462</td>\n",
       "      <td>[KRAFT Zesty Italian Dressing, purple onion, b...</td>\n",
       "      <td>[KRAFT Zesty Italian Dress, purple onion, broc...</td>\n",
       "    </tr>\n",
       "    <tr>\n",
       "      <th>39771</th>\n",
       "      <td>irish</td>\n",
       "      <td>2238</td>\n",
       "      <td>[eggs, citrus fruit, raisins, sourdough starte...</td>\n",
       "      <td>[egg, citrus fruit, raisin, sourdough start, f...</td>\n",
       "    </tr>\n",
       "    <tr>\n",
       "      <th>39772</th>\n",
       "      <td>chinese</td>\n",
       "      <td>41882</td>\n",
       "      <td>[boneless chicken skinless thigh, minced garli...</td>\n",
       "      <td>[boneless chicken skinless thigh, minced garl,...</td>\n",
       "    </tr>\n",
       "    <tr>\n",
       "      <th>39773</th>\n",
       "      <td>mexican</td>\n",
       "      <td>2362</td>\n",
       "      <td>[green chile, jalapeno chilies, onions, ground...</td>\n",
       "      <td>[green chil, jalapeno chili, onion, ground bla...</td>\n",
       "    </tr>\n",
       "  </tbody>\n",
       "</table>\n",
       "<p>39774 rows × 4 columns</p>\n",
       "</div>"
      ],
      "text/plain": [
       "            cuisine     id                                        ingredients  \\\n",
       "0             greek  10259  [romaine lettuce, black olives, grape tomatoes...   \n",
       "1       southern_us  25693  [plain flour, ground pepper, salt, tomatoes, g...   \n",
       "2          filipino  20130  [eggs, pepper, salt, mayonaise, cooking oil, g...   \n",
       "3            indian  22213                [water, vegetable oil, wheat, salt]   \n",
       "4            indian  13162  [black pepper, shallots, cornflour, cayenne pe...   \n",
       "5          jamaican   6602  [plain flour, sugar, butter, eggs, fresh ginge...   \n",
       "6           spanish  42779  [olive oil, salt, medium shrimp, pepper, garli...   \n",
       "7           italian   3735  [sugar, pistachio nuts, white almond bark, flo...   \n",
       "8           mexican  16903  [olive oil, purple onion, fresh pineapple, por...   \n",
       "9           italian  12734  [chopped tomatoes, fresh basil, garlic, extra-...   \n",
       "10          italian   5875  [pimentos, sweet pepper, dried oregano, olive ...   \n",
       "11          chinese  45887  [low sodium soy sauce, fresh ginger, dry musta...   \n",
       "12          italian   2698  [Italian parsley leaves, walnuts, hot red pepp...   \n",
       "13          mexican  41995  [ground cinnamon, fresh cilantro, chili powder...   \n",
       "14          italian  31908  [fresh parmesan cheese, butter, all-purpose fl...   \n",
       "15           indian  24717  [tumeric, vegetable stock, tomatoes, garam mas...   \n",
       "16          british  34466  [greek yogurt, lemon curd, confectioners sugar...   \n",
       "17          italian   1420  [italian seasoning, broiler-fryer chicken, may...   \n",
       "18             thai   2941   [sugar, hot chili, asian fish sauce, lime juice]   \n",
       "19       vietnamese   8152  [soy sauce, vegetable oil, red bell pepper, ch...   \n",
       "20             thai  13121  [pork loin, roasted peanuts, chopped cilantro ...   \n",
       "21          mexican  40523  [roma tomatoes, kosher salt, purple onion, jal...   \n",
       "22      southern_us  40989  [low-fat mayonnaise, pepper, salt, baking pota...   \n",
       "23          chinese  29630  [sesame seeds, red pepper, yellow peppers, wat...   \n",
       "24          italian  49136  [marinara sauce, flat leaf parsley, olive oil,...   \n",
       "25          chinese  26705  [sugar, lo mein noodles, salt, chicken broth, ...   \n",
       "26     cajun_creole  27976  [herbs, lemon juice, fresh tomatoes, paprika, ...   \n",
       "27          italian  22087  [ground black pepper, butter, sliced mushrooms...   \n",
       "28          chinese   9197  [green bell pepper, egg roll wrappers, sweet a...   \n",
       "29          mexican   1299  [flour tortillas, cheese, breakfast sausages, ...   \n",
       "...             ...    ...                                                ...   \n",
       "39744         greek   5680  [extra-virgin olive oil, oregano, potatoes, ga...   \n",
       "39745       spanish   5511  [quinoa, extra-virgin olive oil, fresh thyme l...   \n",
       "39746        indian  32051  [clove, bay leaves, ginger, chopped cilantro, ...   \n",
       "39747      moroccan   5119  [water, sugar, grated lemon zest, butter, pitt...   \n",
       "39748       italian   9526  [sea salt, pizza doughs, all-purpose flour, co...   \n",
       "39749       mexican  45599  [kosher salt, minced onion, tortilla chips, su...   \n",
       "39750       mexican  49670  [ground black pepper, chicken breasts, salsa, ...   \n",
       "39751      moroccan  30735  [olive oil, cayenne pepper, chopped cilantro f...   \n",
       "39752   southern_us   5911  [self rising flour, milk, white sugar, butter,...   \n",
       "39753       italian  33294  [rosemary sprigs, lemon zest, garlic cloves, g...   \n",
       "39754    vietnamese  27082  [jasmine rice, bay leaves, sticky rice, rotiss...   \n",
       "39755        indian  36337  [mint leaves, cilantro leaves, ghee, tomatoes,...   \n",
       "39756       mexican  15508  [vegetable oil, cinnamon sticks, water, all-pu...   \n",
       "39757         greek  34331  [red bell pepper, garlic cloves, extra-virgin ...   \n",
       "39758         greek  47387  [milk, salt, ground cayenne pepper, ground lam...   \n",
       "39759        korean  12153  [red chili peppers, sea salt, onions, water, c...   \n",
       "39760   southern_us  41840  [butter, large eggs, cornmeal, baking powder, ...   \n",
       "39761       chinese   6487  [honey, chicken breast halves, cilantro leaves...   \n",
       "39762        indian  26646  [curry powder, salt, chicken, water, vegetable...   \n",
       "39763       italian  44798  [fettuccine pasta, low-fat cream cheese, garli...   \n",
       "39764       mexican   8089  [chili powder, worcestershire sauce, celery, r...   \n",
       "39765        indian   6153  [coconut, unsweetened coconut milk, mint leave...   \n",
       "39766         irish  25557  [rutabaga, ham, thick-cut bacon, potatoes, fre...   \n",
       "39767       italian  24348  [low-fat sour cream, grated parmesan cheese, s...   \n",
       "39768       mexican   7377  [shredded cheddar cheese, crushed cheese crack...   \n",
       "39769         irish  29109  [light brown sugar, granulated sugar, butter, ...   \n",
       "39770       italian  11462  [KRAFT Zesty Italian Dressing, purple onion, b...   \n",
       "39771         irish   2238  [eggs, citrus fruit, raisins, sourdough starte...   \n",
       "39772       chinese  41882  [boneless chicken skinless thigh, minced garli...   \n",
       "39773       mexican   2362  [green chile, jalapeno chilies, onions, ground...   \n",
       "\n",
       "                                       ingredients_clean  \n",
       "0      [romaine lettuc, black ol, grape tomato, garli...  \n",
       "1      [plain flour, ground pepp, salt, tomato, groun...  \n",
       "2      [egg, pepper, salt, mayonais, cooking oil, gre...  \n",
       "3                    [water, vegetable oil, wheat, salt]  \n",
       "4      [black pepp, shallot, cornflour, cayenne pepp,...  \n",
       "5      [plain flour, sugar, butter, egg, fresh ginger...  \n",
       "6      [olive oil, salt, medium shrimp, pepper, garli...  \n",
       "7      [sugar, pistachio nut, white almond bark, flou...  \n",
       "8      [olive oil, purple onion, fresh pineappl, pork...  \n",
       "9      [chopped tomato, fresh basil, garlic, extra-vi...  \n",
       "10     [pimento, sweet pepp, dried oregano, olive oil...  \n",
       "11     [low sodium soy sauc, fresh ging, dry mustard,...  \n",
       "12     [Italian parsley leav, walnut, hot red pepper ...  \n",
       "13     [ground cinnamon, fresh cilantro, chili powd, ...  \n",
       "14     [fresh parmesan chees, butter, flour, fat free...  \n",
       "15     [tumer, vegetable stock, tomato, garam masala,...  \n",
       "16     [greek yogurt, lemon curd, confectioners sugar...  \n",
       "17     [italian season, broiler-fryer chicken, mayona...  \n",
       "18        [sugar, hot chili, asian fish sauc, lime juic]  \n",
       "19     [soy sauc, vegetable oil, red bell pepp, chick...  \n",
       "20     [pork loin, roasted peanut, chopped cilantro f...  \n",
       "21     [roma tomato, kosher salt, purple onion, jalap...  \n",
       "22     [lowfat mayonnais, pepper, salt, baking potato...  \n",
       "23     [sesame se, red pepp, yellow pepp, water, extr...  \n",
       "24     [marinara sauc, flat leaf parsley, olive oil, ...  \n",
       "25     [sugar, lo mein noodl, salt, chicken broth, li...  \n",
       "26     [herb, lemon juic, fresh tomato, paprika, mang...  \n",
       "27     [ground black pepp, butter, sliced mushroom, s...  \n",
       "28     [green bell pepp, egg roll wrapp, sweet and so...  \n",
       "29     [flour tortilla, chees, breakfast sausag, larg...  \n",
       "...                                                  ...  \n",
       "39744  [extra-virgin olive oil, oregano, potato, garl...  \n",
       "39745  [quinoa, extra-virgin olive oil, fresh thyme l...  \n",
       "39746  [clove, bay leav, ginger, chopped cilantro, gr...  \n",
       "39747  [water, sugar, grated lemon zest, butter, pitt...  \n",
       "39748  [sea salt, pizza dough, flour, cornmeal, extra...  \n",
       "39749  [kosher salt, minced onion, tortilla chip, sug...  \n",
       "39750  [ground black pepp, chicken breast, salsa, che...  \n",
       "39751  [olive oil, cayenne pepp, chopped cilantro fre...  \n",
       "39752  [self rising flour, milk, white sugar, butter,...  \n",
       "39753  [rosemary sprig, lemon zest, garlic clov, grou...  \n",
       "39754  [jasmine ric, bay leav, sticky ric, rotisserie...  \n",
       "39755  [mint leav, cilantro leav, ghee, tomato, cinna...  \n",
       "39756  [vegetable oil, cinnamon stick, water, flour, ...  \n",
       "39757  [red bell pepp, garlic clov, extra-virgin oliv...  \n",
       "39758  [milk, salt, ground cayenne pepp, ground lamb,...  \n",
       "39759  [red chili pepp, sea salt, onion, water, chill...  \n",
       "39760  [butter, large egg, cornmeal, baking powd, boi...  \n",
       "39761  [honey, chicken breast halv, cilantro leav, ca...  \n",
       "39762  [curry powd, salt, chicken, water, vegetable o...  \n",
       "39763  [fettuccine pasta, lowfat cream chees, garlic,...  \n",
       "39764  [chili powd, worcestershire sauc, celeri, red ...  \n",
       "39765  [coconut, unsweetened coconut milk, mint leav,...  \n",
       "39766  [rutabaga, ham, thick-cut bacon, potato, fresh...  \n",
       "39767  [lowfat sour cream, grated parmesan chees, sal...  \n",
       "39768  [shredded cheddar chees, crushed cheese crack,...  \n",
       "39769  [light brown sugar, granulated sugar, butter, ...  \n",
       "39770  [KRAFT Zesty Italian Dress, purple onion, broc...  \n",
       "39771  [egg, citrus fruit, raisin, sourdough start, f...  \n",
       "39772  [boneless chicken skinless thigh, minced garl,...  \n",
       "39773  [green chil, jalapeno chili, onion, ground bla...  \n",
       "\n",
       "[39774 rows x 4 columns]"
      ]
     },
     "execution_count": 6,
     "metadata": {},
     "output_type": "execute_result"
    }
   ],
   "source": [
    "train_df"
   ]
  },
  {
   "cell_type": "code",
   "execution_count": 7,
   "metadata": {
    "collapsed": false
   },
   "outputs": [],
   "source": [
    "test_df = pd.read_json(\"test.json\") \n",
    "clean_df(test_df)"
   ]
  },
  {
   "cell_type": "code",
   "execution_count": 8,
   "metadata": {
    "collapsed": false
   },
   "outputs": [
    {
     "data": {
      "text/plain": [
       "italian         7838\n",
       "mexican         6438\n",
       "southern_us     4320\n",
       "indian          3003\n",
       "chinese         2673\n",
       "french          2646\n",
       "cajun_creole    1546\n",
       "thai            1539\n",
       "japanese        1423\n",
       "greek           1175\n",
       "spanish          989\n",
       "korean           830\n",
       "vietnamese       825\n",
       "moroccan         821\n",
       "british          804\n",
       "filipino         755\n",
       "irish            667\n",
       "jamaican         526\n",
       "russian          489\n",
       "brazilian        467\n",
       "Name: cuisine, dtype: int64"
      ]
     },
     "execution_count": 8,
     "metadata": {},
     "output_type": "execute_result"
    }
   ],
   "source": [
    "train_df.cuisine.value_counts()"
   ]
  },
  {
   "cell_type": "code",
   "execution_count": 9,
   "metadata": {
    "collapsed": false
   },
   "outputs": [
    {
     "data": {
      "text/html": [
       "<div>\n",
       "<table border=\"1\" class=\"dataframe\">\n",
       "  <thead>\n",
       "    <tr style=\"text-align: right;\">\n",
       "      <th></th>\n",
       "      <th>cuisine</th>\n",
       "      <th>id</th>\n",
       "      <th>ingredients</th>\n",
       "      <th>ingredients_clean</th>\n",
       "    </tr>\n",
       "  </thead>\n",
       "  <tbody>\n",
       "    <tr>\n",
       "      <th>46</th>\n",
       "      <td>french</td>\n",
       "      <td>18515</td>\n",
       "      <td>[sugar, salt, fennel bulb, water, lemon olive ...</td>\n",
       "      <td>[sugar, salt, fennel bulb, water, lemon olive ...</td>\n",
       "    </tr>\n",
       "    <tr>\n",
       "      <th>67</th>\n",
       "      <td>french</td>\n",
       "      <td>275</td>\n",
       "      <td>[vanilla, milk, large egg yolks, sugar, corn s...</td>\n",
       "      <td>[vanilla, milk, large egg yolk, sugar, corn st...</td>\n",
       "    </tr>\n",
       "    <tr>\n",
       "      <th>68</th>\n",
       "      <td>french</td>\n",
       "      <td>43769</td>\n",
       "      <td>[orange juice concentrate, pumpkin purée, mars...</td>\n",
       "      <td>[orange juice concentr, pumpkin pure, marshmal...</td>\n",
       "    </tr>\n",
       "    <tr>\n",
       "      <th>82</th>\n",
       "      <td>french</td>\n",
       "      <td>6886</td>\n",
       "      <td>[Madeira, foie gras, demi-glace, sherry vinega...</td>\n",
       "      <td>[Madeira, foie gra, demi-glac, sherry vinegar,...</td>\n",
       "    </tr>\n",
       "    <tr>\n",
       "      <th>134</th>\n",
       "      <td>french</td>\n",
       "      <td>39471</td>\n",
       "      <td>[grated parmesan cheese, asparagus, bacon slic...</td>\n",
       "      <td>[grated parmesan chees, asparagu, bacon slic, ...</td>\n",
       "    </tr>\n",
       "    <tr>\n",
       "      <th>145</th>\n",
       "      <td>french</td>\n",
       "      <td>9069</td>\n",
       "      <td>[fennel seeds, kalamata, capers, dried oregano...</td>\n",
       "      <td>[fennel se, kalamata, caper, dried oregano, gr...</td>\n",
       "    </tr>\n",
       "    <tr>\n",
       "      <th>164</th>\n",
       "      <td>french</td>\n",
       "      <td>7501</td>\n",
       "      <td>[tomatoes, olive oil, chopped fresh thyme, sal...</td>\n",
       "      <td>[tomato, olive oil, chopped fresh thym, salt, ...</td>\n",
       "    </tr>\n",
       "    <tr>\n",
       "      <th>171</th>\n",
       "      <td>french</td>\n",
       "      <td>40064</td>\n",
       "      <td>[pepper, grated Gruyère cheese, heavy cream, s...</td>\n",
       "      <td>[pepper, grated Gruyere chees, heavy cream, sa...</td>\n",
       "    </tr>\n",
       "    <tr>\n",
       "      <th>208</th>\n",
       "      <td>french</td>\n",
       "      <td>36862</td>\n",
       "      <td>[eau de vie, leaves, cane sugar, pinenuts, gol...</td>\n",
       "      <td>[eau de vi, leaf, cane sugar, pinenut, golden ...</td>\n",
       "    </tr>\n",
       "    <tr>\n",
       "      <th>222</th>\n",
       "      <td>french</td>\n",
       "      <td>18643</td>\n",
       "      <td>[2% reduced-fat milk, corn starch, eggs, maple...</td>\n",
       "      <td>[fat milk, corn starch, egg, maple syrup, suga...</td>\n",
       "    </tr>\n",
       "    <tr>\n",
       "      <th>224</th>\n",
       "      <td>french</td>\n",
       "      <td>46893</td>\n",
       "      <td>[heavy cream, pears, unsalted butter, sour cre...</td>\n",
       "      <td>[heavy cream, pear, unsalted butt, sour cream,...</td>\n",
       "    </tr>\n",
       "    <tr>\n",
       "      <th>261</th>\n",
       "      <td>french</td>\n",
       "      <td>636</td>\n",
       "      <td>[golden brown sugar, eggs, whole milk ricotta ...</td>\n",
       "      <td>[golden brown sugar, egg, whole milk ricotta c...</td>\n",
       "    </tr>\n",
       "    <tr>\n",
       "      <th>313</th>\n",
       "      <td>french</td>\n",
       "      <td>38706</td>\n",
       "      <td>[saffron threads, red wine vinegar, large shri...</td>\n",
       "      <td>[saffron thread, red wine vinegar, large shrim...</td>\n",
       "    </tr>\n",
       "    <tr>\n",
       "      <th>340</th>\n",
       "      <td>french</td>\n",
       "      <td>10003</td>\n",
       "      <td>[jumbo shrimp, baguette, extra-virgin olive oi...</td>\n",
       "      <td>[jumbo shrimp, baguett, extra-virgin olive oil...</td>\n",
       "    </tr>\n",
       "    <tr>\n",
       "      <th>344</th>\n",
       "      <td>french</td>\n",
       "      <td>45711</td>\n",
       "      <td>[sugar, large egg yolks, grated lemon peel, rh...</td>\n",
       "      <td>[sugar, large egg yolk, grated lemon peel, rhu...</td>\n",
       "    </tr>\n",
       "    <tr>\n",
       "      <th>348</th>\n",
       "      <td>french</td>\n",
       "      <td>15882</td>\n",
       "      <td>[dark rum, crème fraîche, unsalted butter, cak...</td>\n",
       "      <td>[dark rum, creme fraich, unsalted butt, cake f...</td>\n",
       "    </tr>\n",
       "    <tr>\n",
       "      <th>351</th>\n",
       "      <td>french</td>\n",
       "      <td>40509</td>\n",
       "      <td>[kalamata, flat leaf parsley, tomatoes, Califo...</td>\n",
       "      <td>[kalamata, flat leaf parsley, tomato, Californ...</td>\n",
       "    </tr>\n",
       "    <tr>\n",
       "      <th>356</th>\n",
       "      <td>french</td>\n",
       "      <td>1764</td>\n",
       "      <td>[clove, potatoes, extra-virgin olive oil, turn...</td>\n",
       "      <td>[clove, potato, extra-virgin olive oil, turnip...</td>\n",
       "    </tr>\n",
       "    <tr>\n",
       "      <th>377</th>\n",
       "      <td>french</td>\n",
       "      <td>18190</td>\n",
       "      <td>[ground cinnamon, baking potatoes, bay leaf, l...</td>\n",
       "      <td>[ground cinnamon, baking potato, bay leaf, lea...</td>\n",
       "    </tr>\n",
       "    <tr>\n",
       "      <th>390</th>\n",
       "      <td>french</td>\n",
       "      <td>37109</td>\n",
       "      <td>[dijon mustard, extra-virgin olive oil, flat l...</td>\n",
       "      <td>[dijon mustard, extra-virgin olive oil, flat l...</td>\n",
       "    </tr>\n",
       "    <tr>\n",
       "      <th>395</th>\n",
       "      <td>french</td>\n",
       "      <td>22581</td>\n",
       "      <td>[granulated sugar, vanilla, chocolate sauce, m...</td>\n",
       "      <td>[granulated sugar, vanilla, chocolate sauc, mi...</td>\n",
       "    </tr>\n",
       "    <tr>\n",
       "      <th>427</th>\n",
       "      <td>french</td>\n",
       "      <td>23336</td>\n",
       "      <td>[leeks, soft fresh goat cheese, olive oil, cho...</td>\n",
       "      <td>[leek, soft fresh goat chees, olive oil, chopp...</td>\n",
       "    </tr>\n",
       "    <tr>\n",
       "      <th>441</th>\n",
       "      <td>french</td>\n",
       "      <td>33085</td>\n",
       "      <td>[sheep’s milk cheese, champagne vinegar, dijon...</td>\n",
       "      <td>[sheeps milk chees, champagne vinegar, dijon m...</td>\n",
       "    </tr>\n",
       "    <tr>\n",
       "      <th>466</th>\n",
       "      <td>french</td>\n",
       "      <td>20757</td>\n",
       "      <td>[fresh rosemary, yellow bell pepper, anchovy f...</td>\n",
       "      <td>[fresh rosemari, yellow bell pepp, anchovy fil...</td>\n",
       "    </tr>\n",
       "    <tr>\n",
       "      <th>474</th>\n",
       "      <td>french</td>\n",
       "      <td>16520</td>\n",
       "      <td>[water, salt, ground cinnamon, golden deliciou...</td>\n",
       "      <td>[water, salt, ground cinnamon, golden deliciou...</td>\n",
       "    </tr>\n",
       "    <tr>\n",
       "      <th>500</th>\n",
       "      <td>french</td>\n",
       "      <td>35010</td>\n",
       "      <td>[olive oil, zinfandel, boiling onions, fresh m...</td>\n",
       "      <td>[olive oil, zinfandel, boiling onion, fresh ma...</td>\n",
       "    </tr>\n",
       "    <tr>\n",
       "      <th>525</th>\n",
       "      <td>french</td>\n",
       "      <td>23449</td>\n",
       "      <td>[pearl onions, chives, light margarine, bonele...</td>\n",
       "      <td>[pearl onion, chive, light margarin, boneless ...</td>\n",
       "    </tr>\n",
       "    <tr>\n",
       "      <th>528</th>\n",
       "      <td>french</td>\n",
       "      <td>36636</td>\n",
       "      <td>[vidalia onion, ground black pepper, extra-vir...</td>\n",
       "      <td>[vidalia onion, ground black pepp, extra-virgi...</td>\n",
       "    </tr>\n",
       "    <tr>\n",
       "      <th>533</th>\n",
       "      <td>french</td>\n",
       "      <td>5901</td>\n",
       "      <td>[leeks, crème fraîche, chicken, red potato, sh...</td>\n",
       "      <td>[leek, creme fraich, chicken, red potato, shal...</td>\n",
       "    </tr>\n",
       "    <tr>\n",
       "      <th>554</th>\n",
       "      <td>french</td>\n",
       "      <td>33161</td>\n",
       "      <td>[anchovy fillets, capers, light tuna, extra-vi...</td>\n",
       "      <td>[anchovy fillet, caper, light tuna, extra-virg...</td>\n",
       "    </tr>\n",
       "    <tr>\n",
       "      <th>...</th>\n",
       "      <td>...</td>\n",
       "      <td>...</td>\n",
       "      <td>...</td>\n",
       "      <td>...</td>\n",
       "    </tr>\n",
       "    <tr>\n",
       "      <th>39306</th>\n",
       "      <td>french</td>\n",
       "      <td>37826</td>\n",
       "      <td>[clove, bread crumb fresh, duck fat, sea salt,...</td>\n",
       "      <td>[clove, bread crumb fresh, duck fat, sea salt,...</td>\n",
       "    </tr>\n",
       "    <tr>\n",
       "      <th>39326</th>\n",
       "      <td>french</td>\n",
       "      <td>12851</td>\n",
       "      <td>[water, large eggs, all-purpose flour, unsalte...</td>\n",
       "      <td>[water, large egg, flour, unsalted butt, bacon...</td>\n",
       "    </tr>\n",
       "    <tr>\n",
       "      <th>39332</th>\n",
       "      <td>french</td>\n",
       "      <td>35419</td>\n",
       "      <td>[sugar, large eggs, instant espresso, water, s...</td>\n",
       "      <td>[sugar, large egg, instant espresso, water, sa...</td>\n",
       "    </tr>\n",
       "    <tr>\n",
       "      <th>39338</th>\n",
       "      <td>french</td>\n",
       "      <td>41860</td>\n",
       "      <td>[warm water, salt, cold water, egg yolks, whit...</td>\n",
       "      <td>[warm wat, salt, cold wat, egg yolk, white sug...</td>\n",
       "    </tr>\n",
       "    <tr>\n",
       "      <th>39351</th>\n",
       "      <td>french</td>\n",
       "      <td>37548</td>\n",
       "      <td>[honey, mint sprigs, whole wheat peasant bread...</td>\n",
       "      <td>[honey, mint sprig, whole wheat peasant bread,...</td>\n",
       "    </tr>\n",
       "    <tr>\n",
       "      <th>39381</th>\n",
       "      <td>french</td>\n",
       "      <td>29793</td>\n",
       "      <td>[chicken breast halves, low salt chicken broth...</td>\n",
       "      <td>[chicken breast halv, low salt chicken broth, ...</td>\n",
       "    </tr>\n",
       "    <tr>\n",
       "      <th>39395</th>\n",
       "      <td>french</td>\n",
       "      <td>44000</td>\n",
       "      <td>[fat free less sodium chicken broth, olive oil...</td>\n",
       "      <td>[fat free less sodium chicken broth, olive oil...</td>\n",
       "    </tr>\n",
       "    <tr>\n",
       "      <th>39418</th>\n",
       "      <td>french</td>\n",
       "      <td>17218</td>\n",
       "      <td>[chocolate flavored liqueur, unsweetened choco...</td>\n",
       "      <td>[chocolate flavored liqueur, unsweetened choco...</td>\n",
       "    </tr>\n",
       "    <tr>\n",
       "      <th>39432</th>\n",
       "      <td>french</td>\n",
       "      <td>25327</td>\n",
       "      <td>[lemon, freshly ground pepper, black bass, ext...</td>\n",
       "      <td>[lemon, freshly ground pepp, black bass, extra...</td>\n",
       "    </tr>\n",
       "    <tr>\n",
       "      <th>39436</th>\n",
       "      <td>french</td>\n",
       "      <td>22735</td>\n",
       "      <td>[sugar, almonds, almond extract, dough, honey,...</td>\n",
       "      <td>[sugar, almond, almond extract, dough, honey, ...</td>\n",
       "    </tr>\n",
       "    <tr>\n",
       "      <th>39449</th>\n",
       "      <td>french</td>\n",
       "      <td>10771</td>\n",
       "      <td>[cherry tomatoes, large garlic cloves, flat le...</td>\n",
       "      <td>[cherry tomato, large garlic clov, flat leaf p...</td>\n",
       "    </tr>\n",
       "    <tr>\n",
       "      <th>39458</th>\n",
       "      <td>french</td>\n",
       "      <td>40141</td>\n",
       "      <td>[unbaked pie crusts, heavy cream, onions, grou...</td>\n",
       "      <td>[unbaked pie crust, heavy cream, onion, ground...</td>\n",
       "    </tr>\n",
       "    <tr>\n",
       "      <th>39498</th>\n",
       "      <td>french</td>\n",
       "      <td>34746</td>\n",
       "      <td>[whipping cream, cucumber, fresh lemon juice, ...</td>\n",
       "      <td>[whipping cream, cucumb, fresh lemon juic, sal...</td>\n",
       "    </tr>\n",
       "    <tr>\n",
       "      <th>39513</th>\n",
       "      <td>french</td>\n",
       "      <td>3863</td>\n",
       "      <td>[capers, butter, dijon mustard, fresh parsley,...</td>\n",
       "      <td>[caper, butter, dijon mustard, fresh parsley, ...</td>\n",
       "    </tr>\n",
       "    <tr>\n",
       "      <th>39516</th>\n",
       "      <td>french</td>\n",
       "      <td>37877</td>\n",
       "      <td>[haricots verts, roasted chestnuts, unsalted b...</td>\n",
       "      <td>[haricots vert, roasted chestnut, unsalted but...</td>\n",
       "    </tr>\n",
       "    <tr>\n",
       "      <th>39519</th>\n",
       "      <td>french</td>\n",
       "      <td>42106</td>\n",
       "      <td>[kosher salt, cod fillets, garlic, mussels, ol...</td>\n",
       "      <td>[kosher salt, cod fillet, garlic, mussel, oliv...</td>\n",
       "    </tr>\n",
       "    <tr>\n",
       "      <th>39521</th>\n",
       "      <td>french</td>\n",
       "      <td>7287</td>\n",
       "      <td>[powdered sugar, unsalted butter, salt, corn s...</td>\n",
       "      <td>[powdered sugar, unsalted butt, salt, corn sta...</td>\n",
       "    </tr>\n",
       "    <tr>\n",
       "      <th>39532</th>\n",
       "      <td>french</td>\n",
       "      <td>33232</td>\n",
       "      <td>[bay leaves, dry red wine, baguette, butter, l...</td>\n",
       "      <td>[bay leav, dry red win, baguett, butter, low s...</td>\n",
       "    </tr>\n",
       "    <tr>\n",
       "      <th>39556</th>\n",
       "      <td>french</td>\n",
       "      <td>28011</td>\n",
       "      <td>[granulated sugar, vanilla, dried beans, froze...</td>\n",
       "      <td>[granulated sugar, vanilla, dried bean, frozen...</td>\n",
       "    </tr>\n",
       "    <tr>\n",
       "      <th>39557</th>\n",
       "      <td>french</td>\n",
       "      <td>5763</td>\n",
       "      <td>[salt, black pepper, boneless skinless chicken...</td>\n",
       "      <td>[salt, black pepp, boneless skinless chicken b...</td>\n",
       "    </tr>\n",
       "    <tr>\n",
       "      <th>39566</th>\n",
       "      <td>french</td>\n",
       "      <td>46931</td>\n",
       "      <td>[dijon mustard, shallots, cheese, unsalted but...</td>\n",
       "      <td>[dijon mustard, shallot, chees, unsalted butt,...</td>\n",
       "    </tr>\n",
       "    <tr>\n",
       "      <th>39586</th>\n",
       "      <td>french</td>\n",
       "      <td>49636</td>\n",
       "      <td>[milk, all-purpose flour, cooking oil, salt, l...</td>\n",
       "      <td>[milk, flour, cooking oil, salt, large egg, beer]</td>\n",
       "    </tr>\n",
       "    <tr>\n",
       "      <th>39630</th>\n",
       "      <td>french</td>\n",
       "      <td>44734</td>\n",
       "      <td>[french bread, fresh tarragon, mussels, shallo...</td>\n",
       "      <td>[french bread, fresh tarragon, mussel, shallot...</td>\n",
       "    </tr>\n",
       "    <tr>\n",
       "      <th>39675</th>\n",
       "      <td>french</td>\n",
       "      <td>105</td>\n",
       "      <td>[toasted pecans, bourbon whiskey, golden brown...</td>\n",
       "      <td>[toasted pecan, bourbon whiskey, golden brown ...</td>\n",
       "    </tr>\n",
       "    <tr>\n",
       "      <th>39679</th>\n",
       "      <td>french</td>\n",
       "      <td>16673</td>\n",
       "      <td>[pecans, unsalted butter, bourbon whiskey, wat...</td>\n",
       "      <td>[pecan, unsalted butt, bourbon whiskey, water,...</td>\n",
       "    </tr>\n",
       "    <tr>\n",
       "      <th>39700</th>\n",
       "      <td>french</td>\n",
       "      <td>45255</td>\n",
       "      <td>[semolina flour, sea salt, active dry yeast, g...</td>\n",
       "      <td>[semolina flour, sea salt, active dry yeast, g...</td>\n",
       "    </tr>\n",
       "    <tr>\n",
       "      <th>39703</th>\n",
       "      <td>french</td>\n",
       "      <td>15271</td>\n",
       "      <td>[unsalted shelled pistachio, large egg whites,...</td>\n",
       "      <td>[unsalted shelled pistachio, large egg whit, s...</td>\n",
       "    </tr>\n",
       "    <tr>\n",
       "      <th>39705</th>\n",
       "      <td>french</td>\n",
       "      <td>44512</td>\n",
       "      <td>[instant espresso powder, confectioners sugar,...</td>\n",
       "      <td>[instant espresso powd, confectioners sugar, b...</td>\n",
       "    </tr>\n",
       "    <tr>\n",
       "      <th>39728</th>\n",
       "      <td>french</td>\n",
       "      <td>8279</td>\n",
       "      <td>[french bread, dried basil, butter]</td>\n",
       "      <td>[french bread, dried basil, butter]</td>\n",
       "    </tr>\n",
       "    <tr>\n",
       "      <th>39736</th>\n",
       "      <td>french</td>\n",
       "      <td>39166</td>\n",
       "      <td>[shallots, thyme sprigs, bay leaf, cabernet sa...</td>\n",
       "      <td>[shallot, thyme sprig, bay leaf, cabernet sauv...</td>\n",
       "    </tr>\n",
       "  </tbody>\n",
       "</table>\n",
       "<p>2646 rows × 4 columns</p>\n",
       "</div>"
      ],
      "text/plain": [
       "      cuisine     id                                        ingredients  \\\n",
       "46     french  18515  [sugar, salt, fennel bulb, water, lemon olive ...   \n",
       "67     french    275  [vanilla, milk, large egg yolks, sugar, corn s...   \n",
       "68     french  43769  [orange juice concentrate, pumpkin purée, mars...   \n",
       "82     french   6886  [Madeira, foie gras, demi-glace, sherry vinega...   \n",
       "134    french  39471  [grated parmesan cheese, asparagus, bacon slic...   \n",
       "145    french   9069  [fennel seeds, kalamata, capers, dried oregano...   \n",
       "164    french   7501  [tomatoes, olive oil, chopped fresh thyme, sal...   \n",
       "171    french  40064  [pepper, grated Gruyère cheese, heavy cream, s...   \n",
       "208    french  36862  [eau de vie, leaves, cane sugar, pinenuts, gol...   \n",
       "222    french  18643  [2% reduced-fat milk, corn starch, eggs, maple...   \n",
       "224    french  46893  [heavy cream, pears, unsalted butter, sour cre...   \n",
       "261    french    636  [golden brown sugar, eggs, whole milk ricotta ...   \n",
       "313    french  38706  [saffron threads, red wine vinegar, large shri...   \n",
       "340    french  10003  [jumbo shrimp, baguette, extra-virgin olive oi...   \n",
       "344    french  45711  [sugar, large egg yolks, grated lemon peel, rh...   \n",
       "348    french  15882  [dark rum, crème fraîche, unsalted butter, cak...   \n",
       "351    french  40509  [kalamata, flat leaf parsley, tomatoes, Califo...   \n",
       "356    french   1764  [clove, potatoes, extra-virgin olive oil, turn...   \n",
       "377    french  18190  [ground cinnamon, baking potatoes, bay leaf, l...   \n",
       "390    french  37109  [dijon mustard, extra-virgin olive oil, flat l...   \n",
       "395    french  22581  [granulated sugar, vanilla, chocolate sauce, m...   \n",
       "427    french  23336  [leeks, soft fresh goat cheese, olive oil, cho...   \n",
       "441    french  33085  [sheep’s milk cheese, champagne vinegar, dijon...   \n",
       "466    french  20757  [fresh rosemary, yellow bell pepper, anchovy f...   \n",
       "474    french  16520  [water, salt, ground cinnamon, golden deliciou...   \n",
       "500    french  35010  [olive oil, zinfandel, boiling onions, fresh m...   \n",
       "525    french  23449  [pearl onions, chives, light margarine, bonele...   \n",
       "528    french  36636  [vidalia onion, ground black pepper, extra-vir...   \n",
       "533    french   5901  [leeks, crème fraîche, chicken, red potato, sh...   \n",
       "554    french  33161  [anchovy fillets, capers, light tuna, extra-vi...   \n",
       "...       ...    ...                                                ...   \n",
       "39306  french  37826  [clove, bread crumb fresh, duck fat, sea salt,...   \n",
       "39326  french  12851  [water, large eggs, all-purpose flour, unsalte...   \n",
       "39332  french  35419  [sugar, large eggs, instant espresso, water, s...   \n",
       "39338  french  41860  [warm water, salt, cold water, egg yolks, whit...   \n",
       "39351  french  37548  [honey, mint sprigs, whole wheat peasant bread...   \n",
       "39381  french  29793  [chicken breast halves, low salt chicken broth...   \n",
       "39395  french  44000  [fat free less sodium chicken broth, olive oil...   \n",
       "39418  french  17218  [chocolate flavored liqueur, unsweetened choco...   \n",
       "39432  french  25327  [lemon, freshly ground pepper, black bass, ext...   \n",
       "39436  french  22735  [sugar, almonds, almond extract, dough, honey,...   \n",
       "39449  french  10771  [cherry tomatoes, large garlic cloves, flat le...   \n",
       "39458  french  40141  [unbaked pie crusts, heavy cream, onions, grou...   \n",
       "39498  french  34746  [whipping cream, cucumber, fresh lemon juice, ...   \n",
       "39513  french   3863  [capers, butter, dijon mustard, fresh parsley,...   \n",
       "39516  french  37877  [haricots verts, roasted chestnuts, unsalted b...   \n",
       "39519  french  42106  [kosher salt, cod fillets, garlic, mussels, ol...   \n",
       "39521  french   7287  [powdered sugar, unsalted butter, salt, corn s...   \n",
       "39532  french  33232  [bay leaves, dry red wine, baguette, butter, l...   \n",
       "39556  french  28011  [granulated sugar, vanilla, dried beans, froze...   \n",
       "39557  french   5763  [salt, black pepper, boneless skinless chicken...   \n",
       "39566  french  46931  [dijon mustard, shallots, cheese, unsalted but...   \n",
       "39586  french  49636  [milk, all-purpose flour, cooking oil, salt, l...   \n",
       "39630  french  44734  [french bread, fresh tarragon, mussels, shallo...   \n",
       "39675  french    105  [toasted pecans, bourbon whiskey, golden brown...   \n",
       "39679  french  16673  [pecans, unsalted butter, bourbon whiskey, wat...   \n",
       "39700  french  45255  [semolina flour, sea salt, active dry yeast, g...   \n",
       "39703  french  15271  [unsalted shelled pistachio, large egg whites,...   \n",
       "39705  french  44512  [instant espresso powder, confectioners sugar,...   \n",
       "39728  french   8279                [french bread, dried basil, butter]   \n",
       "39736  french  39166  [shallots, thyme sprigs, bay leaf, cabernet sa...   \n",
       "\n",
       "                                       ingredients_clean  \n",
       "46     [sugar, salt, fennel bulb, water, lemon olive ...  \n",
       "67     [vanilla, milk, large egg yolk, sugar, corn st...  \n",
       "68     [orange juice concentr, pumpkin pure, marshmal...  \n",
       "82     [Madeira, foie gra, demi-glac, sherry vinegar,...  \n",
       "134    [grated parmesan chees, asparagu, bacon slic, ...  \n",
       "145    [fennel se, kalamata, caper, dried oregano, gr...  \n",
       "164    [tomato, olive oil, chopped fresh thym, salt, ...  \n",
       "171    [pepper, grated Gruyere chees, heavy cream, sa...  \n",
       "208    [eau de vi, leaf, cane sugar, pinenut, golden ...  \n",
       "222    [fat milk, corn starch, egg, maple syrup, suga...  \n",
       "224    [heavy cream, pear, unsalted butt, sour cream,...  \n",
       "261    [golden brown sugar, egg, whole milk ricotta c...  \n",
       "313    [saffron thread, red wine vinegar, large shrim...  \n",
       "340    [jumbo shrimp, baguett, extra-virgin olive oil...  \n",
       "344    [sugar, large egg yolk, grated lemon peel, rhu...  \n",
       "348    [dark rum, creme fraich, unsalted butt, cake f...  \n",
       "351    [kalamata, flat leaf parsley, tomato, Californ...  \n",
       "356    [clove, potato, extra-virgin olive oil, turnip...  \n",
       "377    [ground cinnamon, baking potato, bay leaf, lea...  \n",
       "390    [dijon mustard, extra-virgin olive oil, flat l...  \n",
       "395    [granulated sugar, vanilla, chocolate sauc, mi...  \n",
       "427    [leek, soft fresh goat chees, olive oil, chopp...  \n",
       "441    [sheeps milk chees, champagne vinegar, dijon m...  \n",
       "466    [fresh rosemari, yellow bell pepp, anchovy fil...  \n",
       "474    [water, salt, ground cinnamon, golden deliciou...  \n",
       "500    [olive oil, zinfandel, boiling onion, fresh ma...  \n",
       "525    [pearl onion, chive, light margarin, boneless ...  \n",
       "528    [vidalia onion, ground black pepp, extra-virgi...  \n",
       "533    [leek, creme fraich, chicken, red potato, shal...  \n",
       "554    [anchovy fillet, caper, light tuna, extra-virg...  \n",
       "...                                                  ...  \n",
       "39306  [clove, bread crumb fresh, duck fat, sea salt,...  \n",
       "39326  [water, large egg, flour, unsalted butt, bacon...  \n",
       "39332  [sugar, large egg, instant espresso, water, sa...  \n",
       "39338  [warm wat, salt, cold wat, egg yolk, white sug...  \n",
       "39351  [honey, mint sprig, whole wheat peasant bread,...  \n",
       "39381  [chicken breast halv, low salt chicken broth, ...  \n",
       "39395  [fat free less sodium chicken broth, olive oil...  \n",
       "39418  [chocolate flavored liqueur, unsweetened choco...  \n",
       "39432  [lemon, freshly ground pepp, black bass, extra...  \n",
       "39436  [sugar, almond, almond extract, dough, honey, ...  \n",
       "39449  [cherry tomato, large garlic clov, flat leaf p...  \n",
       "39458  [unbaked pie crust, heavy cream, onion, ground...  \n",
       "39498  [whipping cream, cucumb, fresh lemon juic, sal...  \n",
       "39513  [caper, butter, dijon mustard, fresh parsley, ...  \n",
       "39516  [haricots vert, roasted chestnut, unsalted but...  \n",
       "39519  [kosher salt, cod fillet, garlic, mussel, oliv...  \n",
       "39521  [powdered sugar, unsalted butt, salt, corn sta...  \n",
       "39532  [bay leav, dry red win, baguett, butter, low s...  \n",
       "39556  [granulated sugar, vanilla, dried bean, frozen...  \n",
       "39557  [salt, black pepp, boneless skinless chicken b...  \n",
       "39566  [dijon mustard, shallot, chees, unsalted butt,...  \n",
       "39586  [milk, flour, cooking oil, salt, large egg, beer]  \n",
       "39630  [french bread, fresh tarragon, mussel, shallot...  \n",
       "39675  [toasted pecan, bourbon whiskey, golden brown ...  \n",
       "39679  [pecan, unsalted butt, bourbon whiskey, water,...  \n",
       "39700  [semolina flour, sea salt, active dry yeast, g...  \n",
       "39703  [unsalted shelled pistachio, large egg whit, s...  \n",
       "39705  [instant espresso powd, confectioners sugar, b...  \n",
       "39728                [french bread, dried basil, butter]  \n",
       "39736  [shallot, thyme sprig, bay leaf, cabernet sauv...  \n",
       "\n",
       "[2646 rows x 4 columns]"
      ]
     },
     "execution_count": 9,
     "metadata": {},
     "output_type": "execute_result"
    }
   ],
   "source": [
    "train_df[train_df.cuisine == 'french']"
   ]
  },
  {
   "cell_type": "code",
   "execution_count": 10,
   "metadata": {
    "collapsed": false
   },
   "outputs": [
    {
     "data": {
      "text/plain": [
       "[(u'salt', 1203),\n",
       " (u'sugar', 637),\n",
       " (u'all-purpose flour', 593),\n",
       " (u'unsalted butter', 592),\n",
       " (u'olive oil', 516),\n",
       " (u'butter', 514),\n",
       " (u'water', 439),\n",
       " (u'large eggs', 415),\n",
       " (u'garlic cloves', 403),\n",
       " (u'ground black pepper', 385)]"
      ]
     },
     "execution_count": 10,
     "metadata": {},
     "output_type": "execute_result"
    }
   ],
   "source": [
    "french_ingredients = train_df[train_df.cuisine == 'french']['ingredients']\n",
    "c = Counter(\",\".join([\",\".join(_) for _ in french_ingredients.values]).split(\",\"))\n",
    "c.most_common(10)"
   ]
  },
  {
   "cell_type": "code",
   "execution_count": 11,
   "metadata": {
    "collapsed": false
   },
   "outputs": [
    {
     "data": {
      "text/plain": [
       "[(u'salt', 1203),\n",
       " (u'flour', 678),\n",
       " (u'sugar', 637),\n",
       " (u'unsalted butt', 592),\n",
       " (u'olive oil', 516),\n",
       " (u'butter', 514),\n",
       " (u'water', 439),\n",
       " (u'large egg', 415),\n",
       " (u'garlic clov', 403),\n",
       " (u'ground black pepp', 385)]"
      ]
     },
     "execution_count": 11,
     "metadata": {},
     "output_type": "execute_result"
    }
   ],
   "source": [
    "french_ingredients = train_df[train_df.cuisine == 'french']['ingredients_clean']\n",
    "c = Counter(\",\".join([\",\".join(_) for _ in french_ingredients.values]).split(\",\"))\n",
    "c.most_common(10)"
   ]
  },
  {
   "cell_type": "code",
   "execution_count": 12,
   "metadata": {
    "collapsed": false
   },
   "outputs": [
    {
     "data": {
      "text/plain": [
       "array([u'greek', u'southern_us', u'filipino', u'indian', u'jamaican',\n",
       "       u'spanish', u'italian', u'mexican', u'chinese', u'british', u'thai',\n",
       "       u'vietnamese', u'cajun_creole', u'brazilian', u'french',\n",
       "       u'japanese', u'irish', u'korean', u'moroccan', u'russian'], dtype=object)"
      ]
     },
     "execution_count": 12,
     "metadata": {},
     "output_type": "execute_result"
    }
   ],
   "source": [
    "train_df.cuisine.unique()"
   ]
  },
  {
   "cell_type": "code",
   "execution_count": 13,
   "metadata": {
    "collapsed": true
   },
   "outputs": [],
   "source": [
    "cuisines = [u'greek', u'southern_us', u'filipino', u'indian', u'jamaican',\n",
    "       u'spanish', u'italian', u'mexican', u'chinese', u'british', u'thai',\n",
    "       u'vietnamese', u'cajun_creole', u'brazilian', u'french',\n",
    "       u'japanese', u'irish', u'korean', u'moroccan', u'russian']"
   ]
  },
  {
   "cell_type": "code",
   "execution_count": 14,
   "metadata": {
    "collapsed": false
   },
   "outputs": [],
   "source": [
    "ingredient_dict = {}\n",
    "for cuisine in cuisines:\n",
    "    ingredient_dict[cuisine] = Counter(\",\".join(\n",
    "            [\",\".join(_) for _ in train_df[train_df.cuisine == cuisine]['ingredients_clean'].values]).split(\",\"))"
   ]
  },
  {
   "cell_type": "code",
   "execution_count": 15,
   "metadata": {
    "collapsed": false
   },
   "outputs": [
    {
     "data": {
      "text/plain": [
       "[(u'salt', 1203),\n",
       " (u'flour', 678),\n",
       " (u'sugar', 637),\n",
       " (u'unsalted butt', 592),\n",
       " (u'olive oil', 516),\n",
       " (u'butter', 514),\n",
       " (u'water', 439),\n",
       " (u'large egg', 415),\n",
       " (u'garlic clov', 403),\n",
       " (u'ground black pepp', 385)]"
      ]
     },
     "execution_count": 15,
     "metadata": {},
     "output_type": "execute_result"
    }
   ],
   "source": [
    "ingredient_dict['french'].most_common(10)"
   ]
  },
  {
   "cell_type": "code",
   "execution_count": 16,
   "metadata": {
    "collapsed": false
   },
   "outputs": [
    {
     "data": {
      "image/png": "[encoded data removed]",
      "text/plain": [
       "<matplotlib.figure.Figure at 0x124c5b690>"
      ]
     },
     "metadata": {},
     "output_type": "display_data"
    }
   ],
   "source": [
    "labels, values =  zip(*ingredient_dict[cuisine].most_common(10))\n",
    "indexes = np.arange(len(labels))\n",
    "width = 0.5\n",
    "\n",
    "for cuisine in cuisines:\n",
    "    plt.bar(indexes, values, width, color='black')\n",
    "    plt.xticks(indexes + width/2., labels, rotation='vertical')\n",
    "    plt.show()"
   ]
  },
  {
   "cell_type": "code",
   "execution_count": 19,
   "metadata": {
    "collapsed": true
   },
   "outputs": [],
   "source": [
    "c = Counter(\";\".join([\";\".join(_) for _ in train_df.ingredients.values]).split(\";\"))"
   ]
  },
  {
   "cell_type": "code",
   "execution_count": 20,
   "metadata": {
    "collapsed": false
   },
   "outputs": [],
   "source": [
    "list(c.keys()).index(\"butter\")\n",
    "ingredients_index = list(c.keys())"
   ]
  },
  {
   "cell_type": "code",
   "execution_count": 21,
   "metadata": {
    "collapsed": false
   },
   "outputs": [
    {
     "name": "stdout",
     "output_type": "stream",
     "text": [
      "CPU times: user 1min 25s, sys: 974 ms, total: 1min 26s\n",
      "Wall time: 1min 25s\n"
     ]
    }
   ],
   "source": [
    "%%time\n",
    "n = train_df.shape[0]\n",
    "m = len(c.keys())\n",
    "X = lil_matrix((n, m), dtype=np.int)\n",
    "y = np.zeros(n, dtype=np.int)\n",
    "for recipe in range(n):\n",
    "    y[recipe] = cuisines.index(train_df.loc[recipe].cuisine)\n",
    "    for ingr in train_df.loc[recipe].ingredients:\n",
    "        X[recipe, ingredients_index.index(ingr)] = 1"
   ]
  },
  {
   "cell_type": "code",
   "execution_count": 22,
   "metadata": {
    "collapsed": false
   },
   "outputs": [
    {
     "data": {
      "text/plain": [
       "array([ 0,  1,  2,  3,  3,  4,  5,  6,  7,  6,  6,  8,  6,  7,  6,  3,  9,\n",
       "        6, 10, 11, 10,  7,  1,  8,  6,  8, 12,  6,  8,  7,  6, 12,  7, 10,\n",
       "        6, 12,  6,  2,  1,  1,  6, 13,  7,  3,  7,  8, 14,  1,  1,  1, 15,\n",
       "        1,  6,  1,  6,  4, 15,  3,  6, 16, 10, 10,  3,  4,  6, 10, 17, 14,\n",
       "       14,  1,  5,  3, 18,  6,  6, 18, 18, 11, 15,  7, 12,  1, 14,  3,  3,\n",
       "        6,  6,  3, 17,  5,  6,  1,  1,  0,  7,  7,  1,  3,  6,  6,  6, 15,\n",
       "        6,  0, 17,  3,  7,  1, 16, 17,  8,  7,  1,  8, 18, 16,  8, 16,  7,\n",
       "        6,  6,  6,  4,  7, 15,  5,  8,  7,  9,  3, 10,  1,  7,  5, 14,  6,\n",
       "        3,  9,  5,  6, 17,  3,  7,  7,  1, 14, 12,  3,  8,  6,  6,  6,  1,\n",
       "        0, 15, 12,  6, 17,  7,  3,  6,  7, 17,  8, 14,  8,  5,  8,  5, 15,\n",
       "        7, 14, 15,  7,  6,  2,  1,  6,  6,  8,  7,  3, 17,  7,  7, 15,  0,\n",
       "        7,  1,  8,  9, 15,  6,  7, 16,  0, 12, 15,  6,  1,  1,  1,  6,  3,\n",
       "        8, 15,  7,  7, 14,  7,  7, 16,  8,  7,  0, 17,  7,  5,  6,  1,  6,\n",
       "        7, 14,  7, 14,  2,  7,  7,  6,  7,  1,  6, 15,  6,  7,  7,  1,  1,\n",
       "        6,  4,  6, 17,  1,  3,  6,  3,  7, 17,  1, 11, 17,  3,  1,  7,  7,\n",
       "        6,  6, 17, 10,  1,  8, 14,  0,  1,  7,  3,  1,  7, 15,  9, 15,  7,\n",
       "        2,  7,  7,  3,  7,  3,  0,  6,  7,  8, 12,  6,  7,  6,  6,  6,  8,\n",
       "        6, 10,  1,  6,  7,  2,  3,  2,  6,  6,  7,  7,  6,  3,  3, 10, 11,\n",
       "       12,  7,  7,  1,  8,  6, 17, 14,  8,  9,  3,  8, 17,  8,  3,  6,  6,\n",
       "        8,  3,  1, 17, 11,  3, 15, 18, 18,  6,  3,  7,  7,  7,  1,  8, 12,\n",
       "       14,  3,  8,  1, 14, 10,  7,  7, 14,  6,  6, 14,  0,  6,  3,  2, 14,\n",
       "       18,  3, 11, 10,  7,  7,  2,  6,  8,  6, 12, 17, 19,  6, 16, 11, 15,\n",
       "        8, 12,  6, 14, 18,  1, 13,  8, 17,  6,  6,  6,  5,  1,  6,  6, 14,\n",
       "        6,  6,  7,  0, 14,  5, 15,  6, 15,  0, 15,  8,  7,  6, 10,  8,  7,\n",
       "        9, 15,  7,  7,  1,  3, 12, 15,  0,  8, 10,  8, 12,  3,  6, 13,  7,\n",
       "        8,  6, 14,  7,  0, 19,  1, 16, 11,  1,  4,  3, 17,  6,  6,  6, 14,\n",
       "        6, 10,  7,  6,  6, 10,  0,  1,  7,  6,  6, 12, 10,  7, 16, 15,  7,\n",
       "        6,  7,  6,  6,  1,  3,  6, 14, 15,  1,  6,  7,  9,  7,  7, 14, 18,\n",
       "        8, 17,  3,  8,  1,  6,  7,  1, 12,  1,  5,  6, 11, 17,  8,  6,  1,\n",
       "        2,  2,  8,  6,  6,  1,  9])"
      ]
     },
     "execution_count": 22,
     "metadata": {},
     "output_type": "execute_result"
    }
   ],
   "source": [
    "y[:500]"
   ]
  },
  {
   "cell_type": "code",
   "execution_count": 23,
   "metadata": {
    "collapsed": false
   },
   "outputs": [
    {
     "data": {
      "text/plain": [
       "<39774x6714 sparse matrix of type '<type 'numpy.int64'>'\n",
       "\twith 428249 stored elements in LInked List format>"
      ]
     },
     "execution_count": 23,
     "metadata": {},
     "output_type": "execute_result"
    }
   ],
   "source": [
    "X"
   ]
  },
  {
   "cell_type": "code",
   "execution_count": 24,
   "metadata": {
    "collapsed": false
   },
   "outputs": [],
   "source": [
    "X_train, X_test, y_train, y_test = train_test_split(X, y, test_size=0.2)"
   ]
  },
  {
   "cell_type": "code",
   "execution_count": 25,
   "metadata": {
    "collapsed": false
   },
   "outputs": [
    {
     "name": "stdout",
     "output_type": "stream",
     "text": [
      "LogisticRegression score: 0.737524\n",
      "CPU times: user 10.1 s, sys: 688 ms, total: 10.7 s\n",
      "Wall time: 3.17 s\n"
     ]
    }
   ],
   "source": [
    "%%time\n",
    "ind = np.array((X.sum(axis=0) < 1000) & (X.sum(axis=0) > 5)).ravel()\n",
    "logistic = LogisticRegression()\n",
    "logistic.fit(X_train[:, ind], y_train)\n",
    "print('LogisticRegression score: %f' % logistic.score(X_test[:, ind], y_test))"
   ]
  },
  {
   "cell_type": "code",
   "execution_count": 26,
   "metadata": {
    "collapsed": false
   },
   "outputs": [
    {
     "name": "stdout",
     "output_type": "stream",
     "text": [
      "LogisticRegression score: 0.199120\n",
      "LogisticRegression score: 0.203268\n",
      "LogisticRegression score: 0.242489\n",
      "LogisticRegression score: 0.334507\n",
      "LogisticRegression score: 0.465619\n",
      "LogisticRegression score: 0.616719\n",
      "LogisticRegression score: 0.716656\n",
      "LogisticRegression score: 0.764299\n",
      "LogisticRegression score: 0.774230\n",
      "LogisticRegression score: 0.774230\n",
      "LogisticRegression score: 0.219233\n",
      "LogisticRegression score: 0.280704\n",
      "LogisticRegression score: 0.362791\n",
      "LogisticRegression score: 0.477058\n",
      "LogisticRegression score: 0.605280\n",
      "LogisticRegression score: 0.702828\n",
      "LogisticRegression score: 0.747832\n",
      "LogisticRegression score: 0.769453\n",
      "LogisticRegression score: 0.774481\n",
      "LogisticRegression score: 0.774356\n",
      "LogisticRegression score: 0.356003\n",
      "LogisticRegression score: 0.443620\n",
      "LogisticRegression score: 0.536518\n",
      "LogisticRegression score: 0.635449\n",
      "LogisticRegression score: 0.704840\n",
      "LogisticRegression score: 0.740163\n",
      "LogisticRegression score: 0.762791\n",
      "LogisticRegression score: 0.769202\n",
      "LogisticRegression score: 0.773979\n",
      "LogisticRegression score: 0.774230\n",
      "LogisticRegression score: 0.589692\n",
      "LogisticRegression score: 0.650409\n",
      "LogisticRegression score: 0.699560\n",
      "LogisticRegression score: 0.725330\n",
      "LogisticRegression score: 0.747454\n",
      "LogisticRegression score: 0.760277\n",
      "LogisticRegression score: 0.766185\n",
      "LogisticRegression score: 0.769956\n",
      "LogisticRegression score: 0.770836\n",
      "LogisticRegression score: 0.772219\n",
      "LogisticRegression score: 0.722313\n",
      "LogisticRegression score: 0.736769\n",
      "LogisticRegression score: 0.747957\n",
      "LogisticRegression score: 0.751854\n",
      "LogisticRegression score: 0.753865\n",
      "LogisticRegression score: 0.756128\n",
      "LogisticRegression score: 0.757511\n",
      "LogisticRegression score: 0.759145\n",
      "LogisticRegression score: 0.759145\n",
      "LogisticRegression score: 0.758894\n",
      "LogisticRegression score: 0.744060\n",
      "LogisticRegression score: 0.745443\n",
      "LogisticRegression score: 0.743306\n",
      "LogisticRegression score: 0.743306\n",
      "LogisticRegression score: 0.743306\n",
      "LogisticRegression score: 0.743306\n",
      "LogisticRegression score: 0.743306\n",
      "LogisticRegression score: 0.743306\n",
      "LogisticRegression score: 0.743306\n",
      "LogisticRegression score: 0.743809\n",
      "LogisticRegression score: 0.724827\n",
      "LogisticRegression score: 0.724827\n",
      "LogisticRegression score: 0.724827\n",
      "LogisticRegression score: 0.724827\n",
      "LogisticRegression score: 0.724827\n",
      "LogisticRegression score: 0.724827\n",
      "LogisticRegression score: 0.724827\n",
      "LogisticRegression score: 0.724827\n",
      "LogisticRegression score: 0.724827\n",
      "LogisticRegression score: 0.724827\n",
      "LogisticRegression score: 0.679698\n",
      "LogisticRegression score: 0.679698\n",
      "LogisticRegression score: 0.679698\n",
      "LogisticRegression score: 0.679698\n",
      "LogisticRegression score: 0.679698\n",
      "LogisticRegression score: 0.679698\n",
      "LogisticRegression score: 0.679698\n",
      "LogisticRegression score: 0.679698\n",
      "LogisticRegression score: 0.679698\n",
      "LogisticRegression score: 0.679698\n",
      "LogisticRegression score: 0.603771\n",
      "LogisticRegression score: 0.603771\n",
      "LogisticRegression score: 0.603771\n",
      "LogisticRegression score: 0.603771\n",
      "LogisticRegression score: 0.603771\n",
      "LogisticRegression score: 0.603771\n",
      "LogisticRegression score: 0.603771\n",
      "LogisticRegression score: 0.603771\n",
      "LogisticRegression score: 0.603771\n",
      "LogisticRegression score: 0.603771\n",
      "LogisticRegression score: 0.514268\n",
      "LogisticRegression score: 0.514268\n",
      "LogisticRegression score: 0.514268\n",
      "LogisticRegression score: 0.514268\n",
      "LogisticRegression score: 0.514268\n",
      "LogisticRegression score: 0.514268\n",
      "LogisticRegression score: 0.514268\n",
      "LogisticRegression score: 0.514268\n",
      "LogisticRegression score: 0.514268\n",
      "LogisticRegression score: 0.514268\n"
     ]
    }
   ],
   "source": [
    "res = []\n",
    "logmax = np.log10(18049) # (u'salt', 18049)\n",
    "for lower_bound in np.logspace(0, 3, num=10):\n",
    "    for upper_bound in np.logspace(np.log(lower_bound), logmax, num=10):\n",
    "        ind = np.array((X.sum(axis=0) <= upper_bound) & (X.sum(axis=0) >= lower_bound)).ravel()\n",
    "        logistic = LogisticRegression()\n",
    "        logistic.fit(X_train[:, ind], y_train)\n",
    "        score = logistic.score(X_test[:, ind], y_test)\n",
    "        print('LogisticRegression score: %f' % score)\n",
    "        res.append((lower_bound, upper_bound, score))"
   ]
  },
  {
   "cell_type": "code",
   "execution_count": 27,
   "metadata": {
    "collapsed": false
   },
   "outputs": [
    {
     "name": "stdout",
     "output_type": "stream",
     "text": [
      "LogisticRegression score: 0.774356\n",
      "CPU times: user 26.9 s, sys: 945 ms, total: 27.8 s\n",
      "Wall time: 7.17 s\n"
     ]
    }
   ],
   "source": [
    "%%time\n",
    "logistic = LogisticRegression()\n",
    "logistic.fit(X_train, y_train)\n",
    "print('LogisticRegression score: %f' % logistic.score(X_test, y_test))"
   ]
  },
  {
   "cell_type": "code",
   "execution_count": 28,
   "metadata": {
    "collapsed": false
   },
   "outputs": [
    {
     "data": {
      "image/png": "[encoded data removed]",
      "text/plain": [
       "<matplotlib.figure.Figure at 0x122ea51d0>"
      ]
     },
     "metadata": {},
     "output_type": "display_data"
    }
   ],
   "source": [
    "plt.figure(figsize=(10, 10))\n",
    "cm = confusion_matrix(y_test, logistic.predict(X_test))\n",
    "cm_normalized = cm.astype('float') / cm.sum(axis=1)[:, np.newaxis]\n",
    "plt.imshow(cm_normalized, interpolation='nearest', cmap=plt.cm.binary)\n",
    "plt.title(\"confusion matrix\")\n",
    "plt.colorbar()\n",
    "tick_marks = np.arange(len(cuisines))\n",
    "plt.xticks(tick_marks, cuisines, rotation=90)\n",
    "plt.yticks(tick_marks, cuisines)\n",
    "plt.tight_layout()\n",
    "plt.ylabel('True label')\n",
    "plt.xlabel('Predicted label')\n",
    "plt.savefig('confusion_matrix.png', dpi=200)"
   ]
  },
  {
   "cell_type": "code",
   "execution_count": 29,
   "metadata": {
    "collapsed": false
   },
   "outputs": [
    {
     "name": "stdout",
     "output_type": "stream",
     "text": [
      "CPU times: user 19.5 s, sys: 206 ms, total: 19.7 s\n",
      "Wall time: 19.6 s\n"
     ]
    }
   ],
   "source": [
    "%%time\n",
    "n = test_df.shape[0]\n",
    "m = len(c.viewkeys())\n",
    "X_submit = lil_matrix((n, m), dtype=np.int)\n",
    "for recipe in range(n):\n",
    "    for ingr in test_df.loc[recipe].ingredients:\n",
    "        try:\n",
    "            X_submit[recipe, ingredients_index.index(ingr)] = 1\n",
    "        except ValueError:\n",
    "            pass"
   ]
  },
  {
   "cell_type": "code",
   "execution_count": 30,
   "metadata": {
    "collapsed": false
   },
   "outputs": [],
   "source": [
    "y_submit = logistic.predict(X_submit)"
   ]
  },
  {
   "cell_type": "code",
   "execution_count": 31,
   "metadata": {
    "collapsed": true
   },
   "outputs": [],
   "source": [
    "def write_to_csv(y_submit, submission_filename='submission.csv'):\n",
    "    with open(submission_filename, 'w') as f:\n",
    "        f.write(\"id,cuisine\\n\")\n",
    "        for i, idx in zip(test_df.id, y_submit):\n",
    "            f.write(\"{},{}\\n\".format(i, cuisines[idx]))"
   ]
  },
  {
   "cell_type": "code",
   "execution_count": 32,
   "metadata": {
    "collapsed": false
   },
   "outputs": [],
   "source": [
    "write_to_csv(y_submit)"
   ]
  },
  {
   "cell_type": "code",
   "execution_count": 33,
   "metadata": {
    "collapsed": false
   },
   "outputs": [
    {
     "name": "stdout",
     "output_type": "stream",
     "text": [
      "(0.05, 0.71414204902576994)\n",
      "(0.1, 0.73450659962287868)\n",
      "(0.2, 0.75537397862979261)\n",
      "(0.3, 0.76165933375235706)\n",
      "(0.4, 0.76656191074795721)\n",
      "(0.5, 0.77096165933375238)\n",
      "(0.7, 0.77485857950974235)\n",
      "(0.8, 0.77397862979258325)\n",
      "(0.9, 0.77322438717787556)\n",
      "(1.0, 0.77435575109993715)\n",
      "(1.5, 0.77586423632935264)\n",
      "(2.0, 0.77586423632935264)\n",
      "(2.5, 0.77523570081709614)\n",
      "(3.0, 0.77360150848522946)\n",
      "(3.5, 0.77397862979258325)\n",
      "(4.0, 0.77397862979258325)\n",
      "(4.5, 0.77272155876807036)\n",
      "(5.0, 0.77272155876807036)\n",
      "(10.0, 0.76693903205531111)\n"
     ]
    }
   ],
   "source": [
    "#determine the best value for the c-parameter in the logistic regression\n",
    "learning_curve = []\n",
    "for C in [0.05, 0.1, 0.2, 0.3, 0.4, 0.5, 0.7, 0.8, 0.9, 1.0, 1.5, 2.0, 2.5, 3.0, 3.5, 4.0, 4.5, 5.0, 10.]:\n",
    "    clf = LogisticRegression(C=C)\n",
    "    clf.fit(X_train, y_train)\n",
    "    learning_curve.append((C, clf.score(X_test, y_test)))\n",
    "    print(learning_curve[-1])"
   ]
  },
  {
   "cell_type": "code",
   "execution_count": 34,
   "metadata": {
    "collapsed": false
   },
   "outputs": [
    {
     "data": {
      "text/plain": [
       "<matplotlib.text.Text at 0x123debad0>"
      ]
     },
     "execution_count": 34,
     "metadata": {},
     "output_type": "execute_result"
    },
    {
     "data": {
      "image/png": "[encoded data removed]",
      "text/plain": [
       "<matplotlib.figure.Figure at 0x124c0c750>"
      ]
     },
     "metadata": {},
     "output_type": "display_data"
    }
   ],
   "source": [
    "plt.plot(np.array(learning_curve)[:, 0],\n",
    "        np.array(learning_curve)[:, 1])\n",
    "plt.xlabel(\"C parameter\")\n",
    "plt.ylabel(\"score\")"
   ]
  },
  {
   "cell_type": "code",
   "execution_count": 35,
   "metadata": {
    "collapsed": false
   },
   "outputs": [
    {
     "data": {
      "text/plain": [
       "1.5"
      ]
     },
     "execution_count": 35,
     "metadata": {},
     "output_type": "execute_result"
    }
   ],
   "source": [
    "np.array(learning_curve)[:, 0][np.array(learning_curve)[:, 1].argmax()]"
   ]
  },
  {
   "cell_type": "code",
   "execution_count": 36,
   "metadata": {
    "collapsed": false
   },
   "outputs": [
    {
     "name": "stdout",
     "output_type": "stream",
     "text": [
      "CPU times: user 41.8 s, sys: 940 ms, total: 42.7 s\n",
      "Wall time: 10.9 s\n"
     ]
    }
   ],
   "source": [
    "%%time\n",
    "clf = LogisticRegression(C=1.5)\n",
    "clf.fit(X, y)\n",
    "y_submit = clf.predict(X_submit)\n",
    "write_to_csv(y_submit, \"bestC.csv\")"
   ]
  },
  {
   "cell_type": "code",
   "execution_count": null,
   "metadata": {
    "collapsed": true
   },
   "outputs": [],
   "source": [
    "#Normalization"
   ]
  },
  {
   "cell_type": "code",
   "execution_count": 57,
   "metadata": {
    "collapsed": true
   },
   "outputs": [],
   "source": [
    "c = Counter(\";\".join([\";\".join(_) for _ in train_df.ingredients.values]).split(\";\"))\n",
    "list(c.keys()).index(\"butter\")\n",
    "ingredients_index = list(c.keys())"
   ]
  },
  {
   "cell_type": "code",
   "execution_count": 58,
   "metadata": {
    "collapsed": false
   },
   "outputs": [
    {
     "name": "stdout",
     "output_type": "stream",
     "text": [
      "CPU times: user 1min 24s, sys: 920 ms, total: 1min 25s\n",
      "Wall time: 1min 25s\n"
     ]
    }
   ],
   "source": [
    "%%time\n",
    "n = train_df.shape[0]\n",
    "m = len(c.keys())\n",
    "X = lil_matrix((n, m), dtype=np.int)\n",
    "y = np.zeros(n, dtype=np.int)\n",
    "for recipe in range(n):\n",
    "    y[recipe] = cuisines.index(train_df.loc[recipe].cuisine)\n",
    "    for ingr in train_df.loc[recipe].ingredients:\n",
    "        X[recipe, ingredients_index.index(ingr)] = 1"
   ]
  },
  {
   "cell_type": "code",
   "execution_count": 59,
   "metadata": {
    "collapsed": false
   },
   "outputs": [
    {
     "name": "stdout",
     "output_type": "stream",
     "text": [
      "CPU times: user 21.7 s, sys: 342 ms, total: 22.1 s\n",
      "Wall time: 21.9 s\n"
     ]
    }
   ],
   "source": [
    "%%time\n",
    "n = test_df.shape[0]\n",
    "m = len(c.viewkeys())\n",
    "X_weighted = lil_matrix((n, m), dtype=X.dtype)\n",
    "for recipe in range(n):\n",
    "    weight = len(test_df.loc[recipe].ingredients)\n",
    "    for order, ingr in enumerate(test_df.loc[recipe].ingredients):\n",
    "        try:\n",
    "            X_weighted[recipe, ingredients_index.index(ingr)] = 1 + 0.5 * (weight - order) / float(weight)\n",
    "        except ValueError:\n",
    "            pass"
   ]
  },
  {
   "cell_type": "code",
   "execution_count": 60,
   "metadata": {
    "collapsed": false
   },
   "outputs": [
    {
     "data": {
      "text/plain": [
       "array([1, 1, 1, 1, 1, 1, 1, 1, 1, 1, 1, 1, 1, 1, 1, 1, 1, 1, 1, 1, 1, 1, 1,\n",
       "       1, 1, 1, 1, 1, 1, 1, 1, 1, 1, 1, 1, 1, 1, 1, 1, 1, 1, 1, 1, 1, 1, 1,\n",
       "       1, 1, 1, 1])"
      ]
     },
     "execution_count": 60,
     "metadata": {},
     "output_type": "execute_result"
    }
   ],
   "source": [
    "np.array((X_weighted[:50, :].todense())).max(axis=1)"
   ]
  },
  {
   "cell_type": "code",
   "execution_count": 61,
   "metadata": {
    "collapsed": false,
    "scrolled": false
   },
   "outputs": [
    {
     "data": {
      "text/plain": [
       "(array([   0.,    0.,    0.,    0.,    0.,    0.,    0.,    0.,    0.,\n",
       "           0.,    0.,    0.,    0.,    0.,    0.,    0.,    0.,    0.,\n",
       "           0.,    0.,    0.,    0.,    0.,    0.,    0.,  500.,    0.,\n",
       "           0.,    0.,    0.,    0.,    0.,    0.,    0.,    0.,    0.,\n",
       "           0.,    0.,    0.,    0.,    0.,    0.,    0.,    0.,    0.,\n",
       "           0.,    0.,    0.,    0.,    0.]),\n",
       " array([ 0.5 ,  0.52,  0.54,  0.56,  0.58,  0.6 ,  0.62,  0.64,  0.66,\n",
       "         0.68,  0.7 ,  0.72,  0.74,  0.76,  0.78,  0.8 ,  0.82,  0.84,\n",
       "         0.86,  0.88,  0.9 ,  0.92,  0.94,  0.96,  0.98,  1.  ,  1.02,\n",
       "         1.04,  1.06,  1.08,  1.1 ,  1.12,  1.14,  1.16,  1.18,  1.2 ,\n",
       "         1.22,  1.24,  1.26,  1.28,  1.3 ,  1.32,  1.34,  1.36,  1.38,\n",
       "         1.4 ,  1.42,  1.44,  1.46,  1.48,  1.5 ]),\n",
       " <a list of 50 Patch objects>)"
      ]
     },
     "execution_count": 61,
     "metadata": {},
     "output_type": "execute_result"
    },
    {
     "data": {
      "image/png": "[encoded data removed]",
      "text/plain": [
       "<matplotlib.figure.Figure at 0x1233b9c50>"
      ]
     },
     "metadata": {},
     "output_type": "display_data"
    }
   ],
   "source": [
    "plt.hist(np.array((X_weighted[:500, :].todense())).max(axis=1), bins=50)"
   ]
  },
  {
   "cell_type": "code",
   "execution_count": 64,
   "metadata": {
    "collapsed": false
   },
   "outputs": [],
   "source": [
    "X_train, X_test, y_train, y_test = train_test_split(X, y, test_size=0.2)"
   ]
  },
  {
   "cell_type": "code",
   "execution_count": 65,
   "metadata": {
    "collapsed": false
   },
   "outputs": [
    {
     "name": "stdout",
     "output_type": "stream",
     "text": [
      "(0.5, 0.76907605279698299)\n",
      "(0.75, 0.77196731615336267)\n",
      "(1.0, 0.77259585166561906)\n",
      "(1.25, 0.77347580138277816)\n",
      "(1.5, 0.77385292269013195)\n",
      "(2.0, 0.77297297297297296)\n"
     ]
    }
   ],
   "source": [
    "learning_curve = []\n",
    "for c in [0.5, 0.75, 1.0, 1.25, 1.5, 2.0]:\n",
    "    clf = LogisticRegression(C=c)\n",
    "    clf.fit(X_train, y_train)\n",
    "    learning_curve.append((c, clf.score(X_test, y_test)))\n",
    "    print(learning_curve[-1])"
   ]
  },
  {
   "cell_type": "code",
   "execution_count": 66,
   "metadata": {
    "collapsed": false
   },
   "outputs": [
    {
     "data": {
      "text/plain": [
       "<matplotlib.text.Text at 0x121463c50>"
      ]
     },
     "execution_count": 66,
     "metadata": {},
     "output_type": "execute_result"
    },
    {
     "data": {
      "image/png": "[encoded data removed]",
      "text/plain": [
       "<matplotlib.figure.Figure at 0x121586190>"
      ]
     },
     "metadata": {},
     "output_type": "display_data"
    }
   ],
   "source": [
    "plt.plot(np.array(learning_curve)[:, 0],\n",
    "         np.array(learning_curve)[:, 1])\n",
    "plt.xlabel(\"C parameter\")\n",
    "plt.ylabel(\"score\")"
   ]
  },
  {
   "cell_type": "code",
   "execution_count": 67,
   "metadata": {
    "collapsed": false
   },
   "outputs": [
    {
     "data": {
      "text/plain": [
       "1.5"
      ]
     },
     "execution_count": 67,
     "metadata": {},
     "output_type": "execute_result"
    }
   ],
   "source": [
    "np.array(learning_curve)[:, 0][np.array(learning_curve)[:, 1].argmax()]"
   ]
  },
  {
   "cell_type": "code",
   "execution_count": 68,
   "metadata": {
    "collapsed": false
   },
   "outputs": [],
   "source": [
    "clf = LogisticRegression(C=1.5)\n",
    "clf.fit(X, y)\n",
    "y_weighted = clf.predict(X_weighted) # Note: not so good as expected :("
   ]
  },
  {
   "cell_type": "code",
   "execution_count": 69,
   "metadata": {
    "collapsed": false
   },
   "outputs": [
    {
     "data": {
      "text/plain": [
       "array([[ 964,   16,    1,   12,    0,   11,  129,    9,    2,    1,    0,\n",
       "           0,    0,    0,   22,    1,    0,    0,    4,    3],\n",
       "       [   3, 3855,    5,   15,    5,   12,  116,   73,   10,   16,    3,\n",
       "           0,  106,    3,   76,    1,    9,    0,    5,    7],\n",
       "       [   0,   27,  600,    6,    0,    4,   17,   17,   45,    1,   11,\n",
       "           4,    2,    5,   12,    1,    1,    1,    0,    1],\n",
       "       [   6,   17,    1, 2856,    2,    0,   27,   33,    3,    1,   13,\n",
       "           1,    1,    0,   13,    5,    0,    2,   22,    0],\n",
       "       [   0,   24,    1,   12,  447,    1,   10,   13,    1,    4,    0,\n",
       "           0,    1,    2,    5,    1,    1,    0,    1,    2],\n",
       "       [  11,   36,    4,    5,    0,  630,  137,   78,    0,    3,    1,\n",
       "           0,    7,    1,   64,    2,    2,    0,    6,    2],\n",
       "       [  42,   88,    1,    9,    0,   22, 7414,   34,    2,    8,    2,\n",
       "           0,   11,    1,  175,    4,    8,    1,    6,   10],\n",
       "       [   3,   91,    6,   10,    3,   20,   70, 6171,    8,    3,    2,\n",
       "           0,    7,    5,   32,    4,    0,    1,    1,    1],\n",
       "       [   0,   19,   13,    8,    0,    0,   30,   21, 2470,    2,   29,\n",
       "          16,    4,    1,   11,   28,    0,   20,    1,    0],\n",
       "       [   1,  104,    1,   11,    1,    1,   30,   10,    0,  549,    1,\n",
       "           0,    2,    0,   64,    1,   22,    1,    0,    5],\n",
       "       [   2,    9,    7,   30,    1,    0,   11,   14,   55,    0, 1355,\n",
       "          41,    0,    3,    2,    5,    0,    4,    0,    0],\n",
       "       [   1,    4,    9,    3,    0,    1,   13,    8,   67,    2,   78,\n",
       "         618,    0,    3,    8,    5,    0,    5,    0,    0],\n",
       "       [   0,  139,    0,    1,    0,    6,   56,   23,    2,    4,    0,\n",
       "           0, 1278,    1,   34,    0,    0,    0,    0,    2],\n",
       "       [   0,   22,    2,    7,    1,    6,   17,   45,    1,    1,    1,\n",
       "           0,    1,  356,    6,    0,    1,    0,    0,    0],\n",
       "       [   7,  114,    4,   13,    0,   20,  365,   20,    4,   14,    1,\n",
       "           1,   12,    0, 2046,    3,    7,    0,    6,    9],\n",
       "       [   1,   19,    6,   93,    1,    0,   20,    8,   87,    0,    5,\n",
       "           3,    3,    1,    8, 1156,    1,    9,    0,    2],\n",
       "       [   3,   73,    0,    6,    2,    1,   26,    6,    2,   24,    1,\n",
       "           0,    0,    0,   51,    0,  468,    0,    1,    3],\n",
       "       [   0,    8,    1,    0,    0,    1,    6,    7,   45,    0,    2,\n",
       "           2,    0,    0,    5,   19,    0,  734,    0,    0],\n",
       "       [   9,    6,    0,   30,    2,    6,   30,   11,    0,    0,    0,\n",
       "           0,    0,    0,    4,    2,    0,    0,  721,    0],\n",
       "       [   2,   30,    2,    7,    1,    2,   42,    9,    1,    4,    1,\n",
       "           0,    2,    0,   38,    2,    4,    0,    1,  341]])"
      ]
     },
     "execution_count": 69,
     "metadata": {},
     "output_type": "execute_result"
    }
   ],
   "source": [
    "confusion_matrix(y, clf.predict(X))"
   ]
  },
  {
   "cell_type": "code",
   "execution_count": 70,
   "metadata": {
    "collapsed": false
   },
   "outputs": [
    {
     "data": {
      "image/png": "[encoded data removed]",
      "text/plain": [
       "<matplotlib.figure.Figure at 0x122d56ed0>"
      ]
     },
     "metadata": {},
     "output_type": "display_data"
    }
   ],
   "source": [
    "plt.figure(figsize=(10, 10))\n",
    "cm = confusion_matrix(y, clf.predict(X))\n",
    "cm_normalized = cm.astype('float') / cm.sum(axis=1)[:, np.newaxis]\n",
    "plt.imshow(cm_normalized, interpolation='nearest', cmap=plt.cm.binary)\n",
    "plt.title(\"confusion matrix\")\n",
    "plt.colorbar()\n",
    "tick_marks = np.arange(len(cuisines))\n",
    "plt.xticks(tick_marks, cuisines, rotation=45)\n",
    "plt.yticks(tick_marks, cuisines)\n",
    "plt.tight_layout()\n",
    "plt.ylabel('True label')\n",
    "plt.xlabel('Predicted label')\n",
    "plt.savefig('confusion_matrix.png', dpi=200)"
   ]
  },
  {
   "cell_type": "code",
   "execution_count": 74,
   "metadata": {
    "collapsed": false
   },
   "outputs": [
    {
     "data": {
      "text/plain": [
       "matrix([[0, 0, 0, 0, 0, 0, 0, 0, 1, 0, 0, 0, 0, 1, 0, 0],\n",
       "        [0, 1, 0, 0, 0, 0, 0, 0, 0, 1, 0, 0, 0, 0, 0, 0],\n",
       "        [0, 0, 0, 0, 0, 0, 0, 1, 0, 0, 0, 0, 0, 0, 0, 1],\n",
       "        [0, 0, 0, 0, 0, 0, 1, 0, 0, 0, 0, 0, 0, 0, 0, 0],\n",
       "        [0, 0, 0, 0, 0, 0, 0, 0, 0, 0, 0, 1, 0, 0, 0, 0],\n",
       "        [0, 0, 0, 0, 0, 0, 0, 0, 0, 0, 1, 0, 1, 0, 0, 0],\n",
       "        [0, 0, 0, 0, 0, 0, 0, 0, 0, 0, 0, 0, 0, 0, 1, 0],\n",
       "        [1, 0, 0, 0, 0, 1, 0, 0, 0, 0, 0, 0, 0, 0, 0, 0],\n",
       "        [0, 0, 1, 1, 1, 0, 0, 0, 0, 0, 0, 0, 0, 0, 0, 0]])"
      ]
     },
     "execution_count": 74,
     "metadata": {},
     "output_type": "execute_result"
    }
   ],
   "source": [
    "#bag of ingredients\n",
    "train_df = pd.read_json('train.json')\n",
    "ingredients_bag = train_df.ingredients[0]\n",
    "cv = CountVectorizer()\n",
    "X = cv.fit_transform(ingredients_bag)\n",
    "X.todense()"
   ]
  },
  {
   "cell_type": "code",
   "execution_count": 77,
   "metadata": {
    "collapsed": false
   },
   "outputs": [
    {
     "data": {
      "text/plain": [
       "matrix([[0, 0, 0, 0, 0, 0, 0, 1, 0],\n",
       "        [1, 0, 0, 0, 0, 0, 0, 0, 0],\n",
       "        [0, 0, 0, 0, 1, 0, 0, 0, 0],\n",
       "        [0, 0, 0, 1, 0, 0, 0, 0, 0],\n",
       "        [0, 0, 0, 0, 0, 1, 0, 0, 0],\n",
       "        [0, 0, 0, 0, 0, 0, 1, 0, 0],\n",
       "        [0, 0, 0, 0, 0, 0, 0, 0, 1],\n",
       "        [0, 0, 1, 0, 0, 0, 0, 0, 0],\n",
       "        [0, 1, 0, 0, 0, 0, 0, 0, 0]])"
      ]
     },
     "execution_count": 77,
     "metadata": {},
     "output_type": "execute_result"
    }
   ],
   "source": [
    "#don't split each element\n",
    "cv2 = CountVectorizer(token_pattern=r\"(?u)\\b\\w[\\w\\s]+\\b\")\n",
    "X2 = cv2.fit_transform(ingredients_bag)\n",
    "X2.todense()"
   ]
  },
  {
   "cell_type": "code",
   "execution_count": 81,
   "metadata": {
    "collapsed": false
   },
   "outputs": [
    {
     "data": {
      "text/plain": [
       "(39774, 6815)"
      ]
     },
     "execution_count": 81,
     "metadata": {},
     "output_type": "execute_result"
    }
   ],
   "source": [
    "cv = CountVectorizer(token_pattern=r\"(?u)\\b\\w[\\w\\s]+\\b\")\n",
    "X = cv.fit_transform([\";\".join(z) for z in train_df.ingredients])\n",
    "X.shape"
   ]
  },
  {
   "cell_type": "code",
   "execution_count": 83,
   "metadata": {
    "collapsed": true
   },
   "outputs": [],
   "source": [
    "#encode the labels\n",
    "enc = LabelEncoder()\n",
    "y = enc.fit_transform(train_df.cuisine)"
   ]
  },
  {
   "cell_type": "code",
   "execution_count": 84,
   "metadata": {
    "collapsed": true
   },
   "outputs": [],
   "source": [
    "X_train, X_test, y_train, y_test = train_test_split(X, y, test_size=0.2)"
   ]
  },
  {
   "cell_type": "code",
   "execution_count": 87,
   "metadata": {
    "collapsed": false
   },
   "outputs": [
    {
     "name": "stdout",
     "output_type": "stream",
     "text": [
      "CPU times: user 29 s, sys: 643 ms, total: 29.7 s\n",
      "Wall time: 7.53 s\n"
     ]
    }
   ],
   "source": [
    "%%time\n",
    "logistic = LogisticRegression()\n",
    "logistic.fit(X_train, y_train)"
   ]
  },
  {
   "cell_type": "code",
   "execution_count": 88,
   "metadata": {
    "collapsed": false
   },
   "outputs": [
    {
     "data": {
      "text/plain": [
       "0.77938403519798871"
      ]
     },
     "execution_count": 88,
     "metadata": {},
     "output_type": "execute_result"
    }
   ],
   "source": [
    "logistic.score(X_test, y_test)"
   ]
  },
  {
   "cell_type": "code",
   "execution_count": 90,
   "metadata": {
    "collapsed": false
   },
   "outputs": [
    {
     "data": {
      "text/plain": [
       "(39774, 3005)"
      ]
     },
     "execution_count": 90,
     "metadata": {},
     "output_type": "execute_result"
    }
   ],
   "source": [
    "cv = CountVectorizer(strip_accents='ascii')\n",
    "X = cv.fit_transform([\" \".join(z) for z in train_df.ingredients])\n",
    "X.shape"
   ]
  },
  {
   "cell_type": "code",
   "execution_count": 91,
   "metadata": {
    "collapsed": true
   },
   "outputs": [],
   "source": [
    "X_train, X_test, y_train, y_test = train_test_split(X, y, test_size=0.2)"
   ]
  },
  {
   "cell_type": "code",
   "execution_count": 92,
   "metadata": {
    "collapsed": false
   },
   "outputs": [
    {
     "name": "stdout",
     "output_type": "stream",
     "text": [
      "CPU times: user 58 s, sys: 1.35 s, total: 59.3 s\n",
      "Wall time: 15.1 s\n"
     ]
    }
   ],
   "source": [
    "%%time\n",
    "logistic = LogisticRegression()\n",
    "logistic.fit(X_train, y_train)"
   ]
  },
  {
   "cell_type": "code",
   "execution_count": 93,
   "metadata": {
    "collapsed": false
   },
   "outputs": [
    {
     "data": {
      "text/plain": [
       "0.78642363293526085"
      ]
     },
     "execution_count": 93,
     "metadata": {},
     "output_type": "execute_result"
    }
   ],
   "source": [
    "logistic.score(X_test, y_test)"
   ]
  },
  {
   "cell_type": "code",
   "execution_count": 94,
   "metadata": {
    "collapsed": false
   },
   "outputs": [
    {
     "data": {
      "text/plain": [
       "(39774, 81024)"
      ]
     },
     "execution_count": 94,
     "metadata": {},
     "output_type": "execute_result"
    }
   ],
   "source": [
    "cv = CountVectorizer(strip_accents='ascii', ngram_range=(1, 2))\n",
    "X = cv.fit_transform([\" \".join(z) for z in train_df.ingredients])\n",
    "X.shape"
   ]
  },
  {
   "cell_type": "code",
   "execution_count": 97,
   "metadata": {
    "collapsed": false
   },
   "outputs": [
    {
     "data": {
      "image/png": "[encoded data removed]",
      "text/plain": [
       "<matplotlib.figure.Figure at 0x1223bcf90>"
      ]
     },
     "metadata": {},
     "output_type": "display_data"
    }
   ],
   "source": [
    "counts = np.array(X.sum(axis=0))[0, :].copy()\n",
    "counts.sort()\n",
    "plt.plot(np.log10(counts))\n",
    "plt.grid(True)"
   ]
  },
  {
   "cell_type": "code",
   "execution_count": 98,
   "metadata": {
    "collapsed": false
   },
   "outputs": [
    {
     "data": {
      "text/plain": [
       "(39774, 81010)"
      ]
     },
     "execution_count": 98,
     "metadata": {},
     "output_type": "execute_result"
    }
   ],
   "source": [
    "X = X[:, np.log10(counts) < 4] # 4 features\n",
    "X.shape"
   ]
  },
  {
   "cell_type": "code",
   "execution_count": 99,
   "metadata": {
    "collapsed": true
   },
   "outputs": [],
   "source": [
    "X_train, X_test, y_train, y_test = train_test_split(X, y, test_size=0.2)"
   ]
  },
  {
   "cell_type": "code",
   "execution_count": 100,
   "metadata": {
    "collapsed": false
   },
   "outputs": [
    {
     "name": "stdout",
     "output_type": "stream",
     "text": [
      "CPU times: user 1min 56s, sys: 2.69 s, total: 1min 59s\n",
      "Wall time: 30.4 s\n"
     ]
    }
   ],
   "source": [
    "%%time\n",
    "logistic = LogisticRegression()\n",
    "logistic.fit(X_train, y_train)"
   ]
  },
  {
   "cell_type": "code",
   "execution_count": 101,
   "metadata": {
    "collapsed": false
   },
   "outputs": [
    {
     "data": {
      "text/plain": [
       "0.7801382778126964"
      ]
     },
     "execution_count": 101,
     "metadata": {},
     "output_type": "execute_result"
    }
   ],
   "source": [
    "logistic.score(X_test, y_test)"
   ]
  },
  {
   "cell_type": "code",
   "execution_count": null,
   "metadata": {
    "collapsed": true
   },
   "outputs": [],
   "source": []
  }
 ],
 "metadata": {
  "kernelspec": {
   "display_name": "Python 2",
   "language": "python",
   "name": "python2"
  },
  "language_info": {
   "codemirror_mode": {
    "name": "ipython",
    "version": 2
   },
   "file_extension": ".py",
   "mimetype": "text/x-python",
   "name": "python",
   "nbconvert_exporter": "python",
   "pygments_lexer": "ipython2",
   "version": "2.7.11"
  }
 },
 "nbformat": 4,
 "nbformat_minor": 0
}
