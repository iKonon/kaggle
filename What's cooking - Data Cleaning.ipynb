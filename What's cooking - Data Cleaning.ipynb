{
 "cells": [
  {
   "cell_type": "markdown",
   "metadata": {
    "collapsed": true
   },
   "source": [
    "# Data Cleaning"
   ]
  },
  {
   "cell_type": "code",
   "execution_count": 1,
   "metadata": {
    "collapsed": true
   },
   "outputs": [],
   "source": [
    "import pandas as pd\n",
    "import numpy as np"
   ]
  },
  {
   "cell_type": "code",
   "execution_count": 2,
   "metadata": {
    "collapsed": false
   },
   "outputs": [],
   "source": [
    "train_df = pd.read_json(\"train.json\")\n",
    "train_df['ingredients_clean'] = [', '.join(item).strip() for item in train_df['ingredients']]  "
   ]
  },
  {
   "cell_type": "code",
   "execution_count": 3,
   "metadata": {
    "collapsed": false
   },
   "outputs": [
    {
     "data": {
      "text/html": [
       "<div>\n",
       "<table border=\"1\" class=\"dataframe\">\n",
       "  <thead>\n",
       "    <tr style=\"text-align: right;\">\n",
       "      <th></th>\n",
       "      <th>cuisine</th>\n",
       "      <th>id</th>\n",
       "      <th>ingredients</th>\n",
       "      <th>ingredients_clean</th>\n",
       "    </tr>\n",
       "  </thead>\n",
       "  <tbody>\n",
       "    <tr>\n",
       "      <th>0</th>\n",
       "      <td>greek</td>\n",
       "      <td>10259</td>\n",
       "      <td>[romaine lettuce, black olives, grape tomatoes...</td>\n",
       "      <td>romaine lettuce, black olives, grape tomatoes,...</td>\n",
       "    </tr>\n",
       "    <tr>\n",
       "      <th>1</th>\n",
       "      <td>southern_us</td>\n",
       "      <td>25693</td>\n",
       "      <td>[plain flour, ground pepper, salt, tomatoes, g...</td>\n",
       "      <td>plain flour, ground pepper, salt, tomatoes, gr...</td>\n",
       "    </tr>\n",
       "    <tr>\n",
       "      <th>2</th>\n",
       "      <td>filipino</td>\n",
       "      <td>20130</td>\n",
       "      <td>[eggs, pepper, salt, mayonaise, cooking oil, g...</td>\n",
       "      <td>eggs, pepper, salt, mayonaise, cooking oil, gr...</td>\n",
       "    </tr>\n",
       "    <tr>\n",
       "      <th>3</th>\n",
       "      <td>indian</td>\n",
       "      <td>22213</td>\n",
       "      <td>[water, vegetable oil, wheat, salt]</td>\n",
       "      <td>water, vegetable oil, wheat, salt</td>\n",
       "    </tr>\n",
       "    <tr>\n",
       "      <th>4</th>\n",
       "      <td>indian</td>\n",
       "      <td>13162</td>\n",
       "      <td>[black pepper, shallots, cornflour, cayenne pe...</td>\n",
       "      <td>black pepper, shallots, cornflour, cayenne pep...</td>\n",
       "    </tr>\n",
       "  </tbody>\n",
       "</table>\n",
       "</div>"
      ],
      "text/plain": [
       "       cuisine     id                                        ingredients  \\\n",
       "0        greek  10259  [romaine lettuce, black olives, grape tomatoes...   \n",
       "1  southern_us  25693  [plain flour, ground pepper, salt, tomatoes, g...   \n",
       "2     filipino  20130  [eggs, pepper, salt, mayonaise, cooking oil, g...   \n",
       "3       indian  22213                [water, vegetable oil, wheat, salt]   \n",
       "4       indian  13162  [black pepper, shallots, cornflour, cayenne pe...   \n",
       "\n",
       "                                   ingredients_clean  \n",
       "0  romaine lettuce, black olives, grape tomatoes,...  \n",
       "1  plain flour, ground pepper, salt, tomatoes, gr...  \n",
       "2  eggs, pepper, salt, mayonaise, cooking oil, gr...  \n",
       "3                  water, vegetable oil, wheat, salt  \n",
       "4  black pepper, shallots, cornflour, cayenne pep...  "
      ]
     },
     "execution_count": 3,
     "metadata": {},
     "output_type": "execute_result"
    }
   ],
   "source": [
    "train_df[:5]"
   ]
  },
  {
   "cell_type": "code",
   "execution_count": 4,
   "metadata": {
    "collapsed": true
   },
   "outputs": [],
   "source": [
    "import unicodedata\n",
    "import re\n",
    "\n",
    "def remove_accents(input_str):\n",
    "    nfkd_form = unicodedata.normalize('NFKD', input_str)\n",
    "    only_ascii = nfkd_form.encode('ASCII', 'ignore')\n",
    "    return only_ascii"
   ]
  },
  {
   "cell_type": "code",
   "execution_count": 5,
   "metadata": {
    "collapsed": false
   },
   "outputs": [
    {
     "data": {
      "text/html": [
       "<div>\n",
       "<table border=\"1\" class=\"dataframe\">\n",
       "  <thead>\n",
       "    <tr style=\"text-align: right;\">\n",
       "      <th></th>\n",
       "      <th>cuisine</th>\n",
       "      <th>id</th>\n",
       "      <th>ingredients</th>\n",
       "      <th>ingredients_clean</th>\n",
       "    </tr>\n",
       "  </thead>\n",
       "  <tbody>\n",
       "    <tr>\n",
       "      <th>280</th>\n",
       "      <td>mexican</td>\n",
       "      <td>4114</td>\n",
       "      <td>[tostada shells, shredded lettuce, avocado, ja...</td>\n",
       "      <td>tostada shells, shredded lettuce, avocado, jal...</td>\n",
       "    </tr>\n",
       "    <tr>\n",
       "      <th>281</th>\n",
       "      <td>chinese</td>\n",
       "      <td>3605</td>\n",
       "      <td>[honey, ginger, whiskey, chicken wings, green ...</td>\n",
       "      <td>honey, ginger, whiskey, chicken wings, green o...</td>\n",
       "    </tr>\n",
       "    <tr>\n",
       "      <th>282</th>\n",
       "      <td>cajun_creole</td>\n",
       "      <td>41363</td>\n",
       "      <td>[chicken stock, kosher salt, unsalted butter, ...</td>\n",
       "      <td>chicken stock, kosher salt, unsalted butter, s...</td>\n",
       "    </tr>\n",
       "    <tr>\n",
       "      <th>283</th>\n",
       "      <td>italian</td>\n",
       "      <td>23437</td>\n",
       "      <td>[Bertolli® Classico Olive Oil, boneless skinle...</td>\n",
       "      <td>bertolli® classico olive oil, boneless skinles...</td>\n",
       "    </tr>\n",
       "    <tr>\n",
       "      <th>284</th>\n",
       "      <td>mexican</td>\n",
       "      <td>9291</td>\n",
       "      <td>[lime wedges, powdered sugar, orange liqueur, ...</td>\n",
       "      <td>lime wedges, powdered sugar, orange liqueur, t...</td>\n",
       "    </tr>\n",
       "    <tr>\n",
       "      <th>285</th>\n",
       "      <td>italian</td>\n",
       "      <td>45423</td>\n",
       "      <td>[(    oz.) tomato sauce, ground veal, sliced m...</td>\n",
       "      <td>(    oz.) tomato sauce, ground veal, sliced mu...</td>\n",
       "    </tr>\n",
       "  </tbody>\n",
       "</table>\n",
       "</div>"
      ],
      "text/plain": [
       "          cuisine     id                                        ingredients  \\\n",
       "280       mexican   4114  [tostada shells, shredded lettuce, avocado, ja...   \n",
       "281       chinese   3605  [honey, ginger, whiskey, chicken wings, green ...   \n",
       "282  cajun_creole  41363  [chicken stock, kosher salt, unsalted butter, ...   \n",
       "283       italian  23437  [Bertolli® Classico Olive Oil, boneless skinle...   \n",
       "284       mexican   9291  [lime wedges, powdered sugar, orange liqueur, ...   \n",
       "285       italian  45423  [(    oz.) tomato sauce, ground veal, sliced m...   \n",
       "\n",
       "                                     ingredients_clean  \n",
       "280  tostada shells, shredded lettuce, avocado, jal...  \n",
       "281  honey, ginger, whiskey, chicken wings, green o...  \n",
       "282  chicken stock, kosher salt, unsalted butter, s...  \n",
       "283  bertolli® classico olive oil, boneless skinles...  \n",
       "284  lime wedges, powdered sugar, orange liqueur, t...  \n",
       "285  (    oz.) tomato sauce, ground veal, sliced mu...  "
      ]
     },
     "execution_count": 5,
     "metadata": {},
     "output_type": "execute_result"
    }
   ],
   "source": [
    "train_df['ingredients_clean'] = [', '.join([item.lower() for item in line]).strip() for line in train_df['ingredients']]  \n",
    "train_df[280:286]"
   ]
  },
  {
   "cell_type": "code",
   "execution_count": 6,
   "metadata": {
    "collapsed": false
   },
   "outputs": [
    {
     "data": {
      "text/html": [
       "<div>\n",
       "<table border=\"1\" class=\"dataframe\">\n",
       "  <thead>\n",
       "    <tr style=\"text-align: right;\">\n",
       "      <th></th>\n",
       "      <th>cuisine</th>\n",
       "      <th>id</th>\n",
       "      <th>ingredients</th>\n",
       "      <th>ingredients_clean</th>\n",
       "    </tr>\n",
       "  </thead>\n",
       "  <tbody>\n",
       "    <tr>\n",
       "      <th>280</th>\n",
       "      <td>mexican</td>\n",
       "      <td>4114</td>\n",
       "      <td>[tostada shells, shredded lettuce, avocado, ja...</td>\n",
       "      <td>[tostada shells, shredded lettuce, avocado, ja...</td>\n",
       "    </tr>\n",
       "    <tr>\n",
       "      <th>281</th>\n",
       "      <td>chinese</td>\n",
       "      <td>3605</td>\n",
       "      <td>[honey, ginger, whiskey, chicken wings, green ...</td>\n",
       "      <td>[honey, ginger, whiskey, chicken wings, green ...</td>\n",
       "    </tr>\n",
       "    <tr>\n",
       "      <th>282</th>\n",
       "      <td>cajun_creole</td>\n",
       "      <td>41363</td>\n",
       "      <td>[chicken stock, kosher salt, unsalted butter, ...</td>\n",
       "      <td>[chicken stock, kosher salt, unsalted butter, ...</td>\n",
       "    </tr>\n",
       "    <tr>\n",
       "      <th>283</th>\n",
       "      <td>italian</td>\n",
       "      <td>23437</td>\n",
       "      <td>[Bertolli® Classico Olive Oil, boneless skinle...</td>\n",
       "      <td>[Bertolli Classico Olive Oil, boneless skinles...</td>\n",
       "    </tr>\n",
       "    <tr>\n",
       "      <th>284</th>\n",
       "      <td>mexican</td>\n",
       "      <td>9291</td>\n",
       "      <td>[lime wedges, powdered sugar, orange liqueur, ...</td>\n",
       "      <td>[lime wedges, powdered sugar, orange liqueur, ...</td>\n",
       "    </tr>\n",
       "    <tr>\n",
       "      <th>285</th>\n",
       "      <td>italian</td>\n",
       "      <td>45423</td>\n",
       "      <td>[(    oz.) tomato sauce, ground veal, sliced m...</td>\n",
       "      <td>[(    oz.) tomato sauce, ground veal, sliced m...</td>\n",
       "    </tr>\n",
       "  </tbody>\n",
       "</table>\n",
       "</div>"
      ],
      "text/plain": [
       "          cuisine     id                                        ingredients  \\\n",
       "280       mexican   4114  [tostada shells, shredded lettuce, avocado, ja...   \n",
       "281       chinese   3605  [honey, ginger, whiskey, chicken wings, green ...   \n",
       "282  cajun_creole  41363  [chicken stock, kosher salt, unsalted butter, ...   \n",
       "283       italian  23437  [Bertolli® Classico Olive Oil, boneless skinle...   \n",
       "284       mexican   9291  [lime wedges, powdered sugar, orange liqueur, ...   \n",
       "285       italian  45423  [(    oz.) tomato sauce, ground veal, sliced m...   \n",
       "\n",
       "                                     ingredients_clean  \n",
       "280  [tostada shells, shredded lettuce, avocado, ja...  \n",
       "281  [honey, ginger, whiskey, chicken wings, green ...  \n",
       "282  [chicken stock, kosher salt, unsalted butter, ...  \n",
       "283  [Bertolli Classico Olive Oil, boneless skinles...  \n",
       "284  [lime wedges, powdered sugar, orange liqueur, ...  \n",
       "285  [(    oz.) tomato sauce, ground veal, sliced m...  "
      ]
     },
     "execution_count": 6,
     "metadata": {},
     "output_type": "execute_result"
    }
   ],
   "source": [
    "train_df['ingredients_clean'] = [[remove_accents(item) for item in line] for line in train_df['ingredients']]  \n",
    "train_df[280:286]"
   ]
  },
  {
   "cell_type": "code",
   "execution_count": 7,
   "metadata": {
    "collapsed": false
   },
   "outputs": [
    {
     "data": {
      "text/html": [
       "<div>\n",
       "<table border=\"1\" class=\"dataframe\">\n",
       "  <thead>\n",
       "    <tr style=\"text-align: right;\">\n",
       "      <th></th>\n",
       "      <th>cuisine</th>\n",
       "      <th>id</th>\n",
       "      <th>ingredients</th>\n",
       "      <th>ingredients_clean</th>\n",
       "    </tr>\n",
       "  </thead>\n",
       "  <tbody>\n",
       "    <tr>\n",
       "      <th>280</th>\n",
       "      <td>mexican</td>\n",
       "      <td>4114</td>\n",
       "      <td>[tostada shells, shredded lettuce, avocado, ja...</td>\n",
       "      <td>[tostada shells, shredded lettuce, avocado, ja...</td>\n",
       "    </tr>\n",
       "    <tr>\n",
       "      <th>281</th>\n",
       "      <td>chinese</td>\n",
       "      <td>3605</td>\n",
       "      <td>[honey, ginger, whiskey, chicken wings, green ...</td>\n",
       "      <td>[honey, ginger, whiskey, chicken wings, green ...</td>\n",
       "    </tr>\n",
       "    <tr>\n",
       "      <th>282</th>\n",
       "      <td>cajun_creole</td>\n",
       "      <td>41363</td>\n",
       "      <td>[chicken stock, kosher salt, unsalted butter, ...</td>\n",
       "      <td>[chicken stock, kosher salt, unsalted butter, ...</td>\n",
       "    </tr>\n",
       "    <tr>\n",
       "      <th>283</th>\n",
       "      <td>italian</td>\n",
       "      <td>23437</td>\n",
       "      <td>[Bertolli® Classico Olive Oil, boneless skinle...</td>\n",
       "      <td>[Bertolli Classico Olive Oil, boneless skinles...</td>\n",
       "    </tr>\n",
       "    <tr>\n",
       "      <th>284</th>\n",
       "      <td>mexican</td>\n",
       "      <td>9291</td>\n",
       "      <td>[lime wedges, powdered sugar, orange liqueur, ...</td>\n",
       "      <td>[lime wedges, powdered sugar, orange liqueur, ...</td>\n",
       "    </tr>\n",
       "    <tr>\n",
       "      <th>285</th>\n",
       "      <td>italian</td>\n",
       "      <td>45423</td>\n",
       "      <td>[(    oz.) tomato sauce, ground veal, sliced m...</td>\n",
       "      <td>[tomato sauce, ground veal, sliced mushrooms, ...</td>\n",
       "    </tr>\n",
       "  </tbody>\n",
       "</table>\n",
       "</div>"
      ],
      "text/plain": [
       "          cuisine     id                                        ingredients  \\\n",
       "280       mexican   4114  [tostada shells, shredded lettuce, avocado, ja...   \n",
       "281       chinese   3605  [honey, ginger, whiskey, chicken wings, green ...   \n",
       "282  cajun_creole  41363  [chicken stock, kosher salt, unsalted butter, ...   \n",
       "283       italian  23437  [Bertolli® Classico Olive Oil, boneless skinle...   \n",
       "284       mexican   9291  [lime wedges, powdered sugar, orange liqueur, ...   \n",
       "285       italian  45423  [(    oz.) tomato sauce, ground veal, sliced m...   \n",
       "\n",
       "                                     ingredients_clean  \n",
       "280  [tostada shells, shredded lettuce, avocado, ja...  \n",
       "281  [honey, ginger, whiskey, chicken wings, green ...  \n",
       "282  [chicken stock, kosher salt, unsalted butter, ...  \n",
       "283  [Bertolli Classico Olive Oil, boneless skinles...  \n",
       "284  [lime wedges, powdered sugar, orange liqueur, ...  \n",
       "285  [tomato sauce, ground veal, sliced mushrooms, ...  "
      ]
     },
     "execution_count": 7,
     "metadata": {},
     "output_type": "execute_result"
    }
   ],
   "source": [
    "train_df['ingredients_clean'] = [[re.sub(r'\\(.*\\)\\s', '', item).strip() for item in line] for line in train_df['ingredients_clean']]  \n",
    "train_df[280:286]"
   ]
  },
  {
   "cell_type": "code",
   "execution_count": 8,
   "metadata": {
    "collapsed": false
   },
   "outputs": [
    {
     "data": {
      "text/html": [
       "<div>\n",
       "<table border=\"1\" class=\"dataframe\">\n",
       "  <thead>\n",
       "    <tr style=\"text-align: right;\">\n",
       "      <th></th>\n",
       "      <th>cuisine</th>\n",
       "      <th>id</th>\n",
       "      <th>ingredients</th>\n",
       "      <th>ingredients_clean</th>\n",
       "    </tr>\n",
       "  </thead>\n",
       "  <tbody>\n",
       "    <tr>\n",
       "      <th>3275</th>\n",
       "      <td>chinese</td>\n",
       "      <td>44886</td>\n",
       "      <td>[cream cheese, white sugar, garlic powder, sou...</td>\n",
       "      <td>[cream cheese, white sugar, garlic powder, sou...</td>\n",
       "    </tr>\n",
       "    <tr>\n",
       "      <th>3276</th>\n",
       "      <td>southern_us</td>\n",
       "      <td>40197</td>\n",
       "      <td>[cornmeal, green tomatoes, sugar, vegetable oil]</td>\n",
       "      <td>[cornmeal, green tomatoes, sugar, vegetable oil]</td>\n",
       "    </tr>\n",
       "    <tr>\n",
       "      <th>3277</th>\n",
       "      <td>thai</td>\n",
       "      <td>7998</td>\n",
       "      <td>[fish sauce, lemongrass, salmon fillets, Thai ...</td>\n",
       "      <td>[fish sauce, lemongrass, salmon fillets, Thai ...</td>\n",
       "    </tr>\n",
       "    <tr>\n",
       "      <th>3278</th>\n",
       "      <td>italian</td>\n",
       "      <td>21305</td>\n",
       "      <td>[I Can't Believe It's Not Butter!® Spread, lin...</td>\n",
       "      <td>[I Cant Believe Its Not Butter Spread, linguin...</td>\n",
       "    </tr>\n",
       "    <tr>\n",
       "      <th>3279</th>\n",
       "      <td>mexican</td>\n",
       "      <td>48611</td>\n",
       "      <td>[minced onion, fat skimmed chicken broth, dice...</td>\n",
       "      <td>[minced onion, fat skimmed chicken broth, dice...</td>\n",
       "    </tr>\n",
       "    <tr>\n",
       "      <th>3280</th>\n",
       "      <td>mexican</td>\n",
       "      <td>4275</td>\n",
       "      <td>[fresh cilantro, chicken breasts, cream cheese...</td>\n",
       "      <td>[fresh cilantro, chicken breasts, cream cheese...</td>\n",
       "    </tr>\n",
       "  </tbody>\n",
       "</table>\n",
       "</div>"
      ],
      "text/plain": [
       "          cuisine     id                                        ingredients  \\\n",
       "3275      chinese  44886  [cream cheese, white sugar, garlic powder, sou...   \n",
       "3276  southern_us  40197   [cornmeal, green tomatoes, sugar, vegetable oil]   \n",
       "3277         thai   7998  [fish sauce, lemongrass, salmon fillets, Thai ...   \n",
       "3278      italian  21305  [I Can't Believe It's Not Butter!® Spread, lin...   \n",
       "3279      mexican  48611  [minced onion, fat skimmed chicken broth, dice...   \n",
       "3280      mexican   4275  [fresh cilantro, chicken breasts, cream cheese...   \n",
       "\n",
       "                                      ingredients_clean  \n",
       "3275  [cream cheese, white sugar, garlic powder, sou...  \n",
       "3276   [cornmeal, green tomatoes, sugar, vegetable oil]  \n",
       "3277  [fish sauce, lemongrass, salmon fillets, Thai ...  \n",
       "3278  [I Cant Believe Its Not Butter Spread, linguin...  \n",
       "3279  [minced onion, fat skimmed chicken broth, dice...  \n",
       "3280  [fresh cilantro, chicken breasts, cream cheese...  "
      ]
     },
     "execution_count": 8,
     "metadata": {},
     "output_type": "execute_result"
    }
   ],
   "source": [
    "train_df['ingredients_clean'] = [[re.sub(r'[!@#$%^&*.,\\'\\\"]', '', item).strip() for item in line] for line in train_df['ingredients_clean']] \n",
    "train_df[3275:3281]"
   ]
  },
  {
   "cell_type": "code",
   "execution_count": 9,
   "metadata": {
    "collapsed": false
   },
   "outputs": [
    {
     "data": {
      "text/html": [
       "<div>\n",
       "<table border=\"1\" class=\"dataframe\">\n",
       "  <thead>\n",
       "    <tr style=\"text-align: right;\">\n",
       "      <th></th>\n",
       "      <th>cuisine</th>\n",
       "      <th>id</th>\n",
       "      <th>ingredients</th>\n",
       "      <th>ingredients_clean</th>\n",
       "    </tr>\n",
       "  </thead>\n",
       "  <tbody>\n",
       "    <tr>\n",
       "      <th>1200</th>\n",
       "      <td>southern_us</td>\n",
       "      <td>42945</td>\n",
       "      <td>[cream cheese, soften, toasted pecans, dried c...</td>\n",
       "      <td>[cream cheese soften, toasted pecans, dried cr...</td>\n",
       "    </tr>\n",
       "    <tr>\n",
       "      <th>1201</th>\n",
       "      <td>korean</td>\n",
       "      <td>23436</td>\n",
       "      <td>[soy sauce, all-purpose flour, red pepper, lar...</td>\n",
       "      <td>[soy sauce, all-purpose flour, red pepper, lar...</td>\n",
       "    </tr>\n",
       "    <tr>\n",
       "      <th>1202</th>\n",
       "      <td>irish</td>\n",
       "      <td>10150</td>\n",
       "      <td>[ground cinnamon, baking soda, all-purpose flo...</td>\n",
       "      <td>[ground cinnamon, baking soda, all-purpose flo...</td>\n",
       "    </tr>\n",
       "    <tr>\n",
       "      <th>1203</th>\n",
       "      <td>indian</td>\n",
       "      <td>14509</td>\n",
       "      <td>[tomato sauce, chicken, brown rice, plain yogu...</td>\n",
       "      <td>[tomato sauce, chicken, brown rice, plain yogu...</td>\n",
       "    </tr>\n",
       "    <tr>\n",
       "      <th>1204</th>\n",
       "      <td>indian</td>\n",
       "      <td>2487</td>\n",
       "      <td>[boneless chicken thighs, unsalted roasted pea...</td>\n",
       "      <td>[boneless chicken thighs, unsalted roasted pea...</td>\n",
       "    </tr>\n",
       "    <tr>\n",
       "      <th>1205</th>\n",
       "      <td>southern_us</td>\n",
       "      <td>43627</td>\n",
       "      <td>[fresh ginger, dark sesame oil, turnip greens,...</td>\n",
       "      <td>[fresh ginger, dark sesame oil, turnip greens,...</td>\n",
       "    </tr>\n",
       "  </tbody>\n",
       "</table>\n",
       "</div>"
      ],
      "text/plain": [
       "          cuisine     id                                        ingredients  \\\n",
       "1200  southern_us  42945  [cream cheese, soften, toasted pecans, dried c...   \n",
       "1201       korean  23436  [soy sauce, all-purpose flour, red pepper, lar...   \n",
       "1202        irish  10150  [ground cinnamon, baking soda, all-purpose flo...   \n",
       "1203       indian  14509  [tomato sauce, chicken, brown rice, plain yogu...   \n",
       "1204       indian   2487  [boneless chicken thighs, unsalted roasted pea...   \n",
       "1205  southern_us  43627  [fresh ginger, dark sesame oil, turnip greens,...   \n",
       "\n",
       "                                      ingredients_clean  \n",
       "1200  [cream cheese soften, toasted pecans, dried cr...  \n",
       "1201  [soy sauce, all-purpose flour, red pepper, lar...  \n",
       "1202  [ground cinnamon, baking soda, all-purpose flo...  \n",
       "1203  [tomato sauce, chicken, brown rice, plain yogu...  \n",
       "1204  [boneless chicken thighs, unsalted roasted pea...  \n",
       "1205  [fresh ginger, dark sesame oil, turnip greens,...  "
      ]
     },
     "execution_count": 9,
     "metadata": {},
     "output_type": "execute_result"
    }
   ],
   "source": [
    "train_df['ingredients_clean'] = [[item.split(',')[0].strip() for item in line] for line in train_df['ingredients_clean']] \n",
    "train_df[1200:1206]"
   ]
  },
  {
   "cell_type": "code",
   "execution_count": 10,
   "metadata": {
    "collapsed": false
   },
   "outputs": [
    {
     "data": {
      "text/html": [
       "<div>\n",
       "<table border=\"1\" class=\"dataframe\">\n",
       "  <thead>\n",
       "    <tr style=\"text-align: right;\">\n",
       "      <th></th>\n",
       "      <th>cuisine</th>\n",
       "      <th>id</th>\n",
       "      <th>ingredients</th>\n",
       "      <th>ingredients_clean</th>\n",
       "    </tr>\n",
       "  </thead>\n",
       "  <tbody>\n",
       "    <tr>\n",
       "      <th>20</th>\n",
       "      <td>thai</td>\n",
       "      <td>13121</td>\n",
       "      <td>[pork loin, roasted peanuts, chopped cilantro ...</td>\n",
       "      <td>[pork loin, roasted peanuts, chopped cilantro ...</td>\n",
       "    </tr>\n",
       "    <tr>\n",
       "      <th>21</th>\n",
       "      <td>mexican</td>\n",
       "      <td>40523</td>\n",
       "      <td>[roma tomatoes, kosher salt, purple onion, jal...</td>\n",
       "      <td>[roma tomatoes, kosher salt, purple onion, jal...</td>\n",
       "    </tr>\n",
       "    <tr>\n",
       "      <th>22</th>\n",
       "      <td>southern_us</td>\n",
       "      <td>40989</td>\n",
       "      <td>[low-fat mayonnaise, pepper, salt, baking pota...</td>\n",
       "      <td>[lowfat mayonnaise, pepper, salt, baking potat...</td>\n",
       "    </tr>\n",
       "    <tr>\n",
       "      <th>23</th>\n",
       "      <td>chinese</td>\n",
       "      <td>29630</td>\n",
       "      <td>[sesame seeds, red pepper, yellow peppers, wat...</td>\n",
       "      <td>[sesame seeds, red pepper, yellow peppers, wat...</td>\n",
       "    </tr>\n",
       "    <tr>\n",
       "      <th>24</th>\n",
       "      <td>italian</td>\n",
       "      <td>49136</td>\n",
       "      <td>[marinara sauce, flat leaf parsley, olive oil,...</td>\n",
       "      <td>[marinara sauce, flat leaf parsley, olive oil,...</td>\n",
       "    </tr>\n",
       "    <tr>\n",
       "      <th>25</th>\n",
       "      <td>chinese</td>\n",
       "      <td>26705</td>\n",
       "      <td>[sugar, lo mein noodles, salt, chicken broth, ...</td>\n",
       "      <td>[sugar, lo mein noodles, salt, chicken broth, ...</td>\n",
       "    </tr>\n",
       "  </tbody>\n",
       "</table>\n",
       "</div>"
      ],
      "text/plain": [
       "        cuisine     id                                        ingredients  \\\n",
       "20         thai  13121  [pork loin, roasted peanuts, chopped cilantro ...   \n",
       "21      mexican  40523  [roma tomatoes, kosher salt, purple onion, jal...   \n",
       "22  southern_us  40989  [low-fat mayonnaise, pepper, salt, baking pota...   \n",
       "23      chinese  29630  [sesame seeds, red pepper, yellow peppers, wat...   \n",
       "24      italian  49136  [marinara sauce, flat leaf parsley, olive oil,...   \n",
       "25      chinese  26705  [sugar, lo mein noodles, salt, chicken broth, ...   \n",
       "\n",
       "                                    ingredients_clean  \n",
       "20  [pork loin, roasted peanuts, chopped cilantro ...  \n",
       "21  [roma tomatoes, kosher salt, purple onion, jal...  \n",
       "22  [lowfat mayonnaise, pepper, salt, baking potat...  \n",
       "23  [sesame seeds, red pepper, yellow peppers, wat...  \n",
       "24  [marinara sauce, flat leaf parsley, olive oil,...  \n",
       "25  [sugar, lo mein noodles, salt, chicken broth, ...  "
      ]
     },
     "execution_count": 10,
     "metadata": {},
     "output_type": "execute_result"
    }
   ],
   "source": [
    "train_df['ingredients_clean'] = [[re.sub(r'low.*fat', 'lowfat', item).strip() for item in line] for line in train_df['ingredients_clean']]  \n",
    "train_df['ingredients_clean'] = [[re.sub(r'non.*fat', 'nonfat', item).strip() for item in line] for line in train_df['ingredients_clean']]  \n",
    "train_df['ingredients_clean'] = [[re.sub(r'reduced.*fat', 'reducedfat', item).strip() for item in line] for line in train_df['ingredients_clean']]\n",
    "train_df[20:26]"
   ]
  },
  {
   "cell_type": "code",
   "execution_count": 11,
   "metadata": {
    "collapsed": false
   },
   "outputs": [
    {
     "data": {
      "text/html": [
       "<div>\n",
       "<table border=\"1\" class=\"dataframe\">\n",
       "  <thead>\n",
       "    <tr style=\"text-align: right;\">\n",
       "      <th></th>\n",
       "      <th>cuisine</th>\n",
       "      <th>id</th>\n",
       "      <th>ingredients</th>\n",
       "      <th>ingredients_clean</th>\n",
       "    </tr>\n",
       "  </thead>\n",
       "  <tbody>\n",
       "    <tr>\n",
       "      <th>20</th>\n",
       "      <td>thai</td>\n",
       "      <td>13121</td>\n",
       "      <td>[pork loin, roasted peanuts, chopped cilantro ...</td>\n",
       "      <td>[pork loin, roasted peanuts, chopped cilantro ...</td>\n",
       "    </tr>\n",
       "    <tr>\n",
       "      <th>21</th>\n",
       "      <td>mexican</td>\n",
       "      <td>40523</td>\n",
       "      <td>[roma tomatoes, kosher salt, purple onion, jal...</td>\n",
       "      <td>[roma tomatoes, kosher salt, purple onion, jal...</td>\n",
       "    </tr>\n",
       "    <tr>\n",
       "      <th>22</th>\n",
       "      <td>southern_us</td>\n",
       "      <td>40989</td>\n",
       "      <td>[low-fat mayonnaise, pepper, salt, baking pota...</td>\n",
       "      <td>[mayonnaise, pepper, salt, baking potatoes, eg...</td>\n",
       "    </tr>\n",
       "    <tr>\n",
       "      <th>23</th>\n",
       "      <td>chinese</td>\n",
       "      <td>29630</td>\n",
       "      <td>[sesame seeds, red pepper, yellow peppers, wat...</td>\n",
       "      <td>[sesame seeds, red pepper, yellow peppers, wat...</td>\n",
       "    </tr>\n",
       "    <tr>\n",
       "      <th>24</th>\n",
       "      <td>italian</td>\n",
       "      <td>49136</td>\n",
       "      <td>[marinara sauce, flat leaf parsley, olive oil,...</td>\n",
       "      <td>[marinara sauce, flat leaf parsley, olive oil,...</td>\n",
       "    </tr>\n",
       "    <tr>\n",
       "      <th>25</th>\n",
       "      <td>chinese</td>\n",
       "      <td>26705</td>\n",
       "      <td>[sugar, lo mein noodles, salt, chicken broth, ...</td>\n",
       "      <td>[sugar, lo mein noodles, salt, chicken broth, ...</td>\n",
       "    </tr>\n",
       "  </tbody>\n",
       "</table>\n",
       "</div>"
      ],
      "text/plain": [
       "        cuisine     id                                        ingredients  \\\n",
       "20         thai  13121  [pork loin, roasted peanuts, chopped cilantro ...   \n",
       "21      mexican  40523  [roma tomatoes, kosher salt, purple onion, jal...   \n",
       "22  southern_us  40989  [low-fat mayonnaise, pepper, salt, baking pota...   \n",
       "23      chinese  29630  [sesame seeds, red pepper, yellow peppers, wat...   \n",
       "24      italian  49136  [marinara sauce, flat leaf parsley, olive oil,...   \n",
       "25      chinese  26705  [sugar, lo mein noodles, salt, chicken broth, ...   \n",
       "\n",
       "                                    ingredients_clean  \n",
       "20  [pork loin, roasted peanuts, chopped cilantro ...  \n",
       "21  [roma tomatoes, kosher salt, purple onion, jal...  \n",
       "22  [mayonnaise, pepper, salt, baking potatoes, eg...  \n",
       "23  [sesame seeds, red pepper, yellow peppers, wat...  \n",
       "24  [marinara sauce, flat leaf parsley, olive oil,...  \n",
       "25  [sugar, lo mein noodles, salt, chicken broth, ...  "
      ]
     },
     "execution_count": 11,
     "metadata": {},
     "output_type": "execute_result"
    }
   ],
   "source": [
    "train_df['ingredients_clean'] = [[re.sub(r'(lowfat)|(reducedfat)|(nonfat)', '', item).strip() for item in line] for line in train_df['ingredients_clean']]  \n",
    "train_df[20:26]"
   ]
  },
  {
   "cell_type": "code",
   "execution_count": 12,
   "metadata": {
    "collapsed": false
   },
   "outputs": [
    {
     "data": {
      "text/html": [
       "<div>\n",
       "<table border=\"1\" class=\"dataframe\">\n",
       "  <thead>\n",
       "    <tr style=\"text-align: right;\">\n",
       "      <th></th>\n",
       "      <th>cuisine</th>\n",
       "      <th>id</th>\n",
       "      <th>ingredients</th>\n",
       "      <th>ingredients_clean</th>\n",
       "    </tr>\n",
       "  </thead>\n",
       "  <tbody>\n",
       "    <tr>\n",
       "      <th>940</th>\n",
       "      <td>japanese</td>\n",
       "      <td>4734</td>\n",
       "      <td>[sushi rice]</td>\n",
       "      <td>[sushi rice]</td>\n",
       "    </tr>\n",
       "    <tr>\n",
       "      <th>941</th>\n",
       "      <td>mexican</td>\n",
       "      <td>1972</td>\n",
       "      <td>[pepper, dried pinto beans, chopped cilantro, ...</td>\n",
       "      <td>[pepper, dried pinto beans, chopped cilantro, ...</td>\n",
       "    </tr>\n",
       "    <tr>\n",
       "      <th>942</th>\n",
       "      <td>mexican</td>\n",
       "      <td>27995</td>\n",
       "      <td>[ground chipotle chile pepper, salsa verde, bu...</td>\n",
       "      <td>[ground chipotle chile pepper, salsa verde, bu...</td>\n",
       "    </tr>\n",
       "    <tr>\n",
       "      <th>943</th>\n",
       "      <td>mexican</td>\n",
       "      <td>40555</td>\n",
       "      <td>[all-purpose flour, jalapeno chilies, chopped ...</td>\n",
       "      <td>[flour, jalapeno chilies, chopped cilantro fre...</td>\n",
       "    </tr>\n",
       "    <tr>\n",
       "      <th>944</th>\n",
       "      <td>spanish</td>\n",
       "      <td>25506</td>\n",
       "      <td>[olive oil, garlic, onions, pepper, diced toma...</td>\n",
       "      <td>[olive oil, garlic, onions, pepper, diced toma...</td>\n",
       "    </tr>\n",
       "    <tr>\n",
       "      <th>945</th>\n",
       "      <td>southern_us</td>\n",
       "      <td>45401</td>\n",
       "      <td>[granulated sugar, butter, cornmeal, firmly pa...</td>\n",
       "      <td>[granulated sugar, butter, cornmeal, firmly pa...</td>\n",
       "    </tr>\n",
       "  </tbody>\n",
       "</table>\n",
       "</div>"
      ],
      "text/plain": [
       "         cuisine     id                                        ingredients  \\\n",
       "940     japanese   4734                                       [sushi rice]   \n",
       "941      mexican   1972  [pepper, dried pinto beans, chopped cilantro, ...   \n",
       "942      mexican  27995  [ground chipotle chile pepper, salsa verde, bu...   \n",
       "943      mexican  40555  [all-purpose flour, jalapeno chilies, chopped ...   \n",
       "944      spanish  25506  [olive oil, garlic, onions, pepper, diced toma...   \n",
       "945  southern_us  45401  [granulated sugar, butter, cornmeal, firmly pa...   \n",
       "\n",
       "                                     ingredients_clean  \n",
       "940                                       [sushi rice]  \n",
       "941  [pepper, dried pinto beans, chopped cilantro, ...  \n",
       "942  [ground chipotle chile pepper, salsa verde, bu...  \n",
       "943  [flour, jalapeno chilies, chopped cilantro fre...  \n",
       "944  [olive oil, garlic, onions, pepper, diced toma...  \n",
       "945  [granulated sugar, butter, cornmeal, firmly pa...  "
      ]
     },
     "execution_count": 12,
     "metadata": {},
     "output_type": "execute_result"
    }
   ],
   "source": [
    "train_df['ingredients_clean'] = [[re.sub(r'^all.*purpose ', '', item).strip() for item in line] for line in train_df['ingredients_clean']] \n",
    "train_df[940:946]"
   ]
  },
  {
   "cell_type": "code",
   "execution_count": 13,
   "metadata": {
    "collapsed": false
   },
   "outputs": [
    {
     "data": {
      "text/html": [
       "<div>\n",
       "<table border=\"1\" class=\"dataframe\">\n",
       "  <thead>\n",
       "    <tr style=\"text-align: right;\">\n",
       "      <th></th>\n",
       "      <th>cuisine</th>\n",
       "      <th>id</th>\n",
       "      <th>ingredients</th>\n",
       "      <th>ingredients_clean</th>\n",
       "    </tr>\n",
       "  </thead>\n",
       "  <tbody>\n",
       "    <tr>\n",
       "      <th>285</th>\n",
       "      <td>italian</td>\n",
       "      <td>45423</td>\n",
       "      <td>[(    oz.) tomato sauce, ground veal, sliced m...</td>\n",
       "      <td>[tomato sauce, ground veal, sliced mushrooms, ...</td>\n",
       "    </tr>\n",
       "    <tr>\n",
       "      <th>286</th>\n",
       "      <td>italian</td>\n",
       "      <td>31462</td>\n",
       "      <td>[solid pack pumpkin, dry white wine, corn star...</td>\n",
       "      <td>[solid pack pumpkin, dry white wine, corn star...</td>\n",
       "    </tr>\n",
       "    <tr>\n",
       "      <th>287</th>\n",
       "      <td>italian</td>\n",
       "      <td>45412</td>\n",
       "      <td>[fresh rosemary, fresh thyme leaves, flat leaf...</td>\n",
       "      <td>[fresh rosemary, fresh thyme leaves, flat leaf...</td>\n",
       "    </tr>\n",
       "    <tr>\n",
       "      <th>288</th>\n",
       "      <td>chinese</td>\n",
       "      <td>33048</td>\n",
       "      <td>[black pepper, whole grain thin spaghetti, sca...</td>\n",
       "      <td>[black pepper, whole grain thin spaghetti, sca...</td>\n",
       "    </tr>\n",
       "    <tr>\n",
       "      <th>289</th>\n",
       "      <td>italian</td>\n",
       "      <td>42879</td>\n",
       "      <td>[pistachios, salt, dried cherry, butter, large...</td>\n",
       "      <td>[pistachios, salt, dried cherry, butter, large...</td>\n",
       "    </tr>\n",
       "    <tr>\n",
       "      <th>290</th>\n",
       "      <td>thai</td>\n",
       "      <td>6164</td>\n",
       "      <td>[water, green onions, galangal, fish sauce, pe...</td>\n",
       "      <td>[water, green onions, galangal, fish sauce, pe...</td>\n",
       "    </tr>\n",
       "  </tbody>\n",
       "</table>\n",
       "</div>"
      ],
      "text/plain": [
       "     cuisine     id                                        ingredients  \\\n",
       "285  italian  45423  [(    oz.) tomato sauce, ground veal, sliced m...   \n",
       "286  italian  31462  [solid pack pumpkin, dry white wine, corn star...   \n",
       "287  italian  45412  [fresh rosemary, fresh thyme leaves, flat leaf...   \n",
       "288  chinese  33048  [black pepper, whole grain thin spaghetti, sca...   \n",
       "289  italian  42879  [pistachios, salt, dried cherry, butter, large...   \n",
       "290     thai   6164  [water, green onions, galangal, fish sauce, pe...   \n",
       "\n",
       "                                     ingredients_clean  \n",
       "285  [tomato sauce, ground veal, sliced mushrooms, ...  \n",
       "286  [solid pack pumpkin, dry white wine, corn star...  \n",
       "287  [fresh rosemary, fresh thyme leaves, flat leaf...  \n",
       "288  [black pepper, whole grain thin spaghetti, sca...  \n",
       "289  [pistachios, salt, dried cherry, butter, large...  \n",
       "290  [water, green onions, galangal, fish sauce, pe...  "
      ]
     },
     "execution_count": 13,
     "metadata": {},
     "output_type": "execute_result"
    }
   ],
   "source": [
    "train_df['ingredients_clean'] = [[re.sub(r'[0-9]+ ounc\\s', '', item.strip()) for item in line] for line in train_df['ingredients_clean']]  \n",
    "train_df['ingredients_clean'] = [[re.sub(r'.*lb. ', '', item.strip()) for item in line] for line in train_df['ingredients_clean']]  \n",
    "train_df['ingredients_clean'] = [[re.sub(r'.*% ', '', item.strip()) for item in line] for line in train_df['ingredients_clean']]  \n",
    "\n",
    "train_df[285:291]"
   ]
  },
  {
   "cell_type": "code",
   "execution_count": null,
   "metadata": {
    "collapsed": false
   },
   "outputs": [
    {
     "name": "stdout",
     "output_type": "stream",
     "text": [
      "showing info https://raw.githubusercontent.com/nltk/nltk_data/gh-pages/index.xml\n"
     ]
    }
   ],
   "source": [
    "#http://www.nltk.org\n",
    "import nltk\n",
    "nltk.download()"
   ]
  },
  {
   "cell_type": "code",
   "execution_count": 14,
   "metadata": {
    "collapsed": true
   },
   "outputs": [],
   "source": [
    "#http://stackoverflow.com/questions/25534214/nltk-wordnet-lemmatizer-shouldnt-it-lemmatize-all-inflections-of-a-word\n",
    "from nltk.stem import WordNetLemmatizer\n",
    "from nltk.stem.porter import PorterStemmer\n",
    "from sklearn.feature_extraction.text import TfidfVectorizer\n",
    "from sklearn import grid_search"
   ]
  },
  {
   "cell_type": "code",
   "execution_count": 15,
   "metadata": {
    "collapsed": false
   },
   "outputs": [
    {
     "data": {
      "text/html": [
       "<div>\n",
       "<table border=\"1\" class=\"dataframe\">\n",
       "  <thead>\n",
       "    <tr style=\"text-align: right;\">\n",
       "      <th></th>\n",
       "      <th>cuisine</th>\n",
       "      <th>id</th>\n",
       "      <th>ingredients</th>\n",
       "      <th>ingredients_clean</th>\n",
       "      <th>ingredients_clean_lem</th>\n",
       "    </tr>\n",
       "  </thead>\n",
       "  <tbody>\n",
       "    <tr>\n",
       "      <th>0</th>\n",
       "      <td>greek</td>\n",
       "      <td>10259</td>\n",
       "      <td>[romaine lettuce, black olives, grape tomatoes...</td>\n",
       "      <td>[romaine lettuce, black olives, grape tomatoes...</td>\n",
       "      <td>[romaine lettuce, black olives, grape tomatoes...</td>\n",
       "    </tr>\n",
       "    <tr>\n",
       "      <th>1</th>\n",
       "      <td>southern_us</td>\n",
       "      <td>25693</td>\n",
       "      <td>[plain flour, ground pepper, salt, tomatoes, g...</td>\n",
       "      <td>[plain flour, ground pepper, salt, tomatoes, g...</td>\n",
       "      <td>[plain flour, ground pepper, salt, tomato, gro...</td>\n",
       "    </tr>\n",
       "    <tr>\n",
       "      <th>2</th>\n",
       "      <td>filipino</td>\n",
       "      <td>20130</td>\n",
       "      <td>[eggs, pepper, salt, mayonaise, cooking oil, g...</td>\n",
       "      <td>[eggs, pepper, salt, mayonaise, cooking oil, g...</td>\n",
       "      <td>[egg, pepper, salt, mayonaise, cooking oil, gr...</td>\n",
       "    </tr>\n",
       "    <tr>\n",
       "      <th>3</th>\n",
       "      <td>indian</td>\n",
       "      <td>22213</td>\n",
       "      <td>[water, vegetable oil, wheat, salt]</td>\n",
       "      <td>[water, vegetable oil, wheat, salt]</td>\n",
       "      <td>[water, vegetable oil, wheat, salt]</td>\n",
       "    </tr>\n",
       "    <tr>\n",
       "      <th>4</th>\n",
       "      <td>indian</td>\n",
       "      <td>13162</td>\n",
       "      <td>[black pepper, shallots, cornflour, cayenne pe...</td>\n",
       "      <td>[black pepper, shallots, cornflour, cayenne pe...</td>\n",
       "      <td>[black pepper, shallot, cornflour, cayenne pep...</td>\n",
       "    </tr>\n",
       "  </tbody>\n",
       "</table>\n",
       "</div>"
      ],
      "text/plain": [
       "       cuisine     id                                        ingredients  \\\n",
       "0        greek  10259  [romaine lettuce, black olives, grape tomatoes...   \n",
       "1  southern_us  25693  [plain flour, ground pepper, salt, tomatoes, g...   \n",
       "2     filipino  20130  [eggs, pepper, salt, mayonaise, cooking oil, g...   \n",
       "3       indian  22213                [water, vegetable oil, wheat, salt]   \n",
       "4       indian  13162  [black pepper, shallots, cornflour, cayenne pe...   \n",
       "\n",
       "                                   ingredients_clean  \\\n",
       "0  [romaine lettuce, black olives, grape tomatoes...   \n",
       "1  [plain flour, ground pepper, salt, tomatoes, g...   \n",
       "2  [eggs, pepper, salt, mayonaise, cooking oil, g...   \n",
       "3                [water, vegetable oil, wheat, salt]   \n",
       "4  [black pepper, shallots, cornflour, cayenne pe...   \n",
       "\n",
       "                               ingredients_clean_lem  \n",
       "0  [romaine lettuce, black olives, grape tomatoes...  \n",
       "1  [plain flour, ground pepper, salt, tomato, gro...  \n",
       "2  [egg, pepper, salt, mayonaise, cooking oil, gr...  \n",
       "3                [water, vegetable oil, wheat, salt]  \n",
       "4  [black pepper, shallot, cornflour, cayenne pep...  "
      ]
     },
     "execution_count": 15,
     "metadata": {},
     "output_type": "execute_result"
    }
   ],
   "source": [
    "train_df['ingredients_clean_lem'] = [[WordNetLemmatizer().lemmatize(item) for item in line] for line in train_df['ingredients']]\n",
    "train_df[:5]"
   ]
  },
  {
   "cell_type": "code",
   "execution_count": 16,
   "metadata": {
    "collapsed": false
   },
   "outputs": [
    {
     "data": {
      "text/html": [
       "<div>\n",
       "<table border=\"1\" class=\"dataframe\">\n",
       "  <thead>\n",
       "    <tr style=\"text-align: right;\">\n",
       "      <th></th>\n",
       "      <th>cuisine</th>\n",
       "      <th>id</th>\n",
       "      <th>ingredients</th>\n",
       "      <th>ingredients_clean</th>\n",
       "      <th>ingredients_clean_lem</th>\n",
       "      <th>ingredients_clean_stem</th>\n",
       "    </tr>\n",
       "  </thead>\n",
       "  <tbody>\n",
       "    <tr>\n",
       "      <th>0</th>\n",
       "      <td>greek</td>\n",
       "      <td>10259</td>\n",
       "      <td>[romaine lettuce, black olives, grape tomatoes...</td>\n",
       "      <td>[romaine lettuce, black olives, grape tomatoes...</td>\n",
       "      <td>[romaine lettuce, black olives, grape tomatoes...</td>\n",
       "      <td>[romaine lettuc, black ol, grape tomato, garli...</td>\n",
       "    </tr>\n",
       "    <tr>\n",
       "      <th>1</th>\n",
       "      <td>southern_us</td>\n",
       "      <td>25693</td>\n",
       "      <td>[plain flour, ground pepper, salt, tomatoes, g...</td>\n",
       "      <td>[plain flour, ground pepper, salt, tomatoes, g...</td>\n",
       "      <td>[plain flour, ground pepper, salt, tomato, gro...</td>\n",
       "      <td>[plain flour, ground pepp, salt, tomato, groun...</td>\n",
       "    </tr>\n",
       "    <tr>\n",
       "      <th>2</th>\n",
       "      <td>filipino</td>\n",
       "      <td>20130</td>\n",
       "      <td>[eggs, pepper, salt, mayonaise, cooking oil, g...</td>\n",
       "      <td>[eggs, pepper, salt, mayonaise, cooking oil, g...</td>\n",
       "      <td>[egg, pepper, salt, mayonaise, cooking oil, gr...</td>\n",
       "      <td>[egg, pepper, salt, mayonais, cooking oil, gre...</td>\n",
       "    </tr>\n",
       "    <tr>\n",
       "      <th>3</th>\n",
       "      <td>indian</td>\n",
       "      <td>22213</td>\n",
       "      <td>[water, vegetable oil, wheat, salt]</td>\n",
       "      <td>[water, vegetable oil, wheat, salt]</td>\n",
       "      <td>[water, vegetable oil, wheat, salt]</td>\n",
       "      <td>[water, vegetable oil, wheat, salt]</td>\n",
       "    </tr>\n",
       "    <tr>\n",
       "      <th>4</th>\n",
       "      <td>indian</td>\n",
       "      <td>13162</td>\n",
       "      <td>[black pepper, shallots, cornflour, cayenne pe...</td>\n",
       "      <td>[black pepper, shallots, cornflour, cayenne pe...</td>\n",
       "      <td>[black pepper, shallot, cornflour, cayenne pep...</td>\n",
       "      <td>[black pepp, shallot, cornflour, cayenne pepp,...</td>\n",
       "    </tr>\n",
       "  </tbody>\n",
       "</table>\n",
       "</div>"
      ],
      "text/plain": [
       "       cuisine     id                                        ingredients  \\\n",
       "0        greek  10259  [romaine lettuce, black olives, grape tomatoes...   \n",
       "1  southern_us  25693  [plain flour, ground pepper, salt, tomatoes, g...   \n",
       "2     filipino  20130  [eggs, pepper, salt, mayonaise, cooking oil, g...   \n",
       "3       indian  22213                [water, vegetable oil, wheat, salt]   \n",
       "4       indian  13162  [black pepper, shallots, cornflour, cayenne pe...   \n",
       "\n",
       "                                   ingredients_clean  \\\n",
       "0  [romaine lettuce, black olives, grape tomatoes...   \n",
       "1  [plain flour, ground pepper, salt, tomatoes, g...   \n",
       "2  [eggs, pepper, salt, mayonaise, cooking oil, g...   \n",
       "3                [water, vegetable oil, wheat, salt]   \n",
       "4  [black pepper, shallots, cornflour, cayenne pe...   \n",
       "\n",
       "                               ingredients_clean_lem  \\\n",
       "0  [romaine lettuce, black olives, grape tomatoes...   \n",
       "1  [plain flour, ground pepper, salt, tomato, gro...   \n",
       "2  [egg, pepper, salt, mayonaise, cooking oil, gr...   \n",
       "3                [water, vegetable oil, wheat, salt]   \n",
       "4  [black pepper, shallot, cornflour, cayenne pep...   \n",
       "\n",
       "                              ingredients_clean_stem  \n",
       "0  [romaine lettuc, black ol, grape tomato, garli...  \n",
       "1  [plain flour, ground pepp, salt, tomato, groun...  \n",
       "2  [egg, pepper, salt, mayonais, cooking oil, gre...  \n",
       "3                [water, vegetable oil, wheat, salt]  \n",
       "4  [black pepp, shallot, cornflour, cayenne pepp,...  "
      ]
     },
     "execution_count": 16,
     "metadata": {},
     "output_type": "execute_result"
    }
   ],
   "source": [
    "train_df['ingredients_clean_stem'] = [[PorterStemmer().stem(item) for item in line] for line in train_df['ingredients']]   \n",
    "train_df[:5]"
   ]
  },
  {
   "cell_type": "code",
   "execution_count": 29,
   "metadata": {
    "collapsed": true
   },
   "outputs": [],
   "source": [
    "from collections import Counter\n",
    "import json\n",
    "\n",
    "def load_data_as_lists(filename):\n",
    "    with open(filename) as data_file:    \n",
    "        data = json.load(data_file)\n",
    "        \n",
    "    ids, cuisines, ingredients = [], [], []\n",
    "    for i in range(len(data)):\n",
    "        ids.append(data[i]['id'])\n",
    "        cuisines.append(data[i]['cuisine'])\n",
    "        for j in range(len(data[i]['ingredients'])):\n",
    "            ingredients.append(data[i]['ingredients'][j])\n",
    "                \n",
    "    return ids, cuisines, ingredients"
   ]
  },
  {
   "cell_type": "code",
   "execution_count": 81,
   "metadata": {
    "collapsed": false
   },
   "outputs": [],
   "source": [
    "ids, cuisines, ingredients = load_data_as_lists('train.json')"
   ]
  },
  {
   "cell_type": "code",
   "execution_count": 105,
   "metadata": {
    "collapsed": false
   },
   "outputs": [
    {
     "data": {
      "text/plain": [
       "salt         18049\n",
       "onions        7972\n",
       "olive oil     7972\n",
       "water         7457\n",
       "garlic        7380\n",
       "dtype: int64"
      ]
     },
     "execution_count": 105,
     "metadata": {},
     "output_type": "execute_result"
    }
   ],
   "source": [
    "ingredients_series = pd.Series(ingredients)\n",
    "ingredients_series_u = ingredients_series.str.encode('utf-8', errors='strict')\n",
    "ingredients_vc = ingredients_series_u.value_counts()\n",
    "ingredients_vc[:5]"
   ]
  },
  {
   "cell_type": "code",
   "execution_count": 106,
   "metadata": {
    "collapsed": false
   },
   "outputs": [],
   "source": [
    "threshold = 10000 # Anything greater than the threshold will be removed\n",
    "\n",
    "to_remove = ingredients_vc[ingredients_vc >= threshold].index\n",
    "ingredients_series_u.replace(to_remove, np.nan, inplace=True)"
   ]
  },
  {
   "cell_type": "code",
   "execution_count": 107,
   "metadata": {
    "collapsed": false
   },
   "outputs": [
    {
     "data": {
      "text/plain": [
       "salt         18049\n",
       "onions        7972\n",
       "olive oil     7972\n",
       "water         7457\n",
       "garlic        7380\n",
       "dtype: int64"
      ]
     },
     "execution_count": 107,
     "metadata": {},
     "output_type": "execute_result"
    }
   ],
   "source": [
    "ingredients_vc[:5]"
   ]
  },
  {
   "cell_type": "code",
   "execution_count": 108,
   "metadata": {
    "collapsed": true
   },
   "outputs": [],
   "source": [
    "ingredients_series_u.replace(to_remove, 0, inplace=True)"
   ]
  },
  {
   "cell_type": "code",
   "execution_count": 110,
   "metadata": {
    "collapsed": false
   },
   "outputs": [],
   "source": [
    "ingredients_vc = ingredients_vc.drop(to_remove[0])"
   ]
  },
  {
   "cell_type": "code",
   "execution_count": 111,
   "metadata": {
    "collapsed": false
   },
   "outputs": [
    {
     "data": {
      "text/plain": [
       "onions       7972\n",
       "olive oil    7972\n",
       "water        7457\n",
       "garlic       7380\n",
       "sugar        6434\n",
       "dtype: int64"
      ]
     },
     "execution_count": 111,
     "metadata": {},
     "output_type": "execute_result"
    }
   ],
   "source": [
    "ingredients_vc[:5]"
   ]
  },
  {
   "cell_type": "code",
   "execution_count": null,
   "metadata": {
    "collapsed": true
   },
   "outputs": [],
   "source": []
  }
 ],
 "metadata": {
  "kernelspec": {
   "display_name": "Python 2",
   "language": "python",
   "name": "python2"
  },
  "language_info": {
   "codemirror_mode": {
    "name": "ipython",
    "version": 2
   },
   "file_extension": ".py",
   "mimetype": "text/x-python",
   "name": "python",
   "nbconvert_exporter": "python",
   "pygments_lexer": "ipython2",
   "version": "2.7.11"
  }
 },
 "nbformat": 4,
 "nbformat_minor": 0
}
